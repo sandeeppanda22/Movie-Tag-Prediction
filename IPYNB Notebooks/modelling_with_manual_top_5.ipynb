{
  "nbformat": 4,
  "nbformat_minor": 0,
  "metadata": {
    "kernelspec": {
      "display_name": "Python 3",
      "language": "python",
      "name": "python3"
    },
    "language_info": {
      "codemirror_mode": {
        "name": "ipython",
        "version": 3
      },
      "file_extension": ".py",
      "mimetype": "text/x-python",
      "name": "python",
      "nbconvert_exporter": "python",
      "pygments_lexer": "ipython3",
      "version": "3.7.6"
    },
    "colab": {
      "name": "modelling_with_manual_top_5.ipynb",
      "provenance": []
    },
    "accelerator": "GPU"
  },
  "cells": [
    {
      "cell_type": "code",
      "metadata": {
        "scrolled": false,
        "id": "tujl1pAmI7YH",
        "colab_type": "code",
        "outputId": "2b0c049f-d2e1-4df7-e5c9-f33105398669",
        "colab": {
          "base_uri": "https://localhost:8080/",
          "height": 255
        }
      },
      "source": [
        "!pip install scikit-multilearn\n",
        "\n",
        "import re\n",
        "import os\n",
        "import tqdm\n",
        "import nltk\n",
        "import pickle\n",
        "import sqlite3\n",
        "import warnings\n",
        "import numpy as np\n",
        "import pandas as pd\n",
        "from tqdm import tqdm\n",
        "import seaborn as sns\n",
        "import xgboost as xgb\n",
        "import tensorflow as tf\n",
        "from sklearn import metrics\n",
        "from tensorflow import keras\n",
        "from nltk.corpus import words\n",
        "from datetime import datetime\n",
        "from bs4 import BeautifulSoup\n",
        "from wordcloud import WordCloud\n",
        "import matplotlib.pyplot as plt\n",
        "from nltk.corpus import stopwords\n",
        "from gensim.models import Word2Vec\n",
        "from itertools import combinations\n",
        "from keras.models import load_model\n",
        "from keras.models import Sequential\n",
        "from tensorflow.keras import layers\n",
        "from nltk.stem import SnowballStemmer\n",
        "from sklearn.pipeline import Pipeline\n",
        "from nltk.tokenize import sent_tokenize\n",
        "from keras.preprocessing import sequence\n",
        "from scipy.sparse import coo_matrix, hstack\n",
        "from tensorflow.keras.utils import plot_model\n",
        "from keras.layers.embeddings import Embedding\n",
        "from sklearn.naive_bayes import MultinomialNB\n",
        "from sklearn.linear_model import SGDClassifier\n",
        "from sklearn.model_selection import GridSearchCV\n",
        "from sklearn.metrics import classification_report\n",
        "from sklearn.multiclass import OneVsRestClassifier\n",
        "from sklearn.linear_model import LogisticRegression\n",
        "from sklearn.preprocessing import MultiLabelBinarizer\n",
        "from sklearn.model_selection import RandomizedSearchCV\n",
        "from skmultilearn.problem_transform import BinaryRelevance\n",
        "from sklearn.feature_extraction.text import CountVectorizer, TfidfVectorizer\n",
        "from sklearn.metrics import f1_score,precision_score,recall_score,hamming_loss\n",
        "from keras.layers import Conv1D, Conv2D, Dense, Dropout, Flatten, LSTM, GlobalMaxPooling1D, MaxPooling2D, Activation, BatchNormalization\n",
        "\n",
        "%matplotlib inline\n",
        "nltk.download('punkt')\n",
        "nltk.download('wordnet')\n",
        "warnings.filterwarnings(\"ignore\")\n",
        "stemmer = SnowballStemmer('english')\n",
        "\n",
        "%autosave 120"
      ],
      "execution_count": 2,
      "outputs": [
        {
          "output_type": "stream",
          "text": [
            "Collecting scikit-multilearn\n",
            "\u001b[?25l  Downloading https://files.pythonhosted.org/packages/bb/1f/e6ff649c72a1cdf2c7a1d31eb21705110ce1c5d3e7e26b2cc300e1637272/scikit_multilearn-0.2.0-py3-none-any.whl (89kB)\n",
            "\u001b[K     |████████████████████████████████| 92kB 2.3MB/s \n",
            "\u001b[?25hInstalling collected packages: scikit-multilearn\n",
            "Successfully installed scikit-multilearn-0.2.0\n"
          ],
          "name": "stdout"
        },
        {
          "output_type": "stream",
          "text": [
            "/usr/local/lib/python3.6/dist-packages/statsmodels/tools/_testing.py:19: FutureWarning: pandas.util.testing is deprecated. Use the functions in the public API at pandas.testing instead.\n",
            "  import pandas.util.testing as tm\n",
            "Using TensorFlow backend.\n"
          ],
          "name": "stderr"
        },
        {
          "output_type": "stream",
          "text": [
            "[nltk_data] Downloading package punkt to /root/nltk_data...\n",
            "[nltk_data]   Unzipping tokenizers/punkt.zip.\n",
            "[nltk_data] Downloading package wordnet to /root/nltk_data...\n",
            "[nltk_data]   Unzipping corpora/wordnet.zip.\n"
          ],
          "name": "stdout"
        },
        {
          "output_type": "display_data",
          "data": {
            "application/javascript": [
              "IPython.notebook.set_autosave_interval(120000)"
            ]
          },
          "metadata": {
            "tags": []
          }
        },
        {
          "output_type": "stream",
          "text": [
            "Autosaving every 120 seconds\n"
          ],
          "name": "stdout"
        }
      ]
    },
    {
      "cell_type": "code",
      "metadata": {
        "id": "UT-PdduvI7YN",
        "colab_type": "code",
        "outputId": "ca55ac9b-ae17-46f5-a368-411ed9b62313",
        "colab": {
          "base_uri": "https://localhost:8080/",
          "height": 546
        }
      },
      "source": [
        "data = pd.read_csv(\"/content/drive/My Drive/ML/data_with_top_30.csv\")\n",
        "data.head(5)"
      ],
      "execution_count": 3,
      "outputs": [
        {
          "output_type": "execute_result",
          "data": {
            "text/html": [
              "<div>\n",
              "<style scoped>\n",
              "    .dataframe tbody tr th:only-of-type {\n",
              "        vertical-align: middle;\n",
              "    }\n",
              "\n",
              "    .dataframe tbody tr th {\n",
              "        vertical-align: top;\n",
              "    }\n",
              "\n",
              "    .dataframe thead th {\n",
              "        text-align: right;\n",
              "    }\n",
              "</style>\n",
              "<table border=\"1\" class=\"dataframe\">\n",
              "  <thead>\n",
              "    <tr style=\"text-align: right;\">\n",
              "      <th></th>\n",
              "      <th>title</th>\n",
              "      <th>plot_synopsis</th>\n",
              "      <th>tags</th>\n",
              "      <th>split</th>\n",
              "      <th>synopsis_source</th>\n",
              "      <th>cnt_dup</th>\n",
              "      <th>tag_count</th>\n",
              "      <th>synopsis_count</th>\n",
              "      <th>synopsis_sent_count</th>\n",
              "      <th>CleanedSynopsis</th>\n",
              "      <th>absurd</th>\n",
              "      <th>action</th>\n",
              "      <th>adult comedy</th>\n",
              "      <th>allegory</th>\n",
              "      <th>alternate history</th>\n",
              "      <th>alternate reality</th>\n",
              "      <th>anti war</th>\n",
              "      <th>atmospheric</th>\n",
              "      <th>autobiographical</th>\n",
              "      <th>avant garde</th>\n",
              "      <th>blaxploitation</th>\n",
              "      <th>bleak</th>\n",
              "      <th>boring</th>\n",
              "      <th>brainwashing</th>\n",
              "      <th>christian film</th>\n",
              "      <th>claustrophobic</th>\n",
              "      <th>clever</th>\n",
              "      <th>comedy</th>\n",
              "      <th>comic</th>\n",
              "      <th>cruelty</th>\n",
              "      <th>cult</th>\n",
              "      <th>cute</th>\n",
              "      <th>dark</th>\n",
              "      <th>depressing</th>\n",
              "      <th>dramatic</th>\n",
              "      <th>entertaining</th>\n",
              "      <th>fantasy</th>\n",
              "      <th>feel-good</th>\n",
              "      <th>flashback</th>\n",
              "      <th>good versus evil</th>\n",
              "      <th>...</th>\n",
              "      <th>grindhouse film</th>\n",
              "      <th>haunting</th>\n",
              "      <th>historical</th>\n",
              "      <th>historical fiction</th>\n",
              "      <th>home movie</th>\n",
              "      <th>horror</th>\n",
              "      <th>humor</th>\n",
              "      <th>insanity</th>\n",
              "      <th>inspiring</th>\n",
              "      <th>intrigue</th>\n",
              "      <th>magical realism</th>\n",
              "      <th>melodrama</th>\n",
              "      <th>murder</th>\n",
              "      <th>mystery</th>\n",
              "      <th>neo noir</th>\n",
              "      <th>non fiction</th>\n",
              "      <th>paranormal</th>\n",
              "      <th>philosophical</th>\n",
              "      <th>plot twist</th>\n",
              "      <th>pornographic</th>\n",
              "      <th>prank</th>\n",
              "      <th>psychedelic</th>\n",
              "      <th>psychological</th>\n",
              "      <th>queer</th>\n",
              "      <th>realism</th>\n",
              "      <th>revenge</th>\n",
              "      <th>romantic</th>\n",
              "      <th>sadist</th>\n",
              "      <th>satire</th>\n",
              "      <th>sci-fi</th>\n",
              "      <th>sentimental</th>\n",
              "      <th>storytelling</th>\n",
              "      <th>stupid</th>\n",
              "      <th>suicidal</th>\n",
              "      <th>suspenseful</th>\n",
              "      <th>thought-provoking</th>\n",
              "      <th>tragedy</th>\n",
              "      <th>violence</th>\n",
              "      <th>western</th>\n",
              "      <th>whimsical</th>\n",
              "    </tr>\n",
              "  </thead>\n",
              "  <tbody>\n",
              "    <tr>\n",
              "      <th>0</th>\n",
              "      <td>$</td>\n",
              "      <td>Set in Hamburg, West Germany, several criminal...</td>\n",
              "      <td>murder</td>\n",
              "      <td>test</td>\n",
              "      <td>imdb</td>\n",
              "      <td>1</td>\n",
              "      <td>1</td>\n",
              "      <td>648</td>\n",
              "      <td>26</td>\n",
              "      <td>set hamburg west germani sever crimin take adv...</td>\n",
              "      <td>0</td>\n",
              "      <td>0</td>\n",
              "      <td>0</td>\n",
              "      <td>0</td>\n",
              "      <td>0</td>\n",
              "      <td>0</td>\n",
              "      <td>0</td>\n",
              "      <td>0</td>\n",
              "      <td>0</td>\n",
              "      <td>0</td>\n",
              "      <td>0</td>\n",
              "      <td>0</td>\n",
              "      <td>0</td>\n",
              "      <td>0</td>\n",
              "      <td>0</td>\n",
              "      <td>0</td>\n",
              "      <td>0</td>\n",
              "      <td>0</td>\n",
              "      <td>0</td>\n",
              "      <td>0</td>\n",
              "      <td>0</td>\n",
              "      <td>0</td>\n",
              "      <td>0</td>\n",
              "      <td>0</td>\n",
              "      <td>0</td>\n",
              "      <td>0</td>\n",
              "      <td>0</td>\n",
              "      <td>0</td>\n",
              "      <td>0</td>\n",
              "      <td>0</td>\n",
              "      <td>...</td>\n",
              "      <td>0</td>\n",
              "      <td>0</td>\n",
              "      <td>0</td>\n",
              "      <td>0</td>\n",
              "      <td>0</td>\n",
              "      <td>0</td>\n",
              "      <td>0</td>\n",
              "      <td>0</td>\n",
              "      <td>0</td>\n",
              "      <td>0</td>\n",
              "      <td>0</td>\n",
              "      <td>0</td>\n",
              "      <td>1</td>\n",
              "      <td>0</td>\n",
              "      <td>0</td>\n",
              "      <td>0</td>\n",
              "      <td>0</td>\n",
              "      <td>0</td>\n",
              "      <td>0</td>\n",
              "      <td>0</td>\n",
              "      <td>0</td>\n",
              "      <td>0</td>\n",
              "      <td>0</td>\n",
              "      <td>0</td>\n",
              "      <td>0</td>\n",
              "      <td>0</td>\n",
              "      <td>0</td>\n",
              "      <td>0</td>\n",
              "      <td>0</td>\n",
              "      <td>0</td>\n",
              "      <td>0</td>\n",
              "      <td>0</td>\n",
              "      <td>0</td>\n",
              "      <td>0</td>\n",
              "      <td>0</td>\n",
              "      <td>0</td>\n",
              "      <td>0</td>\n",
              "      <td>0</td>\n",
              "      <td>0</td>\n",
              "      <td>0</td>\n",
              "    </tr>\n",
              "    <tr>\n",
              "      <th>1</th>\n",
              "      <td>$windle</td>\n",
              "      <td>A 6th grader named Griffin Bing decides to gat...</td>\n",
              "      <td>flashback</td>\n",
              "      <td>train</td>\n",
              "      <td>wikipedia</td>\n",
              "      <td>1</td>\n",
              "      <td>1</td>\n",
              "      <td>353</td>\n",
              "      <td>14</td>\n",
              "      <td>grader name griffin bing decid gather entir gr...</td>\n",
              "      <td>0</td>\n",
              "      <td>0</td>\n",
              "      <td>0</td>\n",
              "      <td>0</td>\n",
              "      <td>0</td>\n",
              "      <td>0</td>\n",
              "      <td>0</td>\n",
              "      <td>0</td>\n",
              "      <td>0</td>\n",
              "      <td>0</td>\n",
              "      <td>0</td>\n",
              "      <td>0</td>\n",
              "      <td>0</td>\n",
              "      <td>0</td>\n",
              "      <td>0</td>\n",
              "      <td>0</td>\n",
              "      <td>0</td>\n",
              "      <td>0</td>\n",
              "      <td>0</td>\n",
              "      <td>0</td>\n",
              "      <td>0</td>\n",
              "      <td>0</td>\n",
              "      <td>0</td>\n",
              "      <td>0</td>\n",
              "      <td>0</td>\n",
              "      <td>0</td>\n",
              "      <td>0</td>\n",
              "      <td>0</td>\n",
              "      <td>1</td>\n",
              "      <td>0</td>\n",
              "      <td>...</td>\n",
              "      <td>0</td>\n",
              "      <td>0</td>\n",
              "      <td>0</td>\n",
              "      <td>0</td>\n",
              "      <td>0</td>\n",
              "      <td>0</td>\n",
              "      <td>0</td>\n",
              "      <td>0</td>\n",
              "      <td>0</td>\n",
              "      <td>0</td>\n",
              "      <td>0</td>\n",
              "      <td>0</td>\n",
              "      <td>0</td>\n",
              "      <td>0</td>\n",
              "      <td>0</td>\n",
              "      <td>0</td>\n",
              "      <td>0</td>\n",
              "      <td>0</td>\n",
              "      <td>0</td>\n",
              "      <td>0</td>\n",
              "      <td>0</td>\n",
              "      <td>0</td>\n",
              "      <td>0</td>\n",
              "      <td>0</td>\n",
              "      <td>0</td>\n",
              "      <td>0</td>\n",
              "      <td>0</td>\n",
              "      <td>0</td>\n",
              "      <td>0</td>\n",
              "      <td>0</td>\n",
              "      <td>0</td>\n",
              "      <td>0</td>\n",
              "      <td>0</td>\n",
              "      <td>0</td>\n",
              "      <td>0</td>\n",
              "      <td>0</td>\n",
              "      <td>0</td>\n",
              "      <td>0</td>\n",
              "      <td>0</td>\n",
              "      <td>0</td>\n",
              "    </tr>\n",
              "    <tr>\n",
              "      <th>2</th>\n",
              "      <td>'71</td>\n",
              "      <td>Gary Hook, a new recruit to the British Army, ...</td>\n",
              "      <td>suspenseful, neo noir, murder, violence</td>\n",
              "      <td>train</td>\n",
              "      <td>wikipedia</td>\n",
              "      <td>1</td>\n",
              "      <td>4</td>\n",
              "      <td>699</td>\n",
              "      <td>39</td>\n",
              "      <td>gari hook new recruit british armi take leav m...</td>\n",
              "      <td>0</td>\n",
              "      <td>0</td>\n",
              "      <td>0</td>\n",
              "      <td>0</td>\n",
              "      <td>0</td>\n",
              "      <td>0</td>\n",
              "      <td>0</td>\n",
              "      <td>0</td>\n",
              "      <td>0</td>\n",
              "      <td>0</td>\n",
              "      <td>0</td>\n",
              "      <td>0</td>\n",
              "      <td>0</td>\n",
              "      <td>0</td>\n",
              "      <td>0</td>\n",
              "      <td>0</td>\n",
              "      <td>0</td>\n",
              "      <td>0</td>\n",
              "      <td>0</td>\n",
              "      <td>0</td>\n",
              "      <td>0</td>\n",
              "      <td>0</td>\n",
              "      <td>0</td>\n",
              "      <td>0</td>\n",
              "      <td>0</td>\n",
              "      <td>0</td>\n",
              "      <td>0</td>\n",
              "      <td>0</td>\n",
              "      <td>0</td>\n",
              "      <td>0</td>\n",
              "      <td>...</td>\n",
              "      <td>0</td>\n",
              "      <td>0</td>\n",
              "      <td>0</td>\n",
              "      <td>0</td>\n",
              "      <td>0</td>\n",
              "      <td>0</td>\n",
              "      <td>0</td>\n",
              "      <td>0</td>\n",
              "      <td>0</td>\n",
              "      <td>0</td>\n",
              "      <td>0</td>\n",
              "      <td>0</td>\n",
              "      <td>1</td>\n",
              "      <td>0</td>\n",
              "      <td>1</td>\n",
              "      <td>0</td>\n",
              "      <td>0</td>\n",
              "      <td>0</td>\n",
              "      <td>0</td>\n",
              "      <td>0</td>\n",
              "      <td>0</td>\n",
              "      <td>0</td>\n",
              "      <td>0</td>\n",
              "      <td>0</td>\n",
              "      <td>0</td>\n",
              "      <td>0</td>\n",
              "      <td>0</td>\n",
              "      <td>0</td>\n",
              "      <td>0</td>\n",
              "      <td>0</td>\n",
              "      <td>0</td>\n",
              "      <td>0</td>\n",
              "      <td>0</td>\n",
              "      <td>0</td>\n",
              "      <td>1</td>\n",
              "      <td>0</td>\n",
              "      <td>0</td>\n",
              "      <td>1</td>\n",
              "      <td>0</td>\n",
              "      <td>0</td>\n",
              "    </tr>\n",
              "    <tr>\n",
              "      <th>3</th>\n",
              "      <td>'A' gai wak</td>\n",
              "      <td>Sergeant Dragon Ma (Jackie Chan) is part of th...</td>\n",
              "      <td>cult, violence</td>\n",
              "      <td>train</td>\n",
              "      <td>wikipedia</td>\n",
              "      <td>1</td>\n",
              "      <td>2</td>\n",
              "      <td>665</td>\n",
              "      <td>41</td>\n",
              "      <td>sergeant dragon jacki chan part hong kong mari...</td>\n",
              "      <td>0</td>\n",
              "      <td>0</td>\n",
              "      <td>0</td>\n",
              "      <td>0</td>\n",
              "      <td>0</td>\n",
              "      <td>0</td>\n",
              "      <td>0</td>\n",
              "      <td>0</td>\n",
              "      <td>0</td>\n",
              "      <td>0</td>\n",
              "      <td>0</td>\n",
              "      <td>0</td>\n",
              "      <td>0</td>\n",
              "      <td>0</td>\n",
              "      <td>0</td>\n",
              "      <td>0</td>\n",
              "      <td>0</td>\n",
              "      <td>0</td>\n",
              "      <td>0</td>\n",
              "      <td>0</td>\n",
              "      <td>1</td>\n",
              "      <td>0</td>\n",
              "      <td>0</td>\n",
              "      <td>0</td>\n",
              "      <td>0</td>\n",
              "      <td>0</td>\n",
              "      <td>0</td>\n",
              "      <td>0</td>\n",
              "      <td>0</td>\n",
              "      <td>0</td>\n",
              "      <td>...</td>\n",
              "      <td>0</td>\n",
              "      <td>0</td>\n",
              "      <td>0</td>\n",
              "      <td>0</td>\n",
              "      <td>0</td>\n",
              "      <td>0</td>\n",
              "      <td>0</td>\n",
              "      <td>0</td>\n",
              "      <td>0</td>\n",
              "      <td>0</td>\n",
              "      <td>0</td>\n",
              "      <td>0</td>\n",
              "      <td>0</td>\n",
              "      <td>0</td>\n",
              "      <td>0</td>\n",
              "      <td>0</td>\n",
              "      <td>0</td>\n",
              "      <td>0</td>\n",
              "      <td>0</td>\n",
              "      <td>0</td>\n",
              "      <td>0</td>\n",
              "      <td>0</td>\n",
              "      <td>0</td>\n",
              "      <td>0</td>\n",
              "      <td>0</td>\n",
              "      <td>0</td>\n",
              "      <td>0</td>\n",
              "      <td>0</td>\n",
              "      <td>0</td>\n",
              "      <td>0</td>\n",
              "      <td>0</td>\n",
              "      <td>0</td>\n",
              "      <td>0</td>\n",
              "      <td>0</td>\n",
              "      <td>0</td>\n",
              "      <td>0</td>\n",
              "      <td>0</td>\n",
              "      <td>1</td>\n",
              "      <td>0</td>\n",
              "      <td>0</td>\n",
              "    </tr>\n",
              "    <tr>\n",
              "      <th>4</th>\n",
              "      <td>'Breaker' Morant</td>\n",
              "      <td>In Pretoria, South Africa, in 1902, Major Char...</td>\n",
              "      <td>murder, violence, flashback, tragedy</td>\n",
              "      <td>train</td>\n",
              "      <td>wikipedia</td>\n",
              "      <td>1</td>\n",
              "      <td>6</td>\n",
              "      <td>1694</td>\n",
              "      <td>140</td>\n",
              "      <td>pretoria south africa major charl bolton rod m...</td>\n",
              "      <td>0</td>\n",
              "      <td>0</td>\n",
              "      <td>0</td>\n",
              "      <td>0</td>\n",
              "      <td>0</td>\n",
              "      <td>0</td>\n",
              "      <td>1</td>\n",
              "      <td>0</td>\n",
              "      <td>0</td>\n",
              "      <td>0</td>\n",
              "      <td>0</td>\n",
              "      <td>0</td>\n",
              "      <td>0</td>\n",
              "      <td>0</td>\n",
              "      <td>0</td>\n",
              "      <td>0</td>\n",
              "      <td>0</td>\n",
              "      <td>0</td>\n",
              "      <td>0</td>\n",
              "      <td>0</td>\n",
              "      <td>0</td>\n",
              "      <td>0</td>\n",
              "      <td>0</td>\n",
              "      <td>0</td>\n",
              "      <td>0</td>\n",
              "      <td>0</td>\n",
              "      <td>0</td>\n",
              "      <td>0</td>\n",
              "      <td>1</td>\n",
              "      <td>0</td>\n",
              "      <td>...</td>\n",
              "      <td>0</td>\n",
              "      <td>0</td>\n",
              "      <td>1</td>\n",
              "      <td>0</td>\n",
              "      <td>0</td>\n",
              "      <td>0</td>\n",
              "      <td>0</td>\n",
              "      <td>0</td>\n",
              "      <td>0</td>\n",
              "      <td>0</td>\n",
              "      <td>0</td>\n",
              "      <td>0</td>\n",
              "      <td>1</td>\n",
              "      <td>0</td>\n",
              "      <td>0</td>\n",
              "      <td>0</td>\n",
              "      <td>0</td>\n",
              "      <td>0</td>\n",
              "      <td>0</td>\n",
              "      <td>0</td>\n",
              "      <td>0</td>\n",
              "      <td>0</td>\n",
              "      <td>0</td>\n",
              "      <td>0</td>\n",
              "      <td>0</td>\n",
              "      <td>0</td>\n",
              "      <td>0</td>\n",
              "      <td>0</td>\n",
              "      <td>0</td>\n",
              "      <td>0</td>\n",
              "      <td>0</td>\n",
              "      <td>0</td>\n",
              "      <td>0</td>\n",
              "      <td>0</td>\n",
              "      <td>0</td>\n",
              "      <td>0</td>\n",
              "      <td>1</td>\n",
              "      <td>1</td>\n",
              "      <td>0</td>\n",
              "      <td>0</td>\n",
              "    </tr>\n",
              "  </tbody>\n",
              "</table>\n",
              "<p>5 rows × 81 columns</p>\n",
              "</div>"
            ],
            "text/plain": [
              "              title  ... whimsical\n",
              "0                 $  ...         0\n",
              "1           $windle  ...         0\n",
              "2               '71  ...         0\n",
              "3       'A' gai wak  ...         0\n",
              "4  'Breaker' Morant  ...         0\n",
              "\n",
              "[5 rows x 81 columns]"
            ]
          },
          "metadata": {
            "tags": []
          },
          "execution_count": 3
        }
      ]
    },
    {
      "cell_type": "code",
      "metadata": {
        "id": "Vhwz9cUYI7YR",
        "colab_type": "code",
        "colab": {}
      },
      "source": [
        "vectorizer = CountVectorizer(preprocessor=lambda x: x, tokenizer = lambda x: str(x).split(\", \") )\n",
        "tag_vect = vectorizer.fit_transform(data[\"tags\"])"
      ],
      "execution_count": 0,
      "outputs": []
    },
    {
      "cell_type": "code",
      "metadata": {
        "id": "WooXIkR3I7YV",
        "colab_type": "code",
        "outputId": "20fdfa4d-48ca-4ed5-e015-a8f4cf3de754",
        "colab": {
          "base_uri": "https://localhost:8080/",
          "height": 54
        }
      },
      "source": [
        "tags = vectorizer.get_feature_names()\n",
        "freqs = tag_vect.sum(axis=0).A1\n",
        "result = list(zip(tags, freqs))\n",
        "\n",
        "print((result))"
      ],
      "execution_count": 5,
      "outputs": [
        {
          "output_type": "stream",
          "text": [
            "[('action', 605), ('atmospheric', 385), ('boring', 519), ('comedy', 1795), ('cruelty', 422), ('cult', 2531), ('dark', 387), ('dramatic', 402), ('entertaining', 726), ('fantasy', 492), ('flashback', 2801), ('good versus evil', 793), ('gothic', 400), ('horror', 455), ('humor', 803), ('insanity', 585), ('melodrama', 423), ('murder', 5375), ('mystery', 500), ('neo noir', 700), ('paranormal', 501), ('psychedelic', 1800), ('revenge', 2313), ('romantic', 2729), ('sadist', 618), ('satire', 780), ('storytelling', 346), ('suspenseful', 1026), ('tragedy', 536), ('violence', 4138)]\n"
          ],
          "name": "stdout"
        }
      ]
    },
    {
      "cell_type": "code",
      "metadata": {
        "id": "g40zCQTeI7YY",
        "colab_type": "code",
        "outputId": "fef5073d-421e-48ea-9c2b-f054ea13f97e",
        "colab": {
          "base_uri": "https://localhost:8080/",
          "height": 195
        }
      },
      "source": [
        "tag_counts = pd.DataFrame(result,columns=['tag','tag_counts'])\n",
        "tag_counts.head()"
      ],
      "execution_count": 6,
      "outputs": [
        {
          "output_type": "execute_result",
          "data": {
            "text/html": [
              "<div>\n",
              "<style scoped>\n",
              "    .dataframe tbody tr th:only-of-type {\n",
              "        vertical-align: middle;\n",
              "    }\n",
              "\n",
              "    .dataframe tbody tr th {\n",
              "        vertical-align: top;\n",
              "    }\n",
              "\n",
              "    .dataframe thead th {\n",
              "        text-align: right;\n",
              "    }\n",
              "</style>\n",
              "<table border=\"1\" class=\"dataframe\">\n",
              "  <thead>\n",
              "    <tr style=\"text-align: right;\">\n",
              "      <th></th>\n",
              "      <th>tag</th>\n",
              "      <th>tag_counts</th>\n",
              "    </tr>\n",
              "  </thead>\n",
              "  <tbody>\n",
              "    <tr>\n",
              "      <th>0</th>\n",
              "      <td>action</td>\n",
              "      <td>605</td>\n",
              "    </tr>\n",
              "    <tr>\n",
              "      <th>1</th>\n",
              "      <td>atmospheric</td>\n",
              "      <td>385</td>\n",
              "    </tr>\n",
              "    <tr>\n",
              "      <th>2</th>\n",
              "      <td>boring</td>\n",
              "      <td>519</td>\n",
              "    </tr>\n",
              "    <tr>\n",
              "      <th>3</th>\n",
              "      <td>comedy</td>\n",
              "      <td>1795</td>\n",
              "    </tr>\n",
              "    <tr>\n",
              "      <th>4</th>\n",
              "      <td>cruelty</td>\n",
              "      <td>422</td>\n",
              "    </tr>\n",
              "  </tbody>\n",
              "</table>\n",
              "</div>"
            ],
            "text/plain": [
              "           tag  tag_counts\n",
              "0       action         605\n",
              "1  atmospheric         385\n",
              "2       boring         519\n",
              "3       comedy        1795\n",
              "4      cruelty         422"
            ]
          },
          "metadata": {
            "tags": []
          },
          "execution_count": 6
        }
      ]
    },
    {
      "cell_type": "code",
      "metadata": {
        "id": "B0HLBlNAI7Yb",
        "colab_type": "code",
        "colab": {}
      },
      "source": [
        "tag_counts_sorted = tag_counts.sort_values(['tag_counts'], ascending=False)"
      ],
      "execution_count": 0,
      "outputs": []
    },
    {
      "cell_type": "code",
      "metadata": {
        "id": "MBF0IPhXI7Ye",
        "colab_type": "code",
        "outputId": "c3518d32-0a13-4b0b-b773-a7b9e5c45ba1",
        "colab": {
          "base_uri": "https://localhost:8080/",
          "height": 118
        }
      },
      "source": [
        "tag_counts = tag_counts_sorted['tag'][:5]\n",
        "tag_counts"
      ],
      "execution_count": 8,
      "outputs": [
        {
          "output_type": "execute_result",
          "data": {
            "text/plain": [
              "17       murder\n",
              "29     violence\n",
              "10    flashback\n",
              "23     romantic\n",
              "5          cult\n",
              "Name: tag, dtype: object"
            ]
          },
          "metadata": {
            "tags": []
          },
          "execution_count": 8
        }
      ]
    },
    {
      "cell_type": "code",
      "metadata": {
        "id": "mh3hlgoII7Yj",
        "colab_type": "code",
        "colab": {}
      },
      "source": [
        "tags_5 = list(tag_counts)"
      ],
      "execution_count": 0,
      "outputs": []
    },
    {
      "cell_type": "code",
      "metadata": {
        "id": "tcMU4gJSI7Ym",
        "colab_type": "code",
        "outputId": "2aaac941-c86f-4f93-9813-6e9a2b94e38f",
        "colab": {
          "base_uri": "https://localhost:8080/",
          "height": 218
        }
      },
      "source": [
        "data['tags']"
      ],
      "execution_count": 10,
      "outputs": [
        {
          "output_type": "execute_result",
          "data": {
            "text/plain": [
              "0                                                   murder\n",
              "1                                                flashback\n",
              "2                  suspenseful, neo noir, murder, violence\n",
              "3                                           cult, violence\n",
              "4                     murder, violence, flashback, tragedy\n",
              "                               ...                        \n",
              "13005                            comedy, sadist, flashback\n",
              "13006                                   paranormal, murder\n",
              "13007                                             romantic\n",
              "13008    cruelty, murder, cult, violence, flashback, ps...\n",
              "13009                                               murder\n",
              "Name: tags, Length: 13010, dtype: object"
            ]
          },
          "metadata": {
            "tags": []
          },
          "execution_count": 10
        }
      ]
    },
    {
      "cell_type": "code",
      "metadata": {
        "scrolled": false,
        "id": "8uZyKABmI7Yq",
        "colab_type": "code",
        "outputId": "d6afebfd-7116-4f26-8d92-fe4eba9429bd",
        "colab": {
          "base_uri": "https://localhost:8080/",
          "height": 34
        }
      },
      "source": [
        "#Deleting Every Tags other than TOP 5 Tags\n",
        "\n",
        "for le in tqdm(range(data.shape[0])):\n",
        "    a = []\n",
        "    b = data['tags'][le].split(\",\")\n",
        "    c = ''\n",
        "    \n",
        "    for i in range(len(b)):        \n",
        "        for j in tags_5:\n",
        "            temp = b[i].strip()  #Stripping the white-spaces present(if any) around the tag\n",
        "            \n",
        "            if temp == j:        #Comparing with the TOP 5 tags\n",
        "                a.append(j)\n",
        "        \n",
        "    if a:\n",
        "        data['tags'][le] = \", \".join(a)\n",
        "    else:\n",
        "         data['tags'][le] = np.nan        "
      ],
      "execution_count": 11,
      "outputs": [
        {
          "output_type": "stream",
          "text": [
            "100%|██████████| 13010/13010 [00:02<00:00, 5894.90it/s]\n"
          ],
          "name": "stderr"
        }
      ]
    },
    {
      "cell_type": "code",
      "metadata": {
        "id": "4t3Q6Fo8I7Yt",
        "colab_type": "code",
        "colab": {}
      },
      "source": [
        "#Deleting the rows that have NaN Values\n",
        "data = data.dropna() "
      ],
      "execution_count": 0,
      "outputs": []
    },
    {
      "cell_type": "code",
      "metadata": {
        "id": "A-SfUt6II7Yv",
        "colab_type": "code",
        "outputId": "c59b7df7-6ad0-4f51-ec48-d9d05bbecc51",
        "colab": {
          "base_uri": "https://localhost:8080/",
          "height": 218
        }
      },
      "source": [
        "data['tags']"
      ],
      "execution_count": 13,
      "outputs": [
        {
          "output_type": "execute_result",
          "data": {
            "text/plain": [
              "0                                   murder\n",
              "1                                flashback\n",
              "2                         murder, violence\n",
              "3                           cult, violence\n",
              "4              murder, violence, flashback\n",
              "                       ...                \n",
              "13005                            flashback\n",
              "13006                               murder\n",
              "13007                             romantic\n",
              "13008    murder, cult, violence, flashback\n",
              "13009                               murder\n",
              "Name: tags, Length: 10282, dtype: object"
            ]
          },
          "metadata": {
            "tags": []
          },
          "execution_count": 13
        }
      ]
    },
    {
      "cell_type": "code",
      "metadata": {
        "id": "qhBIVg1BI7Y1",
        "colab_type": "code",
        "colab": {}
      },
      "source": [
        "vectorizer = CountVectorizer(preprocessor=lambda x: x, tokenizer = lambda x: str(x).split(\", \"))\n",
        "tag_vect = vectorizer.fit_transform(data[\"tags\"])"
      ],
      "execution_count": 0,
      "outputs": []
    },
    {
      "cell_type": "code",
      "metadata": {
        "id": "-XNvR589I7Y4",
        "colab_type": "code",
        "outputId": "30d4cd8e-7e44-44b8-cd89-4a2791ab3c47",
        "colab": {
          "base_uri": "https://localhost:8080/",
          "height": 34
        }
      },
      "source": [
        "tags = vectorizer.get_feature_names()\n",
        "freqs = tag_vect.sum(axis=0).A1\n",
        "result = list(zip(tags, freqs))\n",
        "\n",
        "print((result))"
      ],
      "execution_count": 15,
      "outputs": [
        {
          "output_type": "stream",
          "text": [
            "[('cult', 2531), ('flashback', 2801), ('murder', 5375), ('romantic', 2729), ('violence', 4138)]\n"
          ],
          "name": "stdout"
        }
      ]
    },
    {
      "cell_type": "code",
      "metadata": {
        "id": "uH5ht-5tI7Y8",
        "colab_type": "code",
        "outputId": "fc973fb7-e62c-45e6-e58a-6da8524cc919",
        "colab": {
          "base_uri": "https://localhost:8080/",
          "height": 34
        }
      },
      "source": [
        "len(result)"
      ],
      "execution_count": 16,
      "outputs": [
        {
          "output_type": "execute_result",
          "data": {
            "text/plain": [
              "5"
            ]
          },
          "metadata": {
            "tags": []
          },
          "execution_count": 16
        }
      ]
    },
    {
      "cell_type": "code",
      "metadata": {
        "id": "9J7_VcqWI7Y_",
        "colab_type": "code",
        "colab": {}
      },
      "source": [
        "conn = sqlite3.connect('data05.db')\n",
        "data.to_sql('data05', conn, if_exists='replace', index=False)\n",
        "train = pd.read_sql(\"Select * From data05 where split = 'train' OR split='val'\",conn)\n",
        "test =  pd.read_sql(\"Select * From data05 where split = 'test'\",conn)\n",
        "conn.close()"
      ],
      "execution_count": 0,
      "outputs": []
    },
    {
      "cell_type": "code",
      "metadata": {
        "id": "O-8MnkuhI7ZC",
        "colab_type": "code",
        "colab": {}
      },
      "source": [
        "X_train = train[\"CleanedSynopsis\"]\n",
        "y_train= train[\"tags\"]\n",
        "\n",
        "X_test = test[\"CleanedSynopsis\"]\n",
        "y_test= test[\"tags\"]"
      ],
      "execution_count": 0,
      "outputs": []
    },
    {
      "cell_type": "code",
      "metadata": {
        "id": "UxzofYSpI7ZF",
        "colab_type": "code",
        "colab": {}
      },
      "source": [
        "cnt_vectorizer = CountVectorizer(binary='true', max_features = 30).fit(y_train)\n",
        "y_train_multilabel = cnt_vectorizer.transform(y_train)\n",
        "y_test_multilabel = cnt_vectorizer.transform(y_test)"
      ],
      "execution_count": 0,
      "outputs": []
    },
    {
      "cell_type": "code",
      "metadata": {
        "id": "SfgsXiYFI7ZI",
        "colab_type": "code",
        "outputId": "64a84a88-6492-4d1d-83e6-55f1af80ddf1",
        "colab": {
          "base_uri": "https://localhost:8080/",
          "height": 34
        }
      },
      "source": [
        "print(\"Dimensions of data Y_train_multilabel:\",y_train_multilabel.shape,\"Y_test_multilabel:\",y_test_multilabel.shape)"
      ],
      "execution_count": 20,
      "outputs": [
        {
          "output_type": "stream",
          "text": [
            "Dimensions of data Y_train_multilabel: (8205, 5) Y_test_multilabel: (2077, 5)\n"
          ],
          "name": "stdout"
        }
      ]
    },
    {
      "cell_type": "markdown",
      "metadata": {
        "id": "zu-z5rbEI7ZL",
        "colab_type": "text"
      },
      "source": [
        "# Word2Vec"
      ]
    },
    {
      "cell_type": "code",
      "metadata": {
        "id": "oS7AnkJRI7ZM",
        "colab_type": "code",
        "outputId": "66a04dac-d695-4c4d-fcf9-042aedb564b0",
        "colab": {
          "base_uri": "https://localhost:8080/",
          "height": 34
        }
      },
      "source": [
        "X_train_new = []\n",
        "\n",
        "for i in tqdm(range(len(list(X_train)))):\n",
        "    X_train_new.append(X_train[i].split(\" \"))"
      ],
      "execution_count": 21,
      "outputs": [
        {
          "output_type": "stream",
          "text": [
            "100%|██████████| 8205/8205 [00:00<00:00, 17455.20it/s]\n"
          ],
          "name": "stderr"
        }
      ]
    },
    {
      "cell_type": "code",
      "metadata": {
        "id": "nJnWg1taI7ZO",
        "colab_type": "code",
        "colab": {}
      },
      "source": [
        "with open('/content/drive/My Drive/ML/glove.6B.300d.pkl', 'rb') as f:\n",
        "    new_model = pickle.load(f)\n",
        "    words =  set(new_model.keys())"
      ],
      "execution_count": 0,
      "outputs": []
    },
    {
      "cell_type": "code",
      "metadata": {
        "id": "rsQyJTh8I7ZQ",
        "colab_type": "code",
        "outputId": "8fa31312-db5f-4e78-fb6d-973cf9f7ceb1",
        "colab": {
          "base_uri": "https://localhost:8080/",
          "height": 34
        }
      },
      "source": [
        "X_train_multilabel = []; # the avg-w2v for each sentence/review is stored in this list\n",
        "for sentence in tqdm(X_train.values): # for each review/sentence\n",
        "    vector = np.zeros(300) # as word vectors are of zero length\n",
        "    cnt_words =0; # num of words with a valid vector in the sentence/review\n",
        "    for word in sentence.split():\n",
        "        if word in words:\n",
        "            vector += new_model[word]\n",
        "            cnt_words += 1\n",
        "    if cnt_words != 0:\n",
        "        vector /= cnt_words\n",
        "    X_train_multilabel.append(vector)"
      ],
      "execution_count": 23,
      "outputs": [
        {
          "output_type": "stream",
          "text": [
            "100%|██████████| 8205/8205 [00:06<00:00, 1208.03it/s]\n"
          ],
          "name": "stderr"
        }
      ]
    },
    {
      "cell_type": "code",
      "metadata": {
        "id": "5dFzsNMhI7ZU",
        "colab_type": "code",
        "outputId": "dc39e820-cef3-4cda-fe97-cf85c324b60c",
        "colab": {
          "base_uri": "https://localhost:8080/",
          "height": 34
        }
      },
      "source": [
        "X_test_multilabel = []; # the avg-w2v for each sentence/review is stored in this list\n",
        "for sentence in tqdm(X_test.values): # for each review/sentence\n",
        "    vector = np.zeros(300) # as word vectors are of zero length\n",
        "    cnt_words =0; # num of words with a valid vector in the sentence/review\n",
        "    for word in sentence.split():\n",
        "        if word in words:\n",
        "            vector += new_model[word]\n",
        "            cnt_words += 1\n",
        "    if cnt_words != 0:\n",
        "        vector /= cnt_words\n",
        "    X_test_multilabel.append(vector)"
      ],
      "execution_count": 24,
      "outputs": [
        {
          "output_type": "stream",
          "text": [
            "100%|██████████| 2077/2077 [00:01<00:00, 1334.30it/s]\n"
          ],
          "name": "stderr"
        }
      ]
    },
    {
      "cell_type": "markdown",
      "metadata": {
        "id": "rvCfGevqI7ZW",
        "colab_type": "text"
      },
      "source": [
        "<h1>OneVsRestClassifier + SGDClassifier with LOG Loss :</h1>"
      ]
    },
    {
      "cell_type": "code",
      "metadata": {
        "id": "3X5bOkAvI7ZX",
        "colab_type": "code",
        "outputId": "7056baee-9234-4d52-9933-7c891953438d",
        "colab": {
          "base_uri": "https://localhost:8080/",
          "height": 235
        }
      },
      "source": [
        "sgl = SGDClassifier(loss='log', class_weight='balanced')\n",
        "\n",
        "clf = OneVsRestClassifier(sgl)\n",
        "clf.fit(X_train_multilabel, y_train_multilabel)"
      ],
      "execution_count": 25,
      "outputs": [
        {
          "output_type": "execute_result",
          "data": {
            "text/plain": [
              "OneVsRestClassifier(estimator=SGDClassifier(alpha=0.0001, average=False,\n",
              "                                            class_weight='balanced',\n",
              "                                            early_stopping=False, epsilon=0.1,\n",
              "                                            eta0=0.0, fit_intercept=True,\n",
              "                                            l1_ratio=0.15,\n",
              "                                            learning_rate='optimal', loss='log',\n",
              "                                            max_iter=1000, n_iter_no_change=5,\n",
              "                                            n_jobs=None, penalty='l2',\n",
              "                                            power_t=0.5, random_state=None,\n",
              "                                            shuffle=True, tol=0.001,\n",
              "                                            validation_fraction=0.1, verbose=0,\n",
              "                                            warm_start=False),\n",
              "                    n_jobs=None)"
            ]
          },
          "metadata": {
            "tags": []
          },
          "execution_count": 25
        }
      ]
    },
    {
      "cell_type": "code",
      "metadata": {
        "id": "9RHPDETqI7ZZ",
        "colab_type": "code",
        "outputId": "13ba8acd-7576-43dc-8dc3-4753d4b31e6e",
        "colab": {
          "base_uri": "https://localhost:8080/",
          "height": 34
        }
      },
      "source": [
        "prediction1 = clf.predict(X_test_multilabel)\n",
        "\n",
        "precision1 = precision_score(y_test_multilabel, prediction1, average='micro')\n",
        "\n",
        "recall1 = recall_score(y_test_multilabel, prediction1, average='micro')\n",
        "\n",
        "f1_score1 = 2*((precision1 * recall1)/(precision1 + recall1))\n",
        "\n",
        "print(\"precision1: {:.4f}, recall1: {:.4f}, F1-measure: {:.4f}\".format(precision1, recall1, f1_score1))"
      ],
      "execution_count": 26,
      "outputs": [
        {
          "output_type": "stream",
          "text": [
            "precision1: 0.5382, recall1: 0.6682, F1-measure: 0.5962\n"
          ],
          "name": "stdout"
        }
      ]
    },
    {
      "cell_type": "code",
      "metadata": {
        "id": "SqPuFuBYI7Zd",
        "colab_type": "code",
        "outputId": "c70405e7-2d16-45a8-ed92-c4d6efa39345",
        "colab": {
          "base_uri": "https://localhost:8080/",
          "height": 353
        }
      },
      "source": [
        "for i in range(5):\n",
        "    k = test.sample(1).index[0]\n",
        "    print(\"Movie: \", test['title'][k]) \n",
        "    print(\"Actual genre: \",y_test[k])\n",
        "    print(\"Predicted tag: \", cnt_vectorizer.inverse_transform(prediction1[k])[0],\"\\n\")"
      ],
      "execution_count": 27,
      "outputs": [
        {
          "output_type": "stream",
          "text": [
            "Movie:  Cain's Cutthroats\n",
            "Actual genre:  murder, violence\n",
            "Predicted tag:  ['murder' 'violence'] \n",
            "\n",
            "Movie:  The Sugarland Express\n",
            "Actual genre:  violence\n",
            "Predicted tag:  ['cult' 'murder'] \n",
            "\n",
            "Movie:  The Dark Crystal\n",
            "Actual genre:  cult\n",
            "Predicted tag:  ['romantic'] \n",
            "\n",
            "Movie:  Kozure Ôkami: Shinikazeni mukau ubaguruma\n",
            "Actual genre:  violence\n",
            "Predicted tag:  ['cult' 'murder' 'violence'] \n",
            "\n",
            "Movie:  Uno dopo l'altro\n",
            "Actual genre:  violence\n",
            "Predicted tag:  ['cult' 'violence'] \n",
            "\n"
          ],
          "name": "stdout"
        }
      ]
    },
    {
      "cell_type": "markdown",
      "metadata": {
        "id": "6x3m5mU0I7Zg",
        "colab_type": "text"
      },
      "source": [
        "<h2> OneVsRestClassifier + SGDClassifier with HINGE Loss : </h2>"
      ]
    },
    {
      "cell_type": "code",
      "metadata": {
        "id": "nnKEsoZtI7Zg",
        "colab_type": "code",
        "outputId": "7314c0dc-21bc-4c17-b6b4-420ab9cdcbc9",
        "colab": {
          "base_uri": "https://localhost:8080/",
          "height": 235
        }
      },
      "source": [
        "sgh = SGDClassifier(loss='hinge', class_weight='balanced')\n",
        "\n",
        "clf = OneVsRestClassifier(sgh)\n",
        "clf.fit(X_train_multilabel, y_train_multilabel)"
      ],
      "execution_count": 28,
      "outputs": [
        {
          "output_type": "execute_result",
          "data": {
            "text/plain": [
              "OneVsRestClassifier(estimator=SGDClassifier(alpha=0.0001, average=False,\n",
              "                                            class_weight='balanced',\n",
              "                                            early_stopping=False, epsilon=0.1,\n",
              "                                            eta0=0.0, fit_intercept=True,\n",
              "                                            l1_ratio=0.15,\n",
              "                                            learning_rate='optimal',\n",
              "                                            loss='hinge', max_iter=1000,\n",
              "                                            n_iter_no_change=5, n_jobs=None,\n",
              "                                            penalty='l2', power_t=0.5,\n",
              "                                            random_state=None, shuffle=True,\n",
              "                                            tol=0.001, validation_fraction=0.1,\n",
              "                                            verbose=0, warm_start=False),\n",
              "                    n_jobs=None)"
            ]
          },
          "metadata": {
            "tags": []
          },
          "execution_count": 28
        }
      ]
    },
    {
      "cell_type": "code",
      "metadata": {
        "id": "eQX2Y_IQI7Zk",
        "colab_type": "code",
        "outputId": "881f55ba-7ec5-4947-e587-1b605caf0a76",
        "colab": {
          "base_uri": "https://localhost:8080/",
          "height": 34
        }
      },
      "source": [
        "prediction2 = clf.predict(X_test_multilabel)\n",
        "\n",
        "precision2 = precision_score(y_test_multilabel, prediction2, average='micro')\n",
        "\n",
        "recall2 = recall_score(y_test_multilabel, prediction2, average='micro')\n",
        "\n",
        "f1_score2 = 2*((precision2 * recall2)/(precision2 + recall2))\n",
        "\n",
        "print(\"precision2: {:.4f}, recall2: {:.4f}, F1-measure: {:.4f}\".format(precision2, recall2, f1_score2))"
      ],
      "execution_count": 29,
      "outputs": [
        {
          "output_type": "stream",
          "text": [
            "precision2: 0.5762, recall2: 0.5516, F1-measure: 0.5636\n"
          ],
          "name": "stdout"
        }
      ]
    },
    {
      "cell_type": "code",
      "metadata": {
        "id": "tDYayZLLI7Zn",
        "colab_type": "code",
        "outputId": "27675b03-75bd-4728-ad12-cfb44492ee78",
        "colab": {
          "base_uri": "https://localhost:8080/",
          "height": 353
        }
      },
      "source": [
        "for i in range(5):\n",
        "    k = test.sample(1).index[0]\n",
        "    print(\"Movie: \", test['title'][k]) \n",
        "    print(\"Actual genre: \",y_test[k])\n",
        "    print(\"Predicted tag: \", cnt_vectorizer.inverse_transform(prediction2[k])[0],\"\\n\")"
      ],
      "execution_count": 30,
      "outputs": [
        {
          "output_type": "stream",
          "text": [
            "Movie:  Blindness\n",
            "Actual genre:  murder, violence\n",
            "Predicted tag:  ['murder'] \n",
            "\n",
            "Movie:  Mommy\n",
            "Actual genre:  violence, murder\n",
            "Predicted tag:  ['romantic'] \n",
            "\n",
            "Movie:  Walking Tall Part II\n",
            "Actual genre:  murder, violence\n",
            "Predicted tag:  ['murder' 'violence'] \n",
            "\n",
            "Movie:  I Me Wed\n",
            "Actual genre:  romantic\n",
            "Predicted tag:  ['romantic'] \n",
            "\n",
            "Movie:  The Pirate\n",
            "Actual genre:  cult, romantic\n",
            "Predicted tag:  ['romantic'] \n",
            "\n"
          ],
          "name": "stdout"
        }
      ]
    },
    {
      "cell_type": "markdown",
      "metadata": {
        "id": "OKUGazWzI7Zq",
        "colab_type": "text"
      },
      "source": [
        "<h2> OneVsRestClassifier + LogisticRegression:</h2>"
      ]
    },
    {
      "cell_type": "code",
      "metadata": {
        "id": "snqIfbyeI7Zq",
        "colab_type": "code",
        "outputId": "d92f29aa-5014-4fe1-8f93-6ff238623ef2",
        "colab": {
          "base_uri": "https://localhost:8080/",
          "height": 185
        }
      },
      "source": [
        "lr = LogisticRegression(class_weight='balanced')\n",
        "\n",
        "clf = OneVsRestClassifier(lr)\n",
        "clf.fit(X_train_multilabel, y_train_multilabel)"
      ],
      "execution_count": 31,
      "outputs": [
        {
          "output_type": "execute_result",
          "data": {
            "text/plain": [
              "OneVsRestClassifier(estimator=LogisticRegression(C=1.0, class_weight='balanced',\n",
              "                                                 dual=False, fit_intercept=True,\n",
              "                                                 intercept_scaling=1,\n",
              "                                                 l1_ratio=None, max_iter=100,\n",
              "                                                 multi_class='auto',\n",
              "                                                 n_jobs=None, penalty='l2',\n",
              "                                                 random_state=None,\n",
              "                                                 solver='lbfgs', tol=0.0001,\n",
              "                                                 verbose=0, warm_start=False),\n",
              "                    n_jobs=None)"
            ]
          },
          "metadata": {
            "tags": []
          },
          "execution_count": 31
        }
      ]
    },
    {
      "cell_type": "code",
      "metadata": {
        "id": "ud4cU66DI7Zt",
        "colab_type": "code",
        "outputId": "f546ad07-eb9b-4fa5-d682-d159705ff6ab",
        "colab": {
          "base_uri": "https://localhost:8080/",
          "height": 34
        }
      },
      "source": [
        "prediction3 = clf.predict(X_test_multilabel)\n",
        "\n",
        "precision3 = precision_score(y_test_multilabel, prediction3, average='micro')\n",
        "\n",
        "recall3 = recall_score(y_test_multilabel, prediction3, average='micro')\n",
        "\n",
        "f1_score3 = 2*((precision3 * recall3)/(precision3 + recall3))\n",
        "\n",
        "print(\"precision3: {:.4f}, recall3: {:.4f}, F1-measure: {:.4f}\".format(precision3, recall3, f1_score3))"
      ],
      "execution_count": 32,
      "outputs": [
        {
          "output_type": "stream",
          "text": [
            "precision3: 0.5247, recall3: 0.6748, F1-measure: 0.5904\n"
          ],
          "name": "stdout"
        }
      ]
    },
    {
      "cell_type": "code",
      "metadata": {
        "id": "GRR-GHNfI7Zw",
        "colab_type": "code",
        "outputId": "361d5c87-94a7-47b3-a8ff-f865a8bcc485",
        "colab": {
          "base_uri": "https://localhost:8080/",
          "height": 353
        }
      },
      "source": [
        "for i in range(5):\n",
        "    k = test.sample(1).index[0]\n",
        "    print(\"Movie: \", test['title'][k]) \n",
        "    print(\"Actual genre: \",y_test[k])\n",
        "    print(\"Predicted tag: \", cnt_vectorizer.inverse_transform(prediction3[k])[0],\"\\n\")"
      ],
      "execution_count": 33,
      "outputs": [
        {
          "output_type": "stream",
          "text": [
            "Movie:  Bandido\n",
            "Actual genre:  violence\n",
            "Predicted tag:  ['cult' 'flashback' 'murder' 'violence'] \n",
            "\n",
            "Movie:  Crouching Tiger, Hidden Dragon: Sword of Destiny\n",
            "Actual genre:  romantic\n",
            "Predicted tag:  ['cult' 'violence'] \n",
            "\n",
            "Movie:  Men, Women & Children\n",
            "Actual genre:  violence\n",
            "Predicted tag:  ['flashback' 'romantic'] \n",
            "\n",
            "Movie:  Rockstar\n",
            "Actual genre:  romantic\n",
            "Predicted tag:  ['romantic'] \n",
            "\n",
            "Movie:  Kaze no na wa amunejia\n",
            "Actual genre:  violence, romantic\n",
            "Predicted tag:  ['romantic'] \n",
            "\n"
          ],
          "name": "stdout"
        }
      ]
    },
    {
      "cell_type": "markdown",
      "metadata": {
        "id": "8eIb2mhHI7Zz",
        "colab_type": "text"
      },
      "source": [
        "<h1>Conclusion</h1>"
      ]
    },
    {
      "cell_type": "code",
      "metadata": {
        "id": "dFhBL8fZI7Z0",
        "colab_type": "code",
        "outputId": "79fb61c2-52b8-4b4c-a1ac-7e97598a19b4",
        "colab": {
          "base_uri": "https://localhost:8080/",
          "height": 134
        }
      },
      "source": [
        "from prettytable import PrettyTable\n",
        "\n",
        "tabel = PrettyTable()\n",
        "\n",
        "tabel.field_names=['Model', 'Vectorizer', 'Precision','recall','f1_score']\n",
        "\n",
        "\n",
        "tabel.add_row(['SGDClassifier(log)', 'AVG W2V',  round(precision1, 3), round(recall1, 3), round(f1_score1, 3)])\n",
        "\n",
        "tabel.add_row(['SGDClassifier(hinge)','AVG W2V', round(precision2, 3),  round(recall2, 3), round(f1_score2, 3)])\n",
        "\n",
        "tabel.add_row(['LogisticRegression','AVG W2V', round(precision3, 3), round(recall3, 3), round(f1_score3, 3)])\n",
        "\n",
        "\n",
        "print(tabel)"
      ],
      "execution_count": 34,
      "outputs": [
        {
          "output_type": "stream",
          "text": [
            "+----------------------+------------+-----------+--------+----------+\n",
            "|        Model         | Vectorizer | Precision | recall | f1_score |\n",
            "+----------------------+------------+-----------+--------+----------+\n",
            "|  SGDClassifier(log)  |  AVG W2V   |   0.538   | 0.668  |  0.596   |\n",
            "| SGDClassifier(hinge) |  AVG W2V   |   0.576   | 0.552  |  0.564   |\n",
            "|  LogisticRegression  |  AVG W2V   |   0.525   | 0.675  |   0.59   |\n",
            "+----------------------+------------+-----------+--------+----------+\n"
          ],
          "name": "stdout"
        }
      ]
    },
    {
      "cell_type": "markdown",
      "metadata": {
        "id": "HdyCdmOTI7Z3",
        "colab_type": "text"
      },
      "source": [
        "<h1>LSTM-CNN Model</h1>"
      ]
    },
    {
      "cell_type": "code",
      "metadata": {
        "id": "0p-lKx2HI7Z3",
        "colab_type": "code",
        "colab": {}
      },
      "source": [
        "max_review_length = 400\n",
        "X_train = sequence.pad_sequences(X_train_multilabel, maxlen=max_review_length, padding='post')\n",
        "X_test = sequence.pad_sequences(X_test_multilabel, maxlen=max_review_length, padding='post')"
      ],
      "execution_count": 0,
      "outputs": []
    },
    {
      "cell_type": "code",
      "metadata": {
        "id": "qExNt78zI7Z8",
        "colab_type": "code",
        "colab": {}
      },
      "source": [
        "inputt = 8252\n",
        "batch_size = 60\n",
        "epochs = 20"
      ],
      "execution_count": 0,
      "outputs": []
    },
    {
      "cell_type": "code",
      "metadata": {
        "id": "bxI7hueLTjXP",
        "colab_type": "code",
        "colab": {}
      },
      "source": [
        "tf.random.set_seed(100)\n",
        "\n",
        "tf.keras.backend.clear_session()"
      ],
      "execution_count": 0,
      "outputs": []
    },
    {
      "cell_type": "code",
      "metadata": {
        "id": "0ugvwQ2KI7Z_",
        "colab_type": "code",
        "outputId": "0d4ae069-d64c-4afb-c539-50afc9f6402a",
        "colab": {
          "base_uri": "https://localhost:8080/",
          "height": 370
        }
      },
      "source": [
        "model = Sequential()\n",
        "model.add(Embedding(inputt, 50, input_length = max_review_length))\n",
        "\n",
        "model.add(LSTM(300, return_sequences=True))\n",
        "model.add(LSTM(200, return_sequences=True))\n",
        "model.add(LSTM(100))\n",
        "model.add(Dropout(0.1))\n",
        "model.add(Dense(5, activation='sigmoid'))\n",
        "\n",
        "print(model.summary())"
      ],
      "execution_count": 38,
      "outputs": [
        {
          "output_type": "stream",
          "text": [
            "Model: \"sequential_1\"\n",
            "_________________________________________________________________\n",
            "Layer (type)                 Output Shape              Param #   \n",
            "=================================================================\n",
            "embedding_1 (Embedding)      (None, 400, 50)           412600    \n",
            "_________________________________________________________________\n",
            "lstm_1 (LSTM)                (None, 400, 300)          421200    \n",
            "_________________________________________________________________\n",
            "lstm_2 (LSTM)                (None, 400, 200)          400800    \n",
            "_________________________________________________________________\n",
            "lstm_3 (LSTM)                (None, 100)               120400    \n",
            "_________________________________________________________________\n",
            "dropout_1 (Dropout)          (None, 100)               0         \n",
            "_________________________________________________________________\n",
            "dense_1 (Dense)              (None, 5)                 505       \n",
            "=================================================================\n",
            "Total params: 1,355,505\n",
            "Trainable params: 1,355,505\n",
            "Non-trainable params: 0\n",
            "_________________________________________________________________\n",
            "None\n"
          ],
          "name": "stdout"
        }
      ]
    },
    {
      "cell_type": "code",
      "metadata": {
        "id": "L8g05VhVI7aC",
        "colab_type": "code",
        "outputId": "21769f3f-eab7-442e-dc92-d3db91b1629c",
        "colab": {
          "base_uri": "https://localhost:8080/",
          "height": 754
        }
      },
      "source": [
        "plot_model(model, 'model.png', show_shapes=True)"
      ],
      "execution_count": 39,
      "outputs": [
        {
          "output_type": "execute_result",
          "data": {
            "image/png": "[encoded data removed]",
            "text/plain": [
              "<IPython.core.display.Image object>"
            ]
          },
          "metadata": {
            "tags": []
          },
          "execution_count": 39
        }
      ]
    },
    {
      "cell_type": "code",
      "metadata": {
        "id": "Ppr2E4zsI7aE",
        "colab_type": "code",
        "colab": {}
      },
      "source": [
        "model.compile(loss='binary_crossentropy', optimizer='adam', metrics=['accuracy'])"
      ],
      "execution_count": 0,
      "outputs": []
    },
    {
      "cell_type": "code",
      "metadata": {
        "id": "e6JH7aT0I7aJ",
        "colab_type": "code",
        "outputId": "581e6ae3-b4c5-4f35-ac2b-3b2c673a2a9c",
        "colab": {
          "base_uri": "https://localhost:8080/",
          "height": 722
        }
      },
      "source": [
        "model.fit(X_train, y_train_multilabel, \n",
        "          batch_size = batch_size,\n",
        "          validation_data=(X_test, y_test_multilabel),\n",
        "          epochs=epochs)"
      ],
      "execution_count": 41,
      "outputs": [
        {
          "output_type": "stream",
          "text": [
            "Train on 8205 samples, validate on 2077 samples\n",
            "Epoch 1/20\n",
            "8205/8205 [==============================] - 303s 37ms/step - loss: 0.6211 - accuracy: 0.6643 - val_loss: 0.6233 - val_accuracy: 0.6629\n",
            "Epoch 2/20\n",
            "8205/8205 [==============================] - 285s 35ms/step - loss: 0.6184 - accuracy: 0.6665 - val_loss: 0.6218 - val_accuracy: 0.6629\n",
            "Epoch 3/20\n",
            "8205/8205 [==============================] - 254s 31ms/step - loss: 0.6182 - accuracy: 0.6678 - val_loss: 0.6226 - val_accuracy: 0.6547\n",
            "Epoch 4/20\n",
            "8205/8205 [==============================] - 258s 31ms/step - loss: 0.6181 - accuracy: 0.6654 - val_loss: 0.6217 - val_accuracy: 0.6629\n",
            "Epoch 5/20\n",
            "8205/8205 [==============================] - 257s 31ms/step - loss: 0.6179 - accuracy: 0.6672 - val_loss: 0.6209 - val_accuracy: 0.6629\n",
            "Epoch 6/20\n",
            "8205/8205 [==============================] - 251s 31ms/step - loss: 0.6179 - accuracy: 0.6674 - val_loss: 0.6213 - val_accuracy: 0.6629\n",
            "Epoch 7/20\n",
            "8205/8205 [==============================] - 244s 30ms/step - loss: 0.6176 - accuracy: 0.6672 - val_loss: 0.6212 - val_accuracy: 0.6629\n",
            "Epoch 8/20\n",
            "8205/8205 [==============================] - 243s 30ms/step - loss: 0.6175 - accuracy: 0.6670 - val_loss: 0.6214 - val_accuracy: 0.6629\n",
            "Epoch 9/20\n",
            "8205/8205 [==============================] - 244s 30ms/step - loss: 0.6178 - accuracy: 0.6674 - val_loss: 0.6212 - val_accuracy: 0.6629\n",
            "Epoch 10/20\n",
            "8205/8205 [==============================] - 241s 29ms/step - loss: 0.6178 - accuracy: 0.6658 - val_loss: 0.6219 - val_accuracy: 0.6629\n",
            "Epoch 11/20\n",
            "8205/8205 [==============================] - 247s 30ms/step - loss: 0.6175 - accuracy: 0.6678 - val_loss: 0.6214 - val_accuracy: 0.6629\n",
            "Epoch 12/20\n",
            "8205/8205 [==============================] - 240s 29ms/step - loss: 0.6174 - accuracy: 0.6670 - val_loss: 0.6210 - val_accuracy: 0.6629\n",
            "Epoch 13/20\n",
            "8205/8205 [==============================] - 237s 29ms/step - loss: 0.6177 - accuracy: 0.6678 - val_loss: 0.6214 - val_accuracy: 0.6629\n",
            "Epoch 14/20\n",
            "8205/8205 [==============================] - 237s 29ms/step - loss: 0.6176 - accuracy: 0.6668 - val_loss: 0.6209 - val_accuracy: 0.6629\n",
            "Epoch 15/20\n",
            "8205/8205 [==============================] - 237s 29ms/step - loss: 0.6173 - accuracy: 0.6672 - val_loss: 0.6212 - val_accuracy: 0.6629\n",
            "Epoch 16/20\n",
            "8205/8205 [==============================] - 237s 29ms/step - loss: 0.6174 - accuracy: 0.6681 - val_loss: 0.6213 - val_accuracy: 0.6629\n",
            "Epoch 17/20\n",
            "8205/8205 [==============================] - 237s 29ms/step - loss: 0.6178 - accuracy: 0.6678 - val_loss: 0.6210 - val_accuracy: 0.6629\n",
            "Epoch 18/20\n",
            "8205/8205 [==============================] - 236s 29ms/step - loss: 0.6173 - accuracy: 0.6679 - val_loss: 0.6212 - val_accuracy: 0.6629\n",
            "Epoch 19/20\n",
            "8205/8205 [==============================] - 237s 29ms/step - loss: 0.6172 - accuracy: 0.6684 - val_loss: 0.6210 - val_accuracy: 0.6629\n",
            "Epoch 20/20\n",
            "8205/8205 [==============================] - 237s 29ms/step - loss: 0.6174 - accuracy: 0.6678 - val_loss: 0.6211 - val_accuracy: 0.6629\n"
          ],
          "name": "stdout"
        },
        {
          "output_type": "execute_result",
          "data": {
            "text/plain": [
              "<keras.callbacks.callbacks.History at 0x7fd1e8afc0f0>"
            ]
          },
          "metadata": {
            "tags": []
          },
          "execution_count": 41
        }
      ]
    },
    {
      "cell_type": "code",
      "metadata": {
        "id": "lVHxDO1VI7aM",
        "colab_type": "code",
        "colab": {
          "base_uri": "https://localhost:8080/",
          "height": 50
        },
        "outputId": "8a8ebf0a-88ac-476d-efe3-acc13ae860c4"
      },
      "source": [
        "test_loss, test_acc = model.evaluate(X_test, y_test_multilabel, verbose=2)\n",
        "\n",
        "print('\\nTest accuracy:', test_acc)"
      ],
      "execution_count": 42,
      "outputs": [
        {
          "output_type": "stream",
          "text": [
            "\n",
            "Test accuracy: 0.662879228591919\n"
          ],
          "name": "stdout"
        }
      ]
    },
    {
      "cell_type": "code",
      "metadata": {
        "id": "bZ8XkyVuI7aP",
        "colab_type": "code",
        "colab": {}
      },
      "source": [
        "model.save('lstm_model_manual5.h5') #Saving the Model for Future Use"
      ],
      "execution_count": 0,
      "outputs": []
    },
    {
      "cell_type": "code",
      "metadata": {
        "id": "qW6syzFxI7aS",
        "colab_type": "code",
        "colab": {}
      },
      "source": [
        "model = load_model('lstm_model_manual5.h5') #Loading the Model"
      ],
      "execution_count": 0,
      "outputs": []
    },
    {
      "cell_type": "code",
      "metadata": {
        "id": "3wFcd9VxI7aV",
        "colab_type": "code",
        "colab": {}
      },
      "source": [
        "model_prediction = model.predict(X_test, verbose=0)"
      ],
      "execution_count": 0,
      "outputs": []
    },
    {
      "cell_type": "code",
      "metadata": {
        "id": "tdHAvAscI7aY",
        "colab_type": "code",
        "outputId": "0f947c6f-502a-47f8-aaa7-bd0291a322fe",
        "colab": {
          "base_uri": "https://localhost:8080/",
          "height": 353
        }
      },
      "source": [
        "for i in range(5):\n",
        "    k = test.sample(1).index[0]\n",
        "    print(\"Movie: \", test['title'][k]) \n",
        "    print(\"Actual genre: \", y_test[k])\n",
        "    print(\"Predicted tag: \", cnt_vectorizer.inverse_transform(model_prediction[k])[0],\"\\n\")"
      ],
      "execution_count": 46,
      "outputs": [
        {
          "output_type": "stream",
          "text": [
            "Movie:  Merantau\n",
            "Actual genre:  violence\n",
            "Predicted tag:  ['cult' 'flashback' 'murder' 'romantic' 'violence'] \n",
            "\n",
            "Movie:  Hearts in Atlantis\n",
            "Actual genre:  flashback\n",
            "Predicted tag:  ['cult' 'flashback' 'murder' 'romantic' 'violence'] \n",
            "\n",
            "Movie:  2 Guns\n",
            "Actual genre:  murder, violence, flashback, romantic\n",
            "Predicted tag:  ['cult' 'flashback' 'murder' 'romantic' 'violence'] \n",
            "\n",
            "Movie:  The Karate Kid\n",
            "Actual genre:  cult, violence\n",
            "Predicted tag:  ['cult' 'flashback' 'murder' 'romantic' 'violence'] \n",
            "\n",
            "Movie:  American Ninja 5\n",
            "Actual genre:  murder, violence, flashback\n",
            "Predicted tag:  ['cult' 'flashback' 'murder' 'romantic' 'violence'] \n",
            "\n"
          ],
          "name": "stdout"
        }
      ]
    },
    {
      "cell_type": "code",
      "metadata": {
        "id": "mv0TW_xXI7ac",
        "colab_type": "code",
        "colab": {}
      },
      "source": [
        ""
      ],
      "execution_count": 0,
      "outputs": []
    }
  ]
}