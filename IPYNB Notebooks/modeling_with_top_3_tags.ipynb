{
 "cells": [
  {
   "cell_type": "markdown",
   "metadata": {
    "colab_type": "text",
    "id": "vY9Mk8ZiDCor"
   },
   "source": [
    "<h1><center>MPST: A Corpus of Movie Plot Synopses with Tags</center></h1>"
   ]
  },
  {
   "cell_type": "code",
   "execution_count": 1,
   "metadata": {
    "colab": {
     "base_uri": "https://localhost:8080/",
     "height": 258
    },
    "colab_type": "code",
    "id": "a2gjRKhJDCot",
    "outputId": "154981f7-29b6-4fd4-d492-639959243485"
   },
   "outputs": [
    {
     "name": "stdout",
     "output_type": "stream",
     "text": [
      "Requirement already satisfied: scikit-multilearn in c:\\programdata\\anaconda3\\lib\\site-packages (0.2.0)\n"
     ]
    },
    {
     "name": "stderr",
     "output_type": "stream",
     "text": [
      "C:\\ProgramData\\Anaconda3\\lib\\site-packages\\tensorflow\\python\\framework\\dtypes.py:516: FutureWarning: Passing (type, 1) or '1type' as a synonym of type is deprecated; in a future version of numpy, it will be understood as (type, (1,)) / '(1,)type'.\n",
      "  _np_qint8 = np.dtype([(\"qint8\", np.int8, 1)])\n",
      "C:\\ProgramData\\Anaconda3\\lib\\site-packages\\tensorflow\\python\\framework\\dtypes.py:517: FutureWarning: Passing (type, 1) or '1type' as a synonym of type is deprecated; in a future version of numpy, it will be understood as (type, (1,)) / '(1,)type'.\n",
      "  _np_quint8 = np.dtype([(\"quint8\", np.uint8, 1)])\n",
      "C:\\ProgramData\\Anaconda3\\lib\\site-packages\\tensorflow\\python\\framework\\dtypes.py:518: FutureWarning: Passing (type, 1) or '1type' as a synonym of type is deprecated; in a future version of numpy, it will be understood as (type, (1,)) / '(1,)type'.\n",
      "  _np_qint16 = np.dtype([(\"qint16\", np.int16, 1)])\n",
      "C:\\ProgramData\\Anaconda3\\lib\\site-packages\\tensorflow\\python\\framework\\dtypes.py:519: FutureWarning: Passing (type, 1) or '1type' as a synonym of type is deprecated; in a future version of numpy, it will be understood as (type, (1,)) / '(1,)type'.\n",
      "  _np_quint16 = np.dtype([(\"quint16\", np.uint16, 1)])\n",
      "C:\\ProgramData\\Anaconda3\\lib\\site-packages\\tensorflow\\python\\framework\\dtypes.py:520: FutureWarning: Passing (type, 1) or '1type' as a synonym of type is deprecated; in a future version of numpy, it will be understood as (type, (1,)) / '(1,)type'.\n",
      "  _np_qint32 = np.dtype([(\"qint32\", np.int32, 1)])\n",
      "C:\\ProgramData\\Anaconda3\\lib\\site-packages\\tensorflow\\python\\framework\\dtypes.py:525: FutureWarning: Passing (type, 1) or '1type' as a synonym of type is deprecated; in a future version of numpy, it will be understood as (type, (1,)) / '(1,)type'.\n",
      "  np_resource = np.dtype([(\"resource\", np.ubyte, 1)])\n",
      "C:\\ProgramData\\Anaconda3\\lib\\site-packages\\tensorboard\\compat\\tensorflow_stub\\dtypes.py:541: FutureWarning: Passing (type, 1) or '1type' as a synonym of type is deprecated; in a future version of numpy, it will be understood as (type, (1,)) / '(1,)type'.\n",
      "  _np_qint8 = np.dtype([(\"qint8\", np.int8, 1)])\n",
      "C:\\ProgramData\\Anaconda3\\lib\\site-packages\\tensorboard\\compat\\tensorflow_stub\\dtypes.py:542: FutureWarning: Passing (type, 1) or '1type' as a synonym of type is deprecated; in a future version of numpy, it will be understood as (type, (1,)) / '(1,)type'.\n",
      "  _np_quint8 = np.dtype([(\"quint8\", np.uint8, 1)])\n",
      "C:\\ProgramData\\Anaconda3\\lib\\site-packages\\tensorboard\\compat\\tensorflow_stub\\dtypes.py:543: FutureWarning: Passing (type, 1) or '1type' as a synonym of type is deprecated; in a future version of numpy, it will be understood as (type, (1,)) / '(1,)type'.\n",
      "  _np_qint16 = np.dtype([(\"qint16\", np.int16, 1)])\n",
      "C:\\ProgramData\\Anaconda3\\lib\\site-packages\\tensorboard\\compat\\tensorflow_stub\\dtypes.py:544: FutureWarning: Passing (type, 1) or '1type' as a synonym of type is deprecated; in a future version of numpy, it will be understood as (type, (1,)) / '(1,)type'.\n",
      "  _np_quint16 = np.dtype([(\"quint16\", np.uint16, 1)])\n",
      "C:\\ProgramData\\Anaconda3\\lib\\site-packages\\tensorboard\\compat\\tensorflow_stub\\dtypes.py:545: FutureWarning: Passing (type, 1) or '1type' as a synonym of type is deprecated; in a future version of numpy, it will be understood as (type, (1,)) / '(1,)type'.\n",
      "  _np_qint32 = np.dtype([(\"qint32\", np.int32, 1)])\n",
      "C:\\ProgramData\\Anaconda3\\lib\\site-packages\\tensorboard\\compat\\tensorflow_stub\\dtypes.py:550: FutureWarning: Passing (type, 1) or '1type' as a synonym of type is deprecated; in a future version of numpy, it will be understood as (type, (1,)) / '(1,)type'.\n",
      "  np_resource = np.dtype([(\"resource\", np.ubyte, 1)])\n",
      "unable to import 'smart_open.gcs', disabling that module\n",
      "Using TensorFlow backend.\n",
      "[nltk_data] Error loading punkt: <urlopen error [Errno 11001]\n",
      "[nltk_data]     getaddrinfo failed>\n",
      "[nltk_data] Error loading wordnet: <urlopen error [Errno 11001]\n",
      "[nltk_data]     getaddrinfo failed>\n"
     ]
    },
    {
     "data": {
      "application/javascript": [
       "IPython.notebook.set_autosave_interval(120000)"
      ]
     },
     "metadata": {},
     "output_type": "display_data"
    },
    {
     "name": "stdout",
     "output_type": "stream",
     "text": [
      "Autosaving every 120 seconds\n"
     ]
    }
   ],
   "source": [
    "!pip install scikit-multilearn\n",
    "\n",
    "import re\n",
    "import os\n",
    "import tqdm\n",
    "import nltk\n",
    "import pickle\n",
    "import sqlite3\n",
    "import warnings\n",
    "import numpy as np\n",
    "import pandas as pd\n",
    "from tqdm import tqdm\n",
    "import seaborn as sns\n",
    "import xgboost as xgb\n",
    "import tensorflow as tf\n",
    "from sklearn import metrics\n",
    "from tensorflow import keras\n",
    "from nltk.corpus import words\n",
    "from datetime import datetime\n",
    "from bs4 import BeautifulSoup\n",
    "from wordcloud import WordCloud\n",
    "import matplotlib.pyplot as plt\n",
    "from nltk.corpus import stopwords\n",
    "from gensim.models import Word2Vec\n",
    "from itertools import combinations\n",
    "from keras.models import load_model\n",
    "from keras.models import Sequential\n",
    "from tensorflow.keras import layers\n",
    "from nltk.stem import SnowballStemmer\n",
    "from sklearn.pipeline import Pipeline\n",
    "from nltk.tokenize import sent_tokenize\n",
    "from keras.preprocessing import sequence\n",
    "from scipy.sparse import coo_matrix, hstack\n",
    "from tensorflow.keras.utils import plot_model\n",
    "from keras.layers.embeddings import Embedding\n",
    "from sklearn.naive_bayes import MultinomialNB\n",
    "from sklearn.linear_model import SGDClassifier\n",
    "from sklearn.model_selection import GridSearchCV\n",
    "from sklearn.metrics import classification_report\n",
    "from sklearn.multiclass import OneVsRestClassifier\n",
    "from sklearn.linear_model import LogisticRegression\n",
    "from sklearn.preprocessing import MultiLabelBinarizer\n",
    "from sklearn.model_selection import RandomizedSearchCV\n",
    "from skmultilearn.problem_transform import BinaryRelevance\n",
    "from sklearn.feature_extraction.text import CountVectorizer, TfidfVectorizer\n",
    "from sklearn.metrics import f1_score,precision_score,recall_score,hamming_loss\n",
    "from keras.layers import Conv1D, Conv2D, Dense, Dropout, Flatten, LSTM, GlobalMaxPooling1D, MaxPooling2D, Activation, BatchNormalization\n",
    "\n",
    "%matplotlib inline\n",
    "nltk.download('punkt')\n",
    "nltk.download('wordnet')\n",
    "warnings.filterwarnings(\"ignore\")\n",
    "stemmer = SnowballStemmer('english')\n",
    "\n",
    "%autosave 120"
   ]
  },
  {
   "cell_type": "code",
   "execution_count": 2,
   "metadata": {
    "colab": {
     "base_uri": "https://localhost:8080/",
     "height": 576
    },
    "colab_type": "code",
    "id": "xZUxde7VDCoy",
    "outputId": "12b9b730-76c9-481b-9063-ad98d622e4d5"
   },
   "outputs": [
    {
     "data": {
      "text/html": [
       "<div>\n",
       "<style scoped>\n",
       "    .dataframe tbody tr th:only-of-type {\n",
       "        vertical-align: middle;\n",
       "    }\n",
       "\n",
       "    .dataframe tbody tr th {\n",
       "        vertical-align: top;\n",
       "    }\n",
       "\n",
       "    .dataframe thead th {\n",
       "        text-align: right;\n",
       "    }\n",
       "</style>\n",
       "<table border=\"1\" class=\"dataframe\">\n",
       "  <thead>\n",
       "    <tr style=\"text-align: right;\">\n",
       "      <th></th>\n",
       "      <th>title</th>\n",
       "      <th>plot_synopsis</th>\n",
       "      <th>tags</th>\n",
       "      <th>split</th>\n",
       "      <th>synopsis_source</th>\n",
       "      <th>cnt_dup</th>\n",
       "      <th>tag_count</th>\n",
       "      <th>synopsis_count</th>\n",
       "      <th>synopsis_sent_count</th>\n",
       "      <th>CleanedSynopsis</th>\n",
       "      <th>...</th>\n",
       "      <th>sentimental</th>\n",
       "      <th>storytelling</th>\n",
       "      <th>stupid</th>\n",
       "      <th>suicidal</th>\n",
       "      <th>suspenseful</th>\n",
       "      <th>thought-provoking</th>\n",
       "      <th>tragedy</th>\n",
       "      <th>violence</th>\n",
       "      <th>western</th>\n",
       "      <th>whimsical</th>\n",
       "    </tr>\n",
       "  </thead>\n",
       "  <tbody>\n",
       "    <tr>\n",
       "      <th>0</th>\n",
       "      <td>$</td>\n",
       "      <td>Set in Hamburg, West Germany, several criminal...</td>\n",
       "      <td>murder</td>\n",
       "      <td>test</td>\n",
       "      <td>imdb</td>\n",
       "      <td>1</td>\n",
       "      <td>1</td>\n",
       "      <td>648</td>\n",
       "      <td>26</td>\n",
       "      <td>set hamburg west germani sever crimin take adv...</td>\n",
       "      <td>...</td>\n",
       "      <td>0</td>\n",
       "      <td>0</td>\n",
       "      <td>0</td>\n",
       "      <td>0</td>\n",
       "      <td>0</td>\n",
       "      <td>0</td>\n",
       "      <td>0</td>\n",
       "      <td>0</td>\n",
       "      <td>0</td>\n",
       "      <td>0</td>\n",
       "    </tr>\n",
       "    <tr>\n",
       "      <th>1</th>\n",
       "      <td>$windle</td>\n",
       "      <td>A 6th grader named Griffin Bing decides to gat...</td>\n",
       "      <td>flashback</td>\n",
       "      <td>train</td>\n",
       "      <td>wikipedia</td>\n",
       "      <td>1</td>\n",
       "      <td>1</td>\n",
       "      <td>353</td>\n",
       "      <td>14</td>\n",
       "      <td>grader name griffin bing decid gather entir gr...</td>\n",
       "      <td>...</td>\n",
       "      <td>0</td>\n",
       "      <td>0</td>\n",
       "      <td>0</td>\n",
       "      <td>0</td>\n",
       "      <td>0</td>\n",
       "      <td>0</td>\n",
       "      <td>0</td>\n",
       "      <td>0</td>\n",
       "      <td>0</td>\n",
       "      <td>0</td>\n",
       "    </tr>\n",
       "    <tr>\n",
       "      <th>2</th>\n",
       "      <td>'71</td>\n",
       "      <td>Gary Hook, a new recruit to the British Army, ...</td>\n",
       "      <td>suspenseful, neo noir, murder, violence</td>\n",
       "      <td>train</td>\n",
       "      <td>wikipedia</td>\n",
       "      <td>1</td>\n",
       "      <td>4</td>\n",
       "      <td>699</td>\n",
       "      <td>39</td>\n",
       "      <td>gari hook new recruit british armi take leav m...</td>\n",
       "      <td>...</td>\n",
       "      <td>0</td>\n",
       "      <td>0</td>\n",
       "      <td>0</td>\n",
       "      <td>0</td>\n",
       "      <td>1</td>\n",
       "      <td>0</td>\n",
       "      <td>0</td>\n",
       "      <td>1</td>\n",
       "      <td>0</td>\n",
       "      <td>0</td>\n",
       "    </tr>\n",
       "    <tr>\n",
       "      <th>3</th>\n",
       "      <td>'A' gai wak</td>\n",
       "      <td>Sergeant Dragon Ma (Jackie Chan) is part of th...</td>\n",
       "      <td>cult, violence</td>\n",
       "      <td>train</td>\n",
       "      <td>wikipedia</td>\n",
       "      <td>1</td>\n",
       "      <td>2</td>\n",
       "      <td>665</td>\n",
       "      <td>41</td>\n",
       "      <td>sergeant dragon jacki chan part hong kong mari...</td>\n",
       "      <td>...</td>\n",
       "      <td>0</td>\n",
       "      <td>0</td>\n",
       "      <td>0</td>\n",
       "      <td>0</td>\n",
       "      <td>0</td>\n",
       "      <td>0</td>\n",
       "      <td>0</td>\n",
       "      <td>1</td>\n",
       "      <td>0</td>\n",
       "      <td>0</td>\n",
       "    </tr>\n",
       "    <tr>\n",
       "      <th>4</th>\n",
       "      <td>'Breaker' Morant</td>\n",
       "      <td>In Pretoria, South Africa, in 1902, Major Char...</td>\n",
       "      <td>murder, anti war, violence, flashback, tragedy...</td>\n",
       "      <td>train</td>\n",
       "      <td>wikipedia</td>\n",
       "      <td>1</td>\n",
       "      <td>6</td>\n",
       "      <td>1694</td>\n",
       "      <td>140</td>\n",
       "      <td>pretoria south africa major charl bolton rod m...</td>\n",
       "      <td>...</td>\n",
       "      <td>0</td>\n",
       "      <td>0</td>\n",
       "      <td>0</td>\n",
       "      <td>0</td>\n",
       "      <td>0</td>\n",
       "      <td>0</td>\n",
       "      <td>1</td>\n",
       "      <td>1</td>\n",
       "      <td>0</td>\n",
       "      <td>0</td>\n",
       "    </tr>\n",
       "  </tbody>\n",
       "</table>\n",
       "<p>5 rows × 81 columns</p>\n",
       "</div>"
      ],
      "text/plain": [
       "              title                                      plot_synopsis  \\\n",
       "0                 $  Set in Hamburg, West Germany, several criminal...   \n",
       "1           $windle  A 6th grader named Griffin Bing decides to gat...   \n",
       "2               '71  Gary Hook, a new recruit to the British Army, ...   \n",
       "3       'A' gai wak  Sergeant Dragon Ma (Jackie Chan) is part of th...   \n",
       "4  'Breaker' Morant  In Pretoria, South Africa, in 1902, Major Char...   \n",
       "\n",
       "                                                tags  split synopsis_source  \\\n",
       "0                                             murder   test            imdb   \n",
       "1                                          flashback  train       wikipedia   \n",
       "2            suspenseful, neo noir, murder, violence  train       wikipedia   \n",
       "3                                     cult, violence  train       wikipedia   \n",
       "4  murder, anti war, violence, flashback, tragedy...  train       wikipedia   \n",
       "\n",
       "   cnt_dup  tag_count  synopsis_count  synopsis_sent_count  \\\n",
       "0        1          1             648                   26   \n",
       "1        1          1             353                   14   \n",
       "2        1          4             699                   39   \n",
       "3        1          2             665                   41   \n",
       "4        1          6            1694                  140   \n",
       "\n",
       "                                     CleanedSynopsis  ...  sentimental  \\\n",
       "0  set hamburg west germani sever crimin take adv...  ...            0   \n",
       "1  grader name griffin bing decid gather entir gr...  ...            0   \n",
       "2  gari hook new recruit british armi take leav m...  ...            0   \n",
       "3  sergeant dragon jacki chan part hong kong mari...  ...            0   \n",
       "4  pretoria south africa major charl bolton rod m...  ...            0   \n",
       "\n",
       "   storytelling  stupid  suicidal  suspenseful  thought-provoking  tragedy  \\\n",
       "0             0       0         0            0                  0        0   \n",
       "1             0       0         0            0                  0        0   \n",
       "2             0       0         0            1                  0        0   \n",
       "3             0       0         0            0                  0        0   \n",
       "4             0       0         0            0                  0        1   \n",
       "\n",
       "   violence  western  whimsical  \n",
       "0         0        0          0  \n",
       "1         0        0          0  \n",
       "2         1        0          0  \n",
       "3         1        0          0  \n",
       "4         1        0          0  \n",
       "\n",
       "[5 rows x 81 columns]"
      ]
     },
     "execution_count": 2,
     "metadata": {},
     "output_type": "execute_result"
    }
   ],
   "source": [
    "data_with_all_tags = pd.read_csv(\"data_with_all_tags.csv\")\n",
    "data_with_all_tags.head()"
   ]
  },
  {
   "cell_type": "code",
   "execution_count": 3,
   "metadata": {
    "colab": {},
    "colab_type": "code",
    "id": "3o172YDrDCo1"
   },
   "outputs": [],
   "source": [
    "conn = sqlite3.connect('data.db')\n",
    "data_with_all_tags.to_sql('data', conn, if_exists='replace', index=False)\n",
    "train = pd.read_sql(\"Select * From data where split = 'train' OR split='val'\",conn)\n",
    "test =  pd.read_sql(\"Select * From data where split = 'test'\",conn)\n",
    "conn.close()"
   ]
  },
  {
   "cell_type": "code",
   "execution_count": 4,
   "metadata": {
    "colab": {},
    "colab_type": "code",
    "id": "Z-8mYwDiDCo4"
   },
   "outputs": [],
   "source": [
    "X_train = train[\"CleanedSynopsis\"]\n",
    "y_train= train[\"tags\"]\n",
    "\n",
    "X_test = test[\"CleanedSynopsis\"]\n",
    "y_test= test[\"tags\"]"
   ]
  },
  {
   "cell_type": "code",
   "execution_count": 5,
   "metadata": {
    "colab": {},
    "colab_type": "code",
    "id": "mA72XxZGDCo7"
   },
   "outputs": [],
   "source": [
    "def tokenize(x):\n",
    "    x=x.split(',')\n",
    "    tags=[i.strip() for i in x] #Some tags contains whitespaces before them, so we need to strip them\n",
    "    return tags\n",
    "\n",
    "cnt_vectorizer = CountVectorizer(tokenizer = tokenize, max_features=3, binary='true').fit(y_train)\n",
    "y_train_multilabel = cnt_vectorizer.transform(y_train)\n",
    "y_test_multilabel = cnt_vectorizer.transform(y_test)"
   ]
  },
  {
   "cell_type": "markdown",
   "metadata": {
    "colab_type": "text",
    "id": "hBHwBf3fDCo_"
   },
   "source": [
    "<h1> 1. TfidfVectorizer with 1 grams: </h1>"
   ]
  },
  {
   "cell_type": "code",
   "execution_count": 6,
   "metadata": {
    "colab": {
     "base_uri": "https://localhost:8080/",
     "height": 51
    },
    "colab_type": "code",
    "id": "ajLkcne3DCpA",
    "outputId": "c787761d-9756-408d-874a-e68c2723bd1a"
   },
   "outputs": [
    {
     "name": "stdout",
     "output_type": "stream",
     "text": [
      "Dimensions of train data X: (10989, 657) Y : (10989, 3)\n",
      "Dimensions of test data X: (2768, 657) Y: (2768, 3)\n"
     ]
    }
   ],
   "source": [
    "tf_vectorizer = TfidfVectorizer(min_df=0.09, tokenizer = lambda x: x.split(\" \"), ngram_range=(1,1))\n",
    "\n",
    "X_train_multilabel = tf_vectorizer.fit_transform(X_train)\n",
    "X_test_multilabel = tf_vectorizer.transform(X_test)\n",
    "\n",
    "print(\"Dimensions of train data X:\",X_train_multilabel.shape, \"Y :\",y_train_multilabel.shape)\n",
    "print(\"Dimensions of test data X:\",X_test_multilabel.shape,\"Y:\",y_test_multilabel.shape)"
   ]
  },
  {
   "cell_type": "markdown",
   "metadata": {
    "colab_type": "text",
    "id": "k7frifl2DCpD"
   },
   "source": [
    "<h2> 1.1 OneVsRestClassifier + MultinomialNB:</h2>"
   ]
  },
  {
   "cell_type": "code",
   "execution_count": 7,
   "metadata": {
    "colab": {
     "base_uri": "https://localhost:8080/",
     "height": 68
    },
    "colab_type": "code",
    "id": "3lA2UpMRDCpE",
    "outputId": "09f43a85-d8b6-4884-ebd9-04eded40c254"
   },
   "outputs": [
    {
     "data": {
      "text/plain": [
       "OneVsRestClassifier(estimator=MultinomialNB(alpha=1.0, class_prior=[0.5, 0.5],\n",
       "                                            fit_prior=True),\n",
       "                    n_jobs=None)"
      ]
     },
     "execution_count": 7,
     "metadata": {},
     "output_type": "execute_result"
    }
   ],
   "source": [
    "mb = MultinomialNB(class_prior = [0.5, 0.5])\n",
    "\n",
    "clf = OneVsRestClassifier(mb)\n",
    "clf.fit(X_train_multilabel, y_train_multilabel)"
   ]
  },
  {
   "cell_type": "code",
   "execution_count": 8,
   "metadata": {
    "colab": {
     "base_uri": "https://localhost:8080/",
     "height": 34
    },
    "colab_type": "code",
    "id": "bX4YUgBXDCpH",
    "outputId": "50fc724f-da63-470b-edee-65a1c9e7dab1"
   },
   "outputs": [
    {
     "name": "stdout",
     "output_type": "stream",
     "text": [
      "precision1: 0.4674, recall1: 0.6864, F1-measure: 0.5561\n"
     ]
    }
   ],
   "source": [
    "prediction1 = clf.predict(X_test_multilabel)\n",
    "\n",
    "precision1 = precision_score(y_test_multilabel, prediction1, average='micro')\n",
    "\n",
    "recall1 = recall_score(y_test_multilabel, prediction1, average='micro')\n",
    "\n",
    "f1_score1 = 2*((precision1 * recall1)/(precision1 + recall1))\n",
    "\n",
    "print(\"precision1: {:.4f}, recall1: {:.4f}, F1-measure: {:.4f}\".format(precision1, recall1, f1_score1))"
   ]
  },
  {
   "cell_type": "code",
   "execution_count": 9,
   "metadata": {
    "colab": {
     "base_uri": "https://localhost:8080/",
     "height": 357
    },
    "colab_type": "code",
    "id": "Q_MnZFmjDCpK",
    "outputId": "874f2d92-a268-407d-e97e-0d005ffa7a6d"
   },
   "outputs": [
    {
     "name": "stdout",
     "output_type": "stream",
     "text": [
      "Movie:  Anastasia\n",
      "Actual genre:  romantic, cute, entertaining\n",
      "Predicted tag:  [] \n",
      "\n",
      "Movie:  Dog City\n",
      "Actual genre:  psychedelic\n",
      "Predicted tag:  [] \n",
      "\n",
      "Movie:  Aftermath\n",
      "Actual genre:  violence\n",
      "Predicted tag:  ['flashback' 'murder' 'violence'] \n",
      "\n",
      "Movie:  What a Nightmare, Charlie Brown!\n",
      "Actual genre:  psychedelic\n",
      "Predicted tag:  [] \n",
      "\n",
      "Movie:  Witchcraft 7: Judgement Hour\n",
      "Actual genre:  paranormal\n",
      "Predicted tag:  ['flashback' 'murder' 'violence'] \n",
      "\n"
     ]
    }
   ],
   "source": [
    "for i in range(5):\n",
    "    k = test.sample(1).index[0]\n",
    "    print(\"Movie: \", test['title'][k]) \n",
    "    print(\"Actual genre: \",y_test[k])\n",
    "    print(\"Predicted tag: \", cnt_vectorizer.inverse_transform(prediction1[k])[0],\"\\n\")"
   ]
  },
  {
   "cell_type": "markdown",
   "metadata": {
    "colab_type": "text",
    "id": "jk6_Pn63DCpN"
   },
   "source": [
    "<h2> 1.2 OneVsRestClassifier + SGDClassifier with LOG Loss:</h2>"
   ]
  },
  {
   "cell_type": "code",
   "execution_count": 10,
   "metadata": {
    "colab": {
     "base_uri": "https://localhost:8080/",
     "height": 238
    },
    "colab_type": "code",
    "id": "IzLjlJ8UDCpN",
    "outputId": "987e6fea-b281-4e09-d31a-1d4538686481"
   },
   "outputs": [
    {
     "data": {
      "text/plain": [
       "OneVsRestClassifier(estimator=SGDClassifier(alpha=0.0001, average=False,\n",
       "                                            class_weight='balanced',\n",
       "                                            early_stopping=False, epsilon=0.1,\n",
       "                                            eta0=0.0, fit_intercept=True,\n",
       "                                            l1_ratio=0.15,\n",
       "                                            learning_rate='optimal', loss='log',\n",
       "                                            max_iter=1000, n_iter_no_change=5,\n",
       "                                            n_jobs=None, penalty='l2',\n",
       "                                            power_t=0.5, random_state=None,\n",
       "                                            shuffle=True, tol=0.001,\n",
       "                                            validation_fraction=0.1, verbose=0,\n",
       "                                            warm_start=False),\n",
       "                    n_jobs=None)"
      ]
     },
     "execution_count": 10,
     "metadata": {},
     "output_type": "execute_result"
    }
   ],
   "source": [
    "sgl = SGDClassifier(loss='log', class_weight='balanced')\n",
    "\n",
    "clf = OneVsRestClassifier(sgl)\n",
    "clf.fit(X_train_multilabel, y_train_multilabel)"
   ]
  },
  {
   "cell_type": "code",
   "execution_count": 11,
   "metadata": {
    "colab": {
     "base_uri": "https://localhost:8080/",
     "height": 34
    },
    "colab_type": "code",
    "id": "bke850EtDCpR",
    "outputId": "0940cf59-bfea-4974-d6d0-08c803ef6d12"
   },
   "outputs": [
    {
     "name": "stdout",
     "output_type": "stream",
     "text": [
      "precision2: 0.5057, recall2: 0.6680, F1-measure: 0.5757\n"
     ]
    }
   ],
   "source": [
    "prediction2 = clf.predict(X_test_multilabel)\n",
    "\n",
    "precision2 = precision_score(y_test_multilabel, prediction2, average='micro')\n",
    "\n",
    "recall2 = recall_score(y_test_multilabel, prediction2, average='micro')\n",
    "\n",
    "f1_score2 = 2*((precision2 * recall2)/(precision2 + recall2))\n",
    "\n",
    "print(\"precision2: {:.4f}, recall2: {:.4f}, F1-measure: {:.4f}\".format(precision2, recall2, f1_score2))"
   ]
  },
  {
   "cell_type": "code",
   "execution_count": 12,
   "metadata": {
    "colab": {
     "base_uri": "https://localhost:8080/",
     "height": 357
    },
    "colab_type": "code",
    "id": "EFcM7flcDCpU",
    "outputId": "3e05b1e7-9bdc-4f13-d171-f7b3094eeb21"
   },
   "outputs": [
    {
     "name": "stdout",
     "output_type": "stream",
     "text": [
      "Movie:  Capitalism: A Love Story\n",
      "Actual genre:  sentimental\n",
      "Predicted tag:  ['flashback'] \n",
      "\n",
      "Movie:  Saved!\n",
      "Actual genre:  romantic, humor, satire\n",
      "Predicted tag:  [] \n",
      "\n",
      "Movie:  How to Train Your Dragon 2\n",
      "Actual genre:  revenge, cute\n",
      "Predicted tag:  ['violence'] \n",
      "\n",
      "Movie:  Orfeu Negro\n",
      "Actual genre:  atmospheric\n",
      "Predicted tag:  ['murder'] \n",
      "\n",
      "Movie:  Accepted\n",
      "Actual genre:  romantic, action\n",
      "Predicted tag:  [] \n",
      "\n"
     ]
    }
   ],
   "source": [
    "for i in range(5):\n",
    "    k = test.sample(1).index[0]\n",
    "    print(\"Movie: \", test['title'][k]) \n",
    "    print(\"Actual genre: \",y_test[k])\n",
    "    print(\"Predicted tag: \", cnt_vectorizer.inverse_transform(prediction2[k])[0],\"\\n\")"
   ]
  },
  {
   "cell_type": "markdown",
   "metadata": {
    "colab_type": "text",
    "id": "sZJNmTiyDCpX"
   },
   "source": [
    "<h2> 1.3 OneVsRestClassifier + SGDClassifier with Hinge Loss:</h2>"
   ]
  },
  {
   "cell_type": "code",
   "execution_count": 13,
   "metadata": {
    "colab": {
     "base_uri": "https://localhost:8080/",
     "height": 238
    },
    "colab_type": "code",
    "id": "Y7eDG5BVDCpY",
    "outputId": "c90d9127-4df7-48d1-ba79-cac5d3b81994"
   },
   "outputs": [
    {
     "data": {
      "text/plain": [
       "OneVsRestClassifier(estimator=SGDClassifier(alpha=0.0001, average=False,\n",
       "                                            class_weight='balanced',\n",
       "                                            early_stopping=False, epsilon=0.1,\n",
       "                                            eta0=0.0, fit_intercept=True,\n",
       "                                            l1_ratio=0.15,\n",
       "                                            learning_rate='optimal',\n",
       "                                            loss='hinge', max_iter=1000,\n",
       "                                            n_iter_no_change=5, n_jobs=None,\n",
       "                                            penalty='l2', power_t=0.5,\n",
       "                                            random_state=None, shuffle=True,\n",
       "                                            tol=0.001, validation_fraction=0.1,\n",
       "                                            verbose=0, warm_start=False),\n",
       "                    n_jobs=None)"
      ]
     },
     "execution_count": 13,
     "metadata": {},
     "output_type": "execute_result"
    }
   ],
   "source": [
    "sgh = SGDClassifier(loss='hinge', class_weight='balanced')\n",
    "\n",
    "clf = OneVsRestClassifier(sgh)\n",
    "clf.fit(X_train_multilabel, y_train_multilabel)"
   ]
  },
  {
   "cell_type": "code",
   "execution_count": 14,
   "metadata": {
    "colab": {
     "base_uri": "https://localhost:8080/",
     "height": 34
    },
    "colab_type": "code",
    "id": "-L57YKxmDCpb",
    "outputId": "a7b1e935-3c78-46a1-cb93-718637edf08e"
   },
   "outputs": [
    {
     "name": "stdout",
     "output_type": "stream",
     "text": [
      "precision3: 0.5110, recall3: 0.6608, F1-measure: 0.5763\n"
     ]
    }
   ],
   "source": [
    "prediction3 = clf.predict(X_test_multilabel)\n",
    "\n",
    "precision3 = precision_score(y_test_multilabel, prediction3, average='micro')\n",
    "\n",
    "recall3 = recall_score(y_test_multilabel, prediction3, average='micro')\n",
    "\n",
    "f1_score3 = 2*((precision3 * recall3)/(precision3 + recall3))\n",
    "\n",
    "print(\"precision3: {:.4f}, recall3: {:.4f}, F1-measure: {:.4f}\".format(precision3, recall3, f1_score3))"
   ]
  },
  {
   "cell_type": "code",
   "execution_count": 15,
   "metadata": {
    "colab": {
     "base_uri": "https://localhost:8080/",
     "height": 357
    },
    "colab_type": "code",
    "id": "xYyKwo8GDCpd",
    "outputId": "fbb16f78-09f3-4264-b4b3-062f4038ed99"
   },
   "outputs": [
    {
     "name": "stdout",
     "output_type": "stream",
     "text": [
      "Movie:  Assassin's Creed IV: Black Flag\n",
      "Actual genre:  action\n",
      "Predicted tag:  ['flashback' 'murder' 'violence'] \n",
      "\n",
      "Movie:  The Kite Runner\n",
      "Actual genre:  romantic, violence, murder, storytelling, flashback\n",
      "Predicted tag:  ['flashback' 'violence'] \n",
      "\n",
      "Movie:  Guest House Paradiso\n",
      "Actual genre:  psychedelic, comedy\n",
      "Predicted tag:  [] \n",
      "\n",
      "Movie:  Gingerdead Man 2: Passion of the Crust\n",
      "Actual genre:  comedy, murder, violence\n",
      "Predicted tag:  ['flashback' 'murder' 'violence'] \n",
      "\n",
      "Movie:  Zazie dans le métro\n",
      "Actual genre:  absurd, psychedelic\n",
      "Predicted tag:  [] \n",
      "\n"
     ]
    }
   ],
   "source": [
    "for i in range(5):\n",
    "    k = test.sample(1).index[0]\n",
    "    print(\"Movie: \", test['title'][k]) \n",
    "    print(\"Actual genre: \",y_test[k])\n",
    "    print(\"Predicted tag: \", cnt_vectorizer.inverse_transform(prediction3[k])[0],\"\\n\")"
   ]
  },
  {
   "cell_type": "markdown",
   "metadata": {
    "colab_type": "text",
    "id": "MH_DhkiPDCpg"
   },
   "source": [
    "<h2> 1.4  OneVsRestClassifier + LogisticRegression:</h2>"
   ]
  },
  {
   "cell_type": "code",
   "execution_count": 16,
   "metadata": {
    "colab": {
     "base_uri": "https://localhost:8080/",
     "height": 187
    },
    "colab_type": "code",
    "id": "KtcTdSw-DCpg",
    "outputId": "85cbf85e-1ebb-41c3-a75a-537fd9b42b66"
   },
   "outputs": [
    {
     "data": {
      "text/plain": [
       "OneVsRestClassifier(estimator=LogisticRegression(C=1.0, class_weight='balanced',\n",
       "                                                 dual=False, fit_intercept=True,\n",
       "                                                 intercept_scaling=1,\n",
       "                                                 l1_ratio=None, max_iter=100,\n",
       "                                                 multi_class='auto',\n",
       "                                                 n_jobs=None, penalty='l2',\n",
       "                                                 random_state=None,\n",
       "                                                 solver='lbfgs', tol=0.0001,\n",
       "                                                 verbose=0, warm_start=False),\n",
       "                    n_jobs=None)"
      ]
     },
     "execution_count": 16,
     "metadata": {},
     "output_type": "execute_result"
    }
   ],
   "source": [
    "lr = LogisticRegression(class_weight='balanced')\n",
    "\n",
    "clf = OneVsRestClassifier(lr)\n",
    "clf.fit(X_train_multilabel, y_train_multilabel)"
   ]
  },
  {
   "cell_type": "code",
   "execution_count": 17,
   "metadata": {
    "colab": {
     "base_uri": "https://localhost:8080/",
     "height": 34
    },
    "colab_type": "code",
    "id": "1VeATn1iDCpk",
    "outputId": "539f7344-6fb5-4774-ba65-27d46f3d6580"
   },
   "outputs": [
    {
     "name": "stdout",
     "output_type": "stream",
     "text": [
      "precision4: 0.5076, recall4: 0.6836, F1-measure: 0.5826\n"
     ]
    }
   ],
   "source": [
    "prediction4 = clf.predict(X_test_multilabel)\n",
    "\n",
    "precision4 = precision_score(y_test_multilabel, prediction4, average='micro')\n",
    "\n",
    "recall4 = recall_score(y_test_multilabel, prediction4, average='micro')\n",
    "\n",
    "f1_score4 = 2*((precision4 * recall4)/(precision4 + recall4))\n",
    "\n",
    "print(\"precision4: {:.4f}, recall4: {:.4f}, F1-measure: {:.4f}\".format(precision4, recall4, f1_score4))"
   ]
  },
  {
   "cell_type": "code",
   "execution_count": 18,
   "metadata": {
    "colab": {
     "base_uri": "https://localhost:8080/",
     "height": 357
    },
    "colab_type": "code",
    "id": "0shkxDuJDCpm",
    "outputId": "a4e88533-8074-44f1-ec9c-4f7e225d2e9b"
   },
   "outputs": [
    {
     "name": "stdout",
     "output_type": "stream",
     "text": [
      "Movie:  The Sting\n",
      "Actual genre:  boring, depressing, murder, cult, plot twist, clever, inspiring, revenge, entertaining\n",
      "Predicted tag:  ['flashback' 'murder'] \n",
      "\n",
      "Movie:  Olivia\n",
      "Actual genre:  neo noir, cruelty, murder, violence, revenge, sadist\n",
      "Predicted tag:  [] \n",
      "\n",
      "Movie:  El capo\n",
      "Actual genre:  satire\n",
      "Predicted tag:  ['flashback' 'murder' 'violence'] \n",
      "\n",
      "Movie:  Bereavement\n",
      "Actual genre:  cult\n",
      "Predicted tag:  ['murder' 'violence'] \n",
      "\n",
      "Movie:  Arpointeu\n",
      "Actual genre:  neo noir, murder, paranormal, violence, flashback, revenge\n",
      "Predicted tag:  ['flashback' 'murder' 'violence'] \n",
      "\n"
     ]
    }
   ],
   "source": [
    "for i in range(5):\n",
    "    k = test.sample(1).index[0]\n",
    "    print(\"Movie: \", test['title'][k]) \n",
    "    print(\"Actual genre: \",y_test[k])\n",
    "    print(\"Predicted tag: \", cnt_vectorizer.inverse_transform(prediction4[k])[0],\"\\n\")"
   ]
  },
  {
   "cell_type": "markdown",
   "metadata": {
    "colab_type": "text",
    "id": "TItC30q6DCpp"
   },
   "source": [
    "<h1>2. TfidfVectorizer with (1 - 2 Grams):<?h1>"
   ]
  },
  {
   "cell_type": "code",
   "execution_count": 19,
   "metadata": {
    "colab": {
     "base_uri": "https://localhost:8080/",
     "height": 51
    },
    "colab_type": "code",
    "id": "LBE6SAMJDCpp",
    "outputId": "50303627-e32f-46ae-e7a3-324fcb58118b"
   },
   "outputs": [
    {
     "name": "stdout",
     "output_type": "stream",
     "text": [
      "Dimensions of train data X: (10989, 666) Y : (10989, 3)\n",
      "Dimensions of test data X: (2768, 666) Y: (2768, 3)\n"
     ]
    }
   ],
   "source": [
    "tf_vectorizer = TfidfVectorizer(min_df=0.09, tokenizer = lambda x: x.split(\" \"), ngram_range=(1,2))\n",
    "\n",
    "X_train_multilabel = tf_vectorizer.fit_transform(X_train)\n",
    "X_test_multilabel = tf_vectorizer.transform(X_test)\n",
    "\n",
    "print(\"Dimensions of train data X:\",X_train_multilabel.shape, \"Y :\",y_train_multilabel.shape)\n",
    "print(\"Dimensions of test data X:\",X_test_multilabel.shape,\"Y:\",y_test_multilabel.shape)"
   ]
  },
  {
   "cell_type": "markdown",
   "metadata": {
    "colab_type": "text",
    "id": "MgHAsJ_SDCpr"
   },
   "source": [
    "<H2> 2.1 OneVsRestClassifier + MultinomialNB :</H2>"
   ]
  },
  {
   "cell_type": "code",
   "execution_count": 20,
   "metadata": {
    "colab": {
     "base_uri": "https://localhost:8080/",
     "height": 68
    },
    "colab_type": "code",
    "id": "u_H7hHSEDCps",
    "outputId": "5c853a77-5c28-463a-e5f4-387eec0a80f6"
   },
   "outputs": [
    {
     "data": {
      "text/plain": [
       "OneVsRestClassifier(estimator=MultinomialNB(alpha=1.0, class_prior=[0.5, 0.5],\n",
       "                                            fit_prior=True),\n",
       "                    n_jobs=None)"
      ]
     },
     "execution_count": 20,
     "metadata": {},
     "output_type": "execute_result"
    }
   ],
   "source": [
    "mb = MultinomialNB(class_prior = [0.5, 0.5])\n",
    "\n",
    "clf = OneVsRestClassifier(mb)\n",
    "clf.fit(X_train_multilabel, y_train_multilabel)"
   ]
  },
  {
   "cell_type": "code",
   "execution_count": 21,
   "metadata": {
    "colab": {
     "base_uri": "https://localhost:8080/",
     "height": 34
    },
    "colab_type": "code",
    "id": "rR_FdRbZDCpu",
    "outputId": "3b8d2e8d-0f54-4c9b-a17c-ed0a1d9829af"
   },
   "outputs": [
    {
     "name": "stdout",
     "output_type": "stream",
     "text": [
      "precision5: 0.4680, recall5: 0.6860, F1-measure: 0.5564\n"
     ]
    }
   ],
   "source": [
    "prediction5 = clf.predict(X_test_multilabel)\n",
    "\n",
    "precision5 = precision_score(y_test_multilabel, prediction5, average='micro')\n",
    "\n",
    "recall5 = recall_score(y_test_multilabel, prediction5, average='micro')\n",
    "\n",
    "f1_score5 = 2*((precision5 * recall5)/(precision5 + recall5))\n",
    "\n",
    "print(\"precision5: {:.4f}, recall5: {:.4f}, F1-measure: {:.4f}\".format(precision5, recall5, f1_score5))"
   ]
  },
  {
   "cell_type": "code",
   "execution_count": 22,
   "metadata": {
    "colab": {
     "base_uri": "https://localhost:8080/",
     "height": 357
    },
    "colab_type": "code",
    "id": "0nYCZTnyDCpx",
    "outputId": "6452ca3b-ab06-4bf7-c85b-2dd7f56cc372"
   },
   "outputs": [
    {
     "name": "stdout",
     "output_type": "stream",
     "text": [
      "Movie:  Long-Distance Princess\n",
      "Actual genre:  romantic\n",
      "Predicted tag:  ['flashback'] \n",
      "\n",
      "Movie:  Time Lapse\n",
      "Actual genre:  plot twist, mystery, murder\n",
      "Predicted tag:  ['murder'] \n",
      "\n",
      "Movie:  What's Eating Gilbert Grape\n",
      "Actual genre:  tragedy, whimsical, psychedelic, boring, depressing\n",
      "Predicted tag:  ['flashback'] \n",
      "\n",
      "Movie:  The Rebound\n",
      "Actual genre:  comedy, romantic\n",
      "Predicted tag:  ['flashback'] \n",
      "\n",
      "Movie:  Une liaison pornographique\n",
      "Actual genre:  pornographic, realism, flashback\n",
      "Predicted tag:  ['flashback'] \n",
      "\n"
     ]
    }
   ],
   "source": [
    "for i in range(5):\n",
    "    k = test.sample(1).index[0]\n",
    "    print(\"Movie: \", test['title'][k]) \n",
    "    print(\"Actual genre: \",y_test[k])\n",
    "    print(\"Predicted tag: \", cnt_vectorizer.inverse_transform(prediction5[k])[0],\"\\n\")"
   ]
  },
  {
   "cell_type": "markdown",
   "metadata": {
    "colab_type": "text",
    "id": "OGAQgFJtDCpz"
   },
   "source": [
    "<h2> 2.2 OneVsRestClassifier + SGDClassifier with LOG Loss :</h2>"
   ]
  },
  {
   "cell_type": "code",
   "execution_count": 23,
   "metadata": {
    "colab": {
     "base_uri": "https://localhost:8080/",
     "height": 238
    },
    "colab_type": "code",
    "id": "tP0jIPhODCp0",
    "outputId": "0c8cfd12-c775-4b69-c53b-b3c90f054266"
   },
   "outputs": [
    {
     "data": {
      "text/plain": [
       "OneVsRestClassifier(estimator=SGDClassifier(alpha=0.0001, average=False,\n",
       "                                            class_weight='balanced',\n",
       "                                            early_stopping=False, epsilon=0.1,\n",
       "                                            eta0=0.0, fit_intercept=True,\n",
       "                                            l1_ratio=0.15,\n",
       "                                            learning_rate='optimal', loss='log',\n",
       "                                            max_iter=1000, n_iter_no_change=5,\n",
       "                                            n_jobs=None, penalty='l2',\n",
       "                                            power_t=0.5, random_state=None,\n",
       "                                            shuffle=True, tol=0.001,\n",
       "                                            validation_fraction=0.1, verbose=0,\n",
       "                                            warm_start=False),\n",
       "                    n_jobs=None)"
      ]
     },
     "execution_count": 23,
     "metadata": {},
     "output_type": "execute_result"
    }
   ],
   "source": [
    "sgl = SGDClassifier(loss='log', class_weight='balanced')\n",
    "\n",
    "clf = OneVsRestClassifier(sgl)\n",
    "clf.fit(X_train_multilabel, y_train_multilabel)"
   ]
  },
  {
   "cell_type": "code",
   "execution_count": 24,
   "metadata": {
    "colab": {
     "base_uri": "https://localhost:8080/",
     "height": 34
    },
    "colab_type": "code",
    "id": "8Omzrwn_DCp3",
    "outputId": "2a86be1a-4132-4366-dc36-0faa82a6e27c"
   },
   "outputs": [
    {
     "name": "stdout",
     "output_type": "stream",
     "text": [
      "precision6: 0.5160, recall6: 0.6776, F1-measure: 0.5858\n"
     ]
    }
   ],
   "source": [
    "prediction6 = clf.predict(X_test_multilabel)\n",
    "\n",
    "precision6 = precision_score(y_test_multilabel, prediction6, average='micro')\n",
    "\n",
    "recall6 = recall_score(y_test_multilabel, prediction6, average='micro')\n",
    "\n",
    "f1_score6 = 2*((precision6 * recall6)/(precision6 + recall6))\n",
    "\n",
    "print(\"precision6: {:.4f}, recall6: {:.4f}, F1-measure: {:.4f}\".format(precision6, recall6, f1_score6))"
   ]
  },
  {
   "cell_type": "code",
   "execution_count": 25,
   "metadata": {
    "colab": {
     "base_uri": "https://localhost:8080/",
     "height": 357
    },
    "colab_type": "code",
    "id": "pM-8DSt8DCp7",
    "outputId": "b3613e14-a8dc-4a96-9dbc-5feac2c04405"
   },
   "outputs": [
    {
     "name": "stdout",
     "output_type": "stream",
     "text": [
      "Movie:  Cape Fear\n",
      "Actual genre:  suspenseful, gothic, murder, neo noir, mystery, violence, cult, horror, flashback, good versus evil, revenge\n",
      "Predicted tag:  ['flashback' 'murder' 'violence'] \n",
      "\n",
      "Movie:  Wild Bill\n",
      "Actual genre:  cult, revenge, storytelling, flashback\n",
      "Predicted tag:  ['violence'] \n",
      "\n",
      "Movie:  Beyond the Law\n",
      "Actual genre:  romantic, neo noir, murder, violence, flashback\n",
      "Predicted tag:  ['murder'] \n",
      "\n",
      "Movie:  Blancanieves\n",
      "Actual genre:  cruelty, murder\n",
      "Predicted tag:  [] \n",
      "\n",
      "Movie:  Gabriel Over the White House\n",
      "Actual genre:  depressing\n",
      "Predicted tag:  ['violence'] \n",
      "\n"
     ]
    }
   ],
   "source": [
    "for i in range(5):\n",
    "    k = test.sample(1).index[0]\n",
    "    print(\"Movie: \", test['title'][k]) \n",
    "    print(\"Actual genre: \",y_test[k])\n",
    "    print(\"Predicted tag: \", cnt_vectorizer.inverse_transform(prediction6[k])[0],\"\\n\")"
   ]
  },
  {
   "cell_type": "markdown",
   "metadata": {
    "colab_type": "text",
    "id": "H1i_MkygDCp9"
   },
   "source": [
    "<h2> 2.3 OneVsRestClassifier + SGDClassifier with HINGE Loss : </h2>"
   ]
  },
  {
   "cell_type": "code",
   "execution_count": 26,
   "metadata": {
    "colab": {
     "base_uri": "https://localhost:8080/",
     "height": 238
    },
    "colab_type": "code",
    "id": "h73x2cj0DCp9",
    "outputId": "a0e27eeb-8c16-4626-b9c7-c4bbfda076ee"
   },
   "outputs": [
    {
     "data": {
      "text/plain": [
       "OneVsRestClassifier(estimator=SGDClassifier(alpha=0.0001, average=False,\n",
       "                                            class_weight='balanced',\n",
       "                                            early_stopping=False, epsilon=0.1,\n",
       "                                            eta0=0.0, fit_intercept=True,\n",
       "                                            l1_ratio=0.15,\n",
       "                                            learning_rate='optimal',\n",
       "                                            loss='hinge', max_iter=1000,\n",
       "                                            n_iter_no_change=5, n_jobs=None,\n",
       "                                            penalty='l2', power_t=0.5,\n",
       "                                            random_state=None, shuffle=True,\n",
       "                                            tol=0.001, validation_fraction=0.1,\n",
       "                                            verbose=0, warm_start=False),\n",
       "                    n_jobs=None)"
      ]
     },
     "execution_count": 26,
     "metadata": {},
     "output_type": "execute_result"
    }
   ],
   "source": [
    "sgh = SGDClassifier(loss='hinge', class_weight='balanced')\n",
    "\n",
    "clf = OneVsRestClassifier(sgh)\n",
    "clf.fit(X_train_multilabel, y_train_multilabel)"
   ]
  },
  {
   "cell_type": "code",
   "execution_count": 27,
   "metadata": {
    "colab": {
     "base_uri": "https://localhost:8080/",
     "height": 34
    },
    "colab_type": "code",
    "id": "a864hwsHDCqA",
    "outputId": "dafd4429-f398-431d-d92d-1869937fd249"
   },
   "outputs": [
    {
     "name": "stdout",
     "output_type": "stream",
     "text": [
      "precision7: 0.4907, recall7: 0.7023, F1-measure: 0.5777\n"
     ]
    }
   ],
   "source": [
    "prediction7 = clf.predict(X_test_multilabel)\n",
    "\n",
    "precision7 = precision_score(y_test_multilabel, prediction7, average='micro')\n",
    "\n",
    "recall7 = recall_score(y_test_multilabel, prediction7, average='micro')\n",
    "\n",
    "f1_score7 = 2*((precision7 * recall7)/(precision7 + recall7))\n",
    "\n",
    "print(\"precision7: {:.4f}, recall7: {:.4f}, F1-measure: {:.4f}\".format(precision7, recall7, f1_score7))"
   ]
  },
  {
   "cell_type": "code",
   "execution_count": 28,
   "metadata": {
    "colab": {
     "base_uri": "https://localhost:8080/",
     "height": 357
    },
    "colab_type": "code",
    "id": "h6F5IYHZDCqD",
    "outputId": "b60db974-6845-4ab0-be67-ad5b7388caf7"
   },
   "outputs": [
    {
     "name": "stdout",
     "output_type": "stream",
     "text": [
      "Movie:  Les deux orphelines vampires\n",
      "Actual genre:  insanity\n",
      "Predicted tag:  ['murder'] \n",
      "\n",
      "Movie:  The Blob\n",
      "Actual genre:  violence, cult, suspenseful, comedy, murder\n",
      "Predicted tag:  ['murder'] \n",
      "\n",
      "Movie:  La casa muda\n",
      "Actual genre:  plot twist, revenge\n",
      "Predicted tag:  [] \n",
      "\n",
      "Movie:  Fist Fight\n",
      "Actual genre:  prank\n",
      "Predicted tag:  [] \n",
      "\n",
      "Movie:  Linewatch\n",
      "Actual genre:  good versus evil, violence\n",
      "Predicted tag:  ['murder' 'violence'] \n",
      "\n"
     ]
    }
   ],
   "source": [
    "for i in range(5):\n",
    "    k = test.sample(1).index[0]\n",
    "    print(\"Movie: \", test['title'][k]) \n",
    "    print(\"Actual genre: \",y_test[k])\n",
    "    print(\"Predicted tag: \", cnt_vectorizer.inverse_transform(prediction7[k])[0],\"\\n\")"
   ]
  },
  {
   "cell_type": "markdown",
   "metadata": {
    "colab_type": "text",
    "id": "g7Yzn-YMDCqG"
   },
   "source": [
    "<h2> 2.4 OneVsRestClassifier + LogisticRegression:</h2>"
   ]
  },
  {
   "cell_type": "code",
   "execution_count": 29,
   "metadata": {
    "colab": {
     "base_uri": "https://localhost:8080/",
     "height": 187
    },
    "colab_type": "code",
    "id": "LCecqbPYDCqG",
    "outputId": "3b284568-497e-4f23-d344-3cc393ee559d"
   },
   "outputs": [
    {
     "data": {
      "text/plain": [
       "OneVsRestClassifier(estimator=LogisticRegression(C=1.0, class_weight='balanced',\n",
       "                                                 dual=False, fit_intercept=True,\n",
       "                                                 intercept_scaling=1,\n",
       "                                                 l1_ratio=None, max_iter=100,\n",
       "                                                 multi_class='auto',\n",
       "                                                 n_jobs=None, penalty='l2',\n",
       "                                                 random_state=None,\n",
       "                                                 solver='lbfgs', tol=0.0001,\n",
       "                                                 verbose=0, warm_start=False),\n",
       "                    n_jobs=None)"
      ]
     },
     "execution_count": 29,
     "metadata": {},
     "output_type": "execute_result"
    }
   ],
   "source": [
    "lr = LogisticRegression(class_weight='balanced')\n",
    "\n",
    "clf = OneVsRestClassifier(lr)\n",
    "clf.fit(X_train_multilabel, y_train_multilabel)"
   ]
  },
  {
   "cell_type": "code",
   "execution_count": 30,
   "metadata": {
    "colab": {
     "base_uri": "https://localhost:8080/",
     "height": 34
    },
    "colab_type": "code",
    "id": "j86V-6BaDCqJ",
    "outputId": "080d8bec-37b2-415e-b495-c2cb172ca0e3"
   },
   "outputs": [
    {
     "name": "stdout",
     "output_type": "stream",
     "text": [
      "precision8: 0.5081, recall8: 0.6848, F1-measure: 0.5834\n"
     ]
    }
   ],
   "source": [
    "prediction8 = clf.predict(X_test_multilabel)\n",
    "\n",
    "precision8 = precision_score(y_test_multilabel, prediction8, average='micro')\n",
    "\n",
    "recall8 = recall_score(y_test_multilabel, prediction8, average='micro')\n",
    "\n",
    "f1_score8 = 2*((precision8 * recall8)/(precision8 + recall8))\n",
    "\n",
    "print(\"precision8: {:.4f}, recall8: {:.4f}, F1-measure: {:.4f}\".format(precision8, recall8, f1_score8))"
   ]
  },
  {
   "cell_type": "code",
   "execution_count": 31,
   "metadata": {
    "colab": {
     "base_uri": "https://localhost:8080/",
     "height": 357
    },
    "colab_type": "code",
    "id": "WXyBI8_2DCqL",
    "outputId": "ea790f05-2a6b-4584-8be0-233b2e50861b"
   },
   "outputs": [
    {
     "name": "stdout",
     "output_type": "stream",
     "text": [
      "Movie:  Hare and Loathing in Las Vegas\n",
      "Actual genre:  psychedelic\n",
      "Predicted tag:  [] \n",
      "\n",
      "Movie:  Misconduct\n",
      "Actual genre:  neo noir\n",
      "Predicted tag:  ['murder' 'violence'] \n",
      "\n",
      "Movie:  Ten Little Indians\n",
      "Actual genre:  murder\n",
      "Predicted tag:  ['flashback' 'murder' 'violence'] \n",
      "\n",
      "Movie:  Hostel\n",
      "Actual genre:  boring, gothic, murder, stupid, violence, cult, horror, action, revenge, sadist\n",
      "Predicted tag:  ['violence'] \n",
      "\n",
      "Movie:  Scooby-Doo and the Witch's Ghost\n",
      "Actual genre:  paranormal, psychedelic, horror, mystery\n",
      "Predicted tag:  [] \n",
      "\n"
     ]
    }
   ],
   "source": [
    "for i in range(5):\n",
    "    k = test.sample(1).index[0]\n",
    "    print(\"Movie: \", test['title'][k]) \n",
    "    print(\"Actual genre: \",y_test[k])\n",
    "    print(\"Predicted tag: \", cnt_vectorizer.inverse_transform(prediction8[k])[0],\"\\n\")"
   ]
  },
  {
   "cell_type": "code",
   "execution_count": null,
   "metadata": {
    "colab": {},
    "colab_type": "code",
    "id": "0MqjNeQi7XG_"
   },
   "outputs": [],
   "source": []
  },
  {
   "cell_type": "markdown",
   "metadata": {
    "colab_type": "text",
    "id": "w1_LLwYoDCqO"
   },
   "source": [
    "<h1>3. TfidfVectorizer with (1 - 3 Grams):<?h1>"
   ]
  },
  {
   "cell_type": "code",
   "execution_count": 32,
   "metadata": {
    "colab": {
     "base_uri": "https://localhost:8080/",
     "height": 51
    },
    "colab_type": "code",
    "id": "T23u8WsoDCqO",
    "outputId": "3d59064d-f500-4c9a-92ef-a94841521f24"
   },
   "outputs": [
    {
     "name": "stdout",
     "output_type": "stream",
     "text": [
      "Dimensions of train data X: (10989, 666) Y : (10989, 3)\n",
      "Dimensions of test data X: (2768, 666) Y: (2768, 3)\n"
     ]
    }
   ],
   "source": [
    "tf_vectorizer = TfidfVectorizer(min_df=0.09, tokenizer = lambda x: x.split(\" \"), ngram_range=(1,3))\n",
    "\n",
    "X_train_multilabel = tf_vectorizer.fit_transform(X_train)\n",
    "X_test_multilabel = tf_vectorizer.transform(X_test)\n",
    "\n",
    "print(\"Dimensions of train data X:\",X_train_multilabel.shape, \"Y :\",y_train_multilabel.shape)\n",
    "print(\"Dimensions of test data X:\",X_test_multilabel.shape,\"Y:\",y_test_multilabel.shape)"
   ]
  },
  {
   "cell_type": "markdown",
   "metadata": {
    "colab_type": "text",
    "id": "NMeRyIKsDCqQ"
   },
   "source": [
    "<H2> 3.1 OneVsRestClassifier + MultinomialNB :</H2>"
   ]
  },
  {
   "cell_type": "code",
   "execution_count": 33,
   "metadata": {
    "colab": {
     "base_uri": "https://localhost:8080/",
     "height": 68
    },
    "colab_type": "code",
    "id": "EffderkGDCqR",
    "outputId": "b84c1541-0420-4912-8b1d-ffbad98a3d4e"
   },
   "outputs": [
    {
     "data": {
      "text/plain": [
       "OneVsRestClassifier(estimator=MultinomialNB(alpha=1.0, class_prior=[0.5, 0.5],\n",
       "                                            fit_prior=True),\n",
       "                    n_jobs=None)"
      ]
     },
     "execution_count": 33,
     "metadata": {},
     "output_type": "execute_result"
    }
   ],
   "source": [
    "mb = MultinomialNB(class_prior = [0.5, 0.5])\n",
    "\n",
    "clf = OneVsRestClassifier(mb)\n",
    "clf.fit(X_train_multilabel, y_train_multilabel)"
   ]
  },
  {
   "cell_type": "code",
   "execution_count": 34,
   "metadata": {
    "colab": {
     "base_uri": "https://localhost:8080/",
     "height": 34
    },
    "colab_type": "code",
    "id": "_fPj9KgyDCqT",
    "outputId": "e6f2bbd9-3ffb-4d3c-eee8-b0a186a49b41"
   },
   "outputs": [
    {
     "name": "stdout",
     "output_type": "stream",
     "text": [
      "precision9: 0.4680, recall9: 0.6860, F1-measure: 0.5564\n"
     ]
    }
   ],
   "source": [
    "prediction9 = clf.predict(X_test_multilabel)\n",
    "\n",
    "precision9 = precision_score(y_test_multilabel, prediction9, average='micro')\n",
    "\n",
    "recall9 = recall_score(y_test_multilabel, prediction9, average='micro')\n",
    "\n",
    "f1_score9 = 2*((precision9 * recall9)/(precision9 + recall9))\n",
    "\n",
    "print(\"precision9: {:.4f}, recall9: {:.4f}, F1-measure: {:.4f}\".format(precision9, recall9, f1_score9))"
   ]
  },
  {
   "cell_type": "code",
   "execution_count": 35,
   "metadata": {
    "colab": {
     "base_uri": "https://localhost:8080/",
     "height": 357
    },
    "colab_type": "code",
    "id": "M3Rdu8AKDCqV",
    "outputId": "73e87191-1b3b-4d27-eb4c-086e88056ace"
   },
   "outputs": [
    {
     "name": "stdout",
     "output_type": "stream",
     "text": [
      "Movie:  Tezaab\n",
      "Actual genre:  revenge, romantic, flashback\n",
      "Predicted tag:  ['flashback' 'murder' 'violence'] \n",
      "\n",
      "Movie:  My Summer of Love\n",
      "Actual genre:  dramatic, romantic, queer\n",
      "Predicted tag:  ['flashback'] \n",
      "\n",
      "Movie:  The Ten Commandments: The Musical\n",
      "Actual genre:  historical fiction\n",
      "Predicted tag:  ['violence'] \n",
      "\n",
      "Movie:  The Gambler and the Lady\n",
      "Actual genre:  revenge, murder\n",
      "Predicted tag:  ['murder' 'violence'] \n",
      "\n",
      "Movie:  Roxanne\n",
      "Actual genre:  romantic, psychedelic, entertaining\n",
      "Predicted tag:  ['flashback'] \n",
      "\n"
     ]
    }
   ],
   "source": [
    "for i in range(5):\n",
    "    k = test.sample(1).index[0]\n",
    "    print(\"Movie: \", test['title'][k]) \n",
    "    print(\"Actual genre: \",y_test[k])\n",
    "    print(\"Predicted tag: \", cnt_vectorizer.inverse_transform(prediction9[k])[0],\"\\n\")"
   ]
  },
  {
   "cell_type": "markdown",
   "metadata": {
    "colab_type": "text",
    "id": "KmEygrxSDCqY"
   },
   "source": [
    "<H2> 3.2 OneVsRestClassifier + SGDClassifier with LOG Loss :</H2>"
   ]
  },
  {
   "cell_type": "code",
   "execution_count": 36,
   "metadata": {
    "colab": {
     "base_uri": "https://localhost:8080/",
     "height": 238
    },
    "colab_type": "code",
    "id": "dIO98T1tDCqZ",
    "outputId": "7ee6ce97-3aa3-42fc-e00a-613dcc88b8a3"
   },
   "outputs": [
    {
     "data": {
      "text/plain": [
       "OneVsRestClassifier(estimator=SGDClassifier(alpha=0.0001, average=False,\n",
       "                                            class_weight='balanced',\n",
       "                                            early_stopping=False, epsilon=0.1,\n",
       "                                            eta0=0.0, fit_intercept=True,\n",
       "                                            l1_ratio=0.15,\n",
       "                                            learning_rate='optimal', loss='log',\n",
       "                                            max_iter=1000, n_iter_no_change=5,\n",
       "                                            n_jobs=None, penalty='l2',\n",
       "                                            power_t=0.5, random_state=None,\n",
       "                                            shuffle=True, tol=0.001,\n",
       "                                            validation_fraction=0.1, verbose=0,\n",
       "                                            warm_start=False),\n",
       "                    n_jobs=None)"
      ]
     },
     "execution_count": 36,
     "metadata": {},
     "output_type": "execute_result"
    }
   ],
   "source": [
    "sgl = SGDClassifier(loss='log', class_weight='balanced')\n",
    "\n",
    "clf = OneVsRestClassifier(sgl)\n",
    "clf.fit(X_train_multilabel, y_train_multilabel)"
   ]
  },
  {
   "cell_type": "code",
   "execution_count": 37,
   "metadata": {
    "colab": {
     "base_uri": "https://localhost:8080/",
     "height": 34
    },
    "colab_type": "code",
    "id": "zsdCC3yXDCqd",
    "outputId": "4b8865a0-a872-4ca7-f412-fb751db6f331"
   },
   "outputs": [
    {
     "name": "stdout",
     "output_type": "stream",
     "text": [
      "precision10: 0.5174, recall10: 0.6688, F1-measure: 0.5835\n"
     ]
    }
   ],
   "source": [
    "prediction10 = clf.predict(X_test_multilabel)\n",
    "\n",
    "precision10 = precision_score(y_test_multilabel, prediction10, average='micro')\n",
    "\n",
    "recall10 = recall_score(y_test_multilabel, prediction10, average='micro')\n",
    "\n",
    "f1_score10 = 2*((precision10 * recall10)/(precision10 + recall10))\n",
    "\n",
    "print(\"precision10: {:.4f}, recall10: {:.4f}, F1-measure: {:.4f}\".format(precision10, recall10, f1_score10))"
   ]
  },
  {
   "cell_type": "code",
   "execution_count": 38,
   "metadata": {
    "colab": {
     "base_uri": "https://localhost:8080/",
     "height": 357
    },
    "colab_type": "code",
    "id": "hKET1sFDDCqf",
    "outputId": "915a3da3-080a-4512-a120-ea1e0d7fbdbe"
   },
   "outputs": [
    {
     "name": "stdout",
     "output_type": "stream",
     "text": [
      "Movie:  American Son\n",
      "Actual genre:  violence, romantic, flashback\n",
      "Predicted tag:  ['flashback'] \n",
      "\n",
      "Movie:  Conan the Destroyer\n",
      "Actual genre:  murder, cult, fantasy, alternate history, violence\n",
      "Predicted tag:  ['murder' 'violence'] \n",
      "\n",
      "Movie:  Love & Other Drugs\n",
      "Actual genre:  romantic\n",
      "Predicted tag:  ['flashback'] \n",
      "\n",
      "Movie:  The Gazebo\n",
      "Actual genre:  suspenseful, murder\n",
      "Predicted tag:  ['murder'] \n",
      "\n",
      "Movie:  Kuch Kuch Hota Hai\n",
      "Actual genre:  flashback\n",
      "Predicted tag:  ['flashback'] \n",
      "\n"
     ]
    }
   ],
   "source": [
    "for i in range(5):\n",
    "    k = test.sample(1).index[0]\n",
    "    print(\"Movie: \", test['title'][k]) \n",
    "    print(\"Actual genre: \",y_test[k])\n",
    "    print(\"Predicted tag: \", cnt_vectorizer.inverse_transform(prediction10[k])[0],\"\\n\")"
   ]
  },
  {
   "cell_type": "markdown",
   "metadata": {
    "colab_type": "text",
    "id": "wX4gYLtVDCqi"
   },
   "source": [
    "<h2> 3.3 OneVsRestClassifier + SGDClassifier with HINGE Loss : </h2>"
   ]
  },
  {
   "cell_type": "code",
   "execution_count": 39,
   "metadata": {
    "colab": {
     "base_uri": "https://localhost:8080/",
     "height": 238
    },
    "colab_type": "code",
    "id": "GZVEbC3qDCqj",
    "outputId": "904cd428-f130-436c-e9fa-92b5dea95458"
   },
   "outputs": [
    {
     "data": {
      "text/plain": [
       "OneVsRestClassifier(estimator=SGDClassifier(alpha=0.0001, average=False,\n",
       "                                            class_weight='balanced',\n",
       "                                            early_stopping=False, epsilon=0.1,\n",
       "                                            eta0=0.0, fit_intercept=True,\n",
       "                                            l1_ratio=0.15,\n",
       "                                            learning_rate='optimal',\n",
       "                                            loss='hinge', max_iter=1000,\n",
       "                                            n_iter_no_change=5, n_jobs=None,\n",
       "                                            penalty='l2', power_t=0.5,\n",
       "                                            random_state=None, shuffle=True,\n",
       "                                            tol=0.001, validation_fraction=0.1,\n",
       "                                            verbose=0, warm_start=False),\n",
       "                    n_jobs=None)"
      ]
     },
     "execution_count": 39,
     "metadata": {},
     "output_type": "execute_result"
    }
   ],
   "source": [
    "sgh = SGDClassifier(loss='hinge', class_weight='balanced')\n",
    "\n",
    "clf = OneVsRestClassifier(sgh)\n",
    "clf.fit(X_train_multilabel, y_train_multilabel)"
   ]
  },
  {
   "cell_type": "code",
   "execution_count": 40,
   "metadata": {
    "colab": {
     "base_uri": "https://localhost:8080/",
     "height": 34
    },
    "colab_type": "code",
    "id": "5LWHHyAQDCqm",
    "outputId": "f3e3d067-927a-48f1-890c-e28c0a0cae68"
   },
   "outputs": [
    {
     "name": "stdout",
     "output_type": "stream",
     "text": [
      "precision11: 0.4960, recall11: 0.6864, F1-measure: 0.5758\n"
     ]
    }
   ],
   "source": [
    "prediction11 = clf.predict(X_test_multilabel)\n",
    "\n",
    "precision11 = precision_score(y_test_multilabel, prediction11, average='micro')\n",
    "\n",
    "recall11 = recall_score(y_test_multilabel, prediction11, average='micro')\n",
    "\n",
    "f1_score11 = 2*((precision11 * recall11)/(precision11 + recall11))\n",
    "\n",
    "print(\"precision11: {:.4f}, recall11: {:.4f}, F1-measure: {:.4f}\".format(precision11, recall11, f1_score11))"
   ]
  },
  {
   "cell_type": "code",
   "execution_count": 41,
   "metadata": {
    "colab": {
     "base_uri": "https://localhost:8080/",
     "height": 357
    },
    "colab_type": "code",
    "id": "CmEM5_SRDCqp",
    "outputId": "fde9f539-1c81-4ad5-f98f-ca745f2d6419"
   },
   "outputs": [
    {
     "name": "stdout",
     "output_type": "stream",
     "text": [
      "Movie:  Austin Powers: International Man of Mystery\n",
      "Actual genre:  comedy, boring, cult, good versus evil, psychedelic, humor, satire, revenge, entertaining\n",
      "Predicted tag:  [] \n",
      "\n",
      "Movie:  American Dreamer\n",
      "Actual genre:  intrigue\n",
      "Predicted tag:  ['flashback'] \n",
      "\n",
      "Movie:  Shootout at Wadala\n",
      "Actual genre:  violence\n",
      "Predicted tag:  ['flashback' 'murder' 'violence'] \n",
      "\n",
      "Movie:  Haunted - 3D\n",
      "Actual genre:  paranormal\n",
      "Predicted tag:  ['flashback'] \n",
      "\n",
      "Movie:  All-Star Superman\n",
      "Actual genre:  tragedy, whimsical, romantic, action\n",
      "Predicted tag:  ['flashback'] \n",
      "\n"
     ]
    }
   ],
   "source": [
    "for i in range(5):\n",
    "    k = test.sample(1).index[0]\n",
    "    print(\"Movie: \", test['title'][k]) \n",
    "    print(\"Actual genre: \",y_test[k])\n",
    "    print(\"Predicted tag: \", cnt_vectorizer.inverse_transform(prediction11[k])[0],\"\\n\")"
   ]
  },
  {
   "cell_type": "markdown",
   "metadata": {
    "colab_type": "text",
    "id": "-sO93loIDCqr"
   },
   "source": [
    "<h2> 3.4 OneVsRestClassifier + LogisticRegression:</h2>"
   ]
  },
  {
   "cell_type": "code",
   "execution_count": 42,
   "metadata": {
    "colab": {
     "base_uri": "https://localhost:8080/",
     "height": 187
    },
    "colab_type": "code",
    "id": "Yuv0jqQjDCqs",
    "outputId": "99d1f642-943b-46f2-93b3-deba018f84cf"
   },
   "outputs": [
    {
     "data": {
      "text/plain": [
       "OneVsRestClassifier(estimator=LogisticRegression(C=1.0, class_weight='balanced',\n",
       "                                                 dual=False, fit_intercept=True,\n",
       "                                                 intercept_scaling=1,\n",
       "                                                 l1_ratio=None, max_iter=100,\n",
       "                                                 multi_class='auto',\n",
       "                                                 n_jobs=None, penalty='l2',\n",
       "                                                 random_state=None,\n",
       "                                                 solver='lbfgs', tol=0.0001,\n",
       "                                                 verbose=0, warm_start=False),\n",
       "                    n_jobs=None)"
      ]
     },
     "execution_count": 42,
     "metadata": {},
     "output_type": "execute_result"
    }
   ],
   "source": [
    "lr = LogisticRegression(class_weight='balanced')\n",
    "\n",
    "clf = OneVsRestClassifier(lr)\n",
    "clf.fit(X_train_multilabel, y_train_multilabel)"
   ]
  },
  {
   "cell_type": "code",
   "execution_count": 43,
   "metadata": {
    "colab": {
     "base_uri": "https://localhost:8080/",
     "height": 34
    },
    "colab_type": "code",
    "id": "r5IpjIgRDCqu",
    "outputId": "2c86b27f-9c74-44ba-d7ce-98e46581a588"
   },
   "outputs": [
    {
     "name": "stdout",
     "output_type": "stream",
     "text": [
      "precision12: 0.5081, recall12: 0.6848, F1-measure: 0.5834\n"
     ]
    }
   ],
   "source": [
    "prediction12 = clf.predict(X_test_multilabel)\n",
    "\n",
    "precision12 = precision_score(y_test_multilabel, prediction12, average='micro')\n",
    "\n",
    "recall12 = recall_score(y_test_multilabel, prediction12, average='micro')\n",
    "\n",
    "f1_score12 = 2*((precision12 * recall12)/(precision12 + recall12))\n",
    "\n",
    "print(\"precision12: {:.4f}, recall12: {:.4f}, F1-measure: {:.4f}\".format(precision12, recall12, f1_score12))"
   ]
  },
  {
   "cell_type": "code",
   "execution_count": 44,
   "metadata": {
    "colab": {
     "base_uri": "https://localhost:8080/",
     "height": 357
    },
    "colab_type": "code",
    "id": "JtzK_F9_DCqx",
    "outputId": "4858f171-578b-4f70-82f4-18207abe2733"
   },
   "outputs": [
    {
     "name": "stdout",
     "output_type": "stream",
     "text": [
      "Movie:  End of Days\n",
      "Actual genre:  mystery, neo noir, murder, stupid, violence, flashback, good versus evil, suspenseful\n",
      "Predicted tag:  ['flashback' 'murder' 'violence'] \n",
      "\n",
      "Movie:  Zombeavers\n",
      "Actual genre:  absurd, entertaining\n",
      "Predicted tag:  ['violence'] \n",
      "\n",
      "Movie:  The Witches of Eastwick\n",
      "Actual genre:  comedy\n",
      "Predicted tag:  ['flashback'] \n",
      "\n",
      "Movie:  Chain of Desire\n",
      "Actual genre:  murder\n",
      "Predicted tag:  [] \n",
      "\n",
      "Movie:  Did You Hear About the Morgans?\n",
      "Actual genre:  entertaining, murder\n",
      "Predicted tag:  ['flashback' 'murder'] \n",
      "\n"
     ]
    }
   ],
   "source": [
    "for i in range(5):\n",
    "    k = test.sample(1).index[0]\n",
    "    print(\"Movie: \", test['title'][k]) \n",
    "    print(\"Actual genre: \",y_test[k])\n",
    "    print(\"Predicted tag: \", cnt_vectorizer.inverse_transform(prediction12[k])[0],\"\\n\")"
   ]
  },
  {
   "cell_type": "markdown",
   "metadata": {
    "colab_type": "text",
    "id": "j8kihBm_DCq1"
   },
   "source": [
    "<h1>4. TfidfVectorizer with (1 - 4 Grams):</h1>"
   ]
  },
  {
   "cell_type": "code",
   "execution_count": 45,
   "metadata": {
    "colab": {
     "base_uri": "https://localhost:8080/",
     "height": 51
    },
    "colab_type": "code",
    "id": "lUlWmY0tDCq2",
    "outputId": "7520d357-0c04-4930-bb35-5bec48617c11"
   },
   "outputs": [
    {
     "name": "stdout",
     "output_type": "stream",
     "text": [
      "Dimensions of train data X: (10989, 666) Y : (10989, 3)\n",
      "Dimensions of test data X: (2768, 666) Y: (2768, 3)\n"
     ]
    }
   ],
   "source": [
    "tf_vectorizer = TfidfVectorizer(min_df=0.09, tokenizer = lambda x: x.split(\" \"), ngram_range=(1, 4))\n",
    "\n",
    "X_train_multilabel = tf_vectorizer.fit_transform(X_train)\n",
    "X_test_multilabel = tf_vectorizer.transform(X_test)\n",
    "\n",
    "print(\"Dimensions of train data X:\",X_train_multilabel.shape, \"Y :\",y_train_multilabel.shape)\n",
    "print(\"Dimensions of test data X:\",X_test_multilabel.shape,\"Y:\",y_test_multilabel.shape)"
   ]
  },
  {
   "cell_type": "markdown",
   "metadata": {
    "colab_type": "text",
    "id": "1_W1FHeKDCq4"
   },
   "source": [
    "<H2> 4.1 OneVsRestClassifier + MultinomialNB :</H2>"
   ]
  },
  {
   "cell_type": "code",
   "execution_count": 46,
   "metadata": {
    "colab": {
     "base_uri": "https://localhost:8080/",
     "height": 68
    },
    "colab_type": "code",
    "id": "MbdyJ3f2DCq4",
    "outputId": "747d614a-a26f-4233-e46b-d035e33b661d"
   },
   "outputs": [
    {
     "data": {
      "text/plain": [
       "OneVsRestClassifier(estimator=MultinomialNB(alpha=1.0, class_prior=[0.5, 0.5],\n",
       "                                            fit_prior=True),\n",
       "                    n_jobs=None)"
      ]
     },
     "execution_count": 46,
     "metadata": {},
     "output_type": "execute_result"
    }
   ],
   "source": [
    "mb = MultinomialNB(class_prior = [0.5, 0.5])\n",
    "\n",
    "clf = OneVsRestClassifier(mb)\n",
    "clf.fit(X_train_multilabel, y_train_multilabel)"
   ]
  },
  {
   "cell_type": "code",
   "execution_count": 47,
   "metadata": {
    "colab": {
     "base_uri": "https://localhost:8080/",
     "height": 34
    },
    "colab_type": "code",
    "id": "jTFjm6QPDCq6",
    "outputId": "c9a0beb3-8877-4e12-bec9-376eafd81564"
   },
   "outputs": [
    {
     "name": "stdout",
     "output_type": "stream",
     "text": [
      "precision13: 0.4680, recall13: 0.6860, F1-measure: 0.5564\n"
     ]
    }
   ],
   "source": [
    "prediction13 = clf.predict(X_test_multilabel)\n",
    "\n",
    "precision13 = precision_score(y_test_multilabel, prediction13, average='micro')\n",
    "\n",
    "recall13 = recall_score(y_test_multilabel, prediction13, average='micro')\n",
    "\n",
    "f1_score13 = 2*((precision13 * recall13)/(precision13 + recall13))\n",
    "\n",
    "print(\"precision13: {:.4f}, recall13: {:.4f}, F1-measure: {:.4f}\".format(precision13, recall13, f1_score13))"
   ]
  },
  {
   "cell_type": "code",
   "execution_count": 48,
   "metadata": {
    "colab": {
     "base_uri": "https://localhost:8080/",
     "height": 357
    },
    "colab_type": "code",
    "id": "bJJjv5l2DCq8",
    "outputId": "6d2a0479-7bbe-4a17-ddf2-dedf62718c40"
   },
   "outputs": [
    {
     "name": "stdout",
     "output_type": "stream",
     "text": [
      "Movie:  Hold Your Breath\n",
      "Actual genre:  violence\n",
      "Predicted tag:  ['flashback' 'murder' 'violence'] \n",
      "\n",
      "Movie:  Nae Yeojachinguneun Gumiho\n",
      "Actual genre:  romantic\n",
      "Predicted tag:  [] \n",
      "\n",
      "Movie:  World Without End\n",
      "Actual genre:  murder\n",
      "Predicted tag:  ['violence'] \n",
      "\n",
      "Movie:  Absolon\n",
      "Actual genre:  philosophical\n",
      "Predicted tag:  ['flashback' 'murder' 'violence'] \n",
      "\n",
      "Movie:  Dread\n",
      "Actual genre:  violence, cruelty, murder, flashback\n",
      "Predicted tag:  ['flashback' 'murder' 'violence'] \n",
      "\n"
     ]
    }
   ],
   "source": [
    "for i in range(5):\n",
    "    k = test.sample(1).index[0]\n",
    "    print(\"Movie: \", test['title'][k]) \n",
    "    print(\"Actual genre: \",y_test[k])\n",
    "    print(\"Predicted tag: \", cnt_vectorizer.inverse_transform(prediction13[k])[0],\"\\n\")"
   ]
  },
  {
   "cell_type": "markdown",
   "metadata": {
    "colab_type": "text",
    "id": "EEm7sOMIDCrB"
   },
   "source": [
    "<h2> 4.2 OneVsRestClassifier + SGDClassifier with LOG Loss :</h2>"
   ]
  },
  {
   "cell_type": "code",
   "execution_count": 49,
   "metadata": {
    "colab": {
     "base_uri": "https://localhost:8080/",
     "height": 238
    },
    "colab_type": "code",
    "id": "i8hFdSjGDCrD",
    "outputId": "ef857023-c1f1-45c9-b221-c0f9deffcd80"
   },
   "outputs": [
    {
     "data": {
      "text/plain": [
       "OneVsRestClassifier(estimator=SGDClassifier(alpha=0.0001, average=False,\n",
       "                                            class_weight='balanced',\n",
       "                                            early_stopping=False, epsilon=0.1,\n",
       "                                            eta0=0.0, fit_intercept=True,\n",
       "                                            l1_ratio=0.15,\n",
       "                                            learning_rate='optimal', loss='log',\n",
       "                                            max_iter=1000, n_iter_no_change=5,\n",
       "                                            n_jobs=None, penalty='l2',\n",
       "                                            power_t=0.5, random_state=None,\n",
       "                                            shuffle=True, tol=0.001,\n",
       "                                            validation_fraction=0.1, verbose=0,\n",
       "                                            warm_start=False),\n",
       "                    n_jobs=None)"
      ]
     },
     "execution_count": 49,
     "metadata": {},
     "output_type": "execute_result"
    }
   ],
   "source": [
    "sgl = SGDClassifier(loss='log', class_weight='balanced')\n",
    "\n",
    "clf = OneVsRestClassifier(sgl)\n",
    "clf.fit(X_train_multilabel, y_train_multilabel)"
   ]
  },
  {
   "cell_type": "code",
   "execution_count": 50,
   "metadata": {
    "colab": {
     "base_uri": "https://localhost:8080/",
     "height": 34
    },
    "colab_type": "code",
    "id": "RmVCDapEDCrF",
    "outputId": "7cea3c9e-9c72-4070-dc18-0596c03032b6"
   },
   "outputs": [
    {
     "name": "stdout",
     "output_type": "stream",
     "text": [
      "precision14: 0.5068, recall14: 0.6864, F1-measure: 0.5831\n"
     ]
    }
   ],
   "source": [
    "prediction14 = clf.predict(X_test_multilabel)\n",
    "\n",
    "precision14 = precision_score(y_test_multilabel, prediction14, average='micro')\n",
    "\n",
    "recall14 = recall_score(y_test_multilabel, prediction14, average='micro')\n",
    "\n",
    "f1_score14 = 2*((precision14 * recall14)/(precision14 + recall14))\n",
    "\n",
    "print(\"precision14: {:.4f}, recall14: {:.4f}, F1-measure: {:.4f}\".format(precision14, recall14, f1_score14))"
   ]
  },
  {
   "cell_type": "code",
   "execution_count": 51,
   "metadata": {
    "colab": {
     "base_uri": "https://localhost:8080/",
     "height": 357
    },
    "colab_type": "code",
    "id": "a47_6ckUDCrL",
    "outputId": "32a0c316-dd83-45e5-8f20-71064b2804d4"
   },
   "outputs": [
    {
     "name": "stdout",
     "output_type": "stream",
     "text": [
      "Movie:  The Spanish Main\n",
      "Actual genre:  intrigue, action, violence\n",
      "Predicted tag:  ['violence'] \n",
      "\n",
      "Movie:  The Importance of Being Earnest\n",
      "Actual genre:  romantic\n",
      "Predicted tag:  [] \n",
      "\n",
      "Movie:  Anastasia\n",
      "Actual genre:  romantic, cute, entertaining\n",
      "Predicted tag:  ['flashback'] \n",
      "\n",
      "Movie:  Flawless\n",
      "Actual genre:  violence, romantic, murder, storytelling\n",
      "Predicted tag:  ['flashback' 'murder'] \n",
      "\n",
      "Movie:  8MM\n",
      "Actual genre:  mystery, cruelty, murder, neo noir, cult, revenge, violence, suspenseful, sadist\n",
      "Predicted tag:  ['murder' 'violence'] \n",
      "\n"
     ]
    }
   ],
   "source": [
    "for i in range(5):\n",
    "    k = test.sample(1).index[0]\n",
    "    print(\"Movie: \", test['title'][k]) \n",
    "    print(\"Actual genre: \",y_test[k])\n",
    "    print(\"Predicted tag: \", cnt_vectorizer.inverse_transform(prediction14[k])[0],\"\\n\")"
   ]
  },
  {
   "cell_type": "markdown",
   "metadata": {
    "colab_type": "text",
    "id": "ZQFSV7cfDCrN"
   },
   "source": [
    "<h2> 4.3 OneVsRestClassifier + SGDClassifier with HINGE Loss : </h2>"
   ]
  },
  {
   "cell_type": "code",
   "execution_count": 52,
   "metadata": {
    "colab": {
     "base_uri": "https://localhost:8080/",
     "height": 238
    },
    "colab_type": "code",
    "id": "2cWlmf_6DCrN",
    "outputId": "47542c3c-8a90-4bbb-81b1-672d0546ee22"
   },
   "outputs": [
    {
     "data": {
      "text/plain": [
       "OneVsRestClassifier(estimator=SGDClassifier(alpha=0.0001, average=False,\n",
       "                                            class_weight='balanced',\n",
       "                                            early_stopping=False, epsilon=0.1,\n",
       "                                            eta0=0.0, fit_intercept=True,\n",
       "                                            l1_ratio=0.15,\n",
       "                                            learning_rate='optimal',\n",
       "                                            loss='hinge', max_iter=1000,\n",
       "                                            n_iter_no_change=5, n_jobs=None,\n",
       "                                            penalty='l2', power_t=0.5,\n",
       "                                            random_state=None, shuffle=True,\n",
       "                                            tol=0.001, validation_fraction=0.1,\n",
       "                                            verbose=0, warm_start=False),\n",
       "                    n_jobs=None)"
      ]
     },
     "execution_count": 52,
     "metadata": {},
     "output_type": "execute_result"
    }
   ],
   "source": [
    "sgh = SGDClassifier(loss='hinge', class_weight='balanced')\n",
    "\n",
    "clf = OneVsRestClassifier(sgh)\n",
    "clf.fit(X_train_multilabel, y_train_multilabel)"
   ]
  },
  {
   "cell_type": "code",
   "execution_count": 53,
   "metadata": {
    "colab": {
     "base_uri": "https://localhost:8080/",
     "height": 34
    },
    "colab_type": "code",
    "id": "eu3J-6tbDCrR",
    "outputId": "698ed33d-04b2-46e4-fecb-12fef0422a02"
   },
   "outputs": [
    {
     "name": "stdout",
     "output_type": "stream",
     "text": [
      "precision15: 0.4954, recall15: 0.6891, F1-measure: 0.5764\n"
     ]
    }
   ],
   "source": [
    "prediction15 = clf.predict(X_test_multilabel)\n",
    "\n",
    "precision15 = precision_score(y_test_multilabel, prediction15, average='micro')\n",
    "\n",
    "recall15 = recall_score(y_test_multilabel, prediction15, average='micro')\n",
    "\n",
    "f1_score15 = 2*((precision15 * recall15)/(precision15 + recall15))\n",
    "\n",
    "print(\"precision15: {:.4f}, recall15: {:.4f}, F1-measure: {:.4f}\".format(precision15, recall15, f1_score15))"
   ]
  },
  {
   "cell_type": "code",
   "execution_count": 54,
   "metadata": {
    "colab": {
     "base_uri": "https://localhost:8080/",
     "height": 357
    },
    "colab_type": "code",
    "id": "xLiyKSgxDCrT",
    "outputId": "b62cd5d6-d285-44ba-9c95-ea246d832043"
   },
   "outputs": [
    {
     "name": "stdout",
     "output_type": "stream",
     "text": [
      "Movie:  Elizabeth: The Golden Age\n",
      "Actual genre:  intrigue\n",
      "Predicted tag:  ['murder'] \n",
      "\n",
      "Movie:  Dishonored 2\n",
      "Actual genre:  sci-fi\n",
      "Predicted tag:  ['murder' 'violence'] \n",
      "\n",
      "Movie:  In Your Eyes\n",
      "Actual genre:  paranormal, romantic, fantasy, mystery\n",
      "Predicted tag:  [] \n",
      "\n",
      "Movie:  Final Fantasy: The Spirits Within\n",
      "Actual genre:  psychedelic, romantic, flashback\n",
      "Predicted tag:  ['violence'] \n",
      "\n",
      "Movie:  From A to Z-Z-Z-Z\n",
      "Actual genre:  psychedelic\n",
      "Predicted tag:  [] \n",
      "\n"
     ]
    }
   ],
   "source": [
    "for i in range(5):\n",
    "    k = test.sample(1).index[0]\n",
    "    print(\"Movie: \", test['title'][k]) \n",
    "    print(\"Actual genre: \",y_test[k])\n",
    "    print(\"Predicted tag: \", cnt_vectorizer.inverse_transform(prediction15[k])[0],\"\\n\")"
   ]
  },
  {
   "cell_type": "markdown",
   "metadata": {
    "colab_type": "text",
    "id": "ledBrICiDCrX"
   },
   "source": [
    "<h2> 4.4 OneVsRestClassifier + LogisticRegression:</h2>"
   ]
  },
  {
   "cell_type": "code",
   "execution_count": 55,
   "metadata": {
    "colab": {
     "base_uri": "https://localhost:8080/",
     "height": 187
    },
    "colab_type": "code",
    "id": "QNbViIV5DCrY",
    "outputId": "5dc4cf83-3f8c-470e-b840-1ded6c32c62e"
   },
   "outputs": [
    {
     "data": {
      "text/plain": [
       "OneVsRestClassifier(estimator=LogisticRegression(C=1.0, class_weight='balanced',\n",
       "                                                 dual=False, fit_intercept=True,\n",
       "                                                 intercept_scaling=1,\n",
       "                                                 l1_ratio=None, max_iter=100,\n",
       "                                                 multi_class='auto',\n",
       "                                                 n_jobs=None, penalty='l2',\n",
       "                                                 random_state=None,\n",
       "                                                 solver='lbfgs', tol=0.0001,\n",
       "                                                 verbose=0, warm_start=False),\n",
       "                    n_jobs=None)"
      ]
     },
     "execution_count": 55,
     "metadata": {},
     "output_type": "execute_result"
    }
   ],
   "source": [
    "lr = LogisticRegression(class_weight='balanced')\n",
    "\n",
    "clf = OneVsRestClassifier(lr)\n",
    "clf.fit(X_train_multilabel, y_train_multilabel)"
   ]
  },
  {
   "cell_type": "code",
   "execution_count": 56,
   "metadata": {
    "colab": {
     "base_uri": "https://localhost:8080/",
     "height": 34
    },
    "colab_type": "code",
    "id": "QkWjv0t1DCrb",
    "outputId": "e34f3336-00f1-4462-8828-1028ce255b08"
   },
   "outputs": [
    {
     "name": "stdout",
     "output_type": "stream",
     "text": [
      "precision16: 0.5081, recall16: 0.6848, F1-measure: 0.5834\n"
     ]
    }
   ],
   "source": [
    "prediction16 = clf.predict(X_test_multilabel)\n",
    "\n",
    "precision16 = precision_score(y_test_multilabel, prediction16, average='micro')\n",
    "\n",
    "recall16 = recall_score(y_test_multilabel, prediction16, average='micro')\n",
    "\n",
    "f1_score16 = 2*((precision16 * recall16)/(precision16 + recall16))\n",
    "\n",
    "print(\"precision16: {:.4f}, recall16: {:.4f}, F1-measure: {:.4f}\".format(precision16, recall16, f1_score16))"
   ]
  },
  {
   "cell_type": "code",
   "execution_count": 57,
   "metadata": {
    "colab": {
     "base_uri": "https://localhost:8080/",
     "height": 357
    },
    "colab_type": "code",
    "id": "gPKu18VODCrf",
    "outputId": "cf506bb4-0e99-448e-9a8a-9f6c8a6576fa"
   },
   "outputs": [
    {
     "name": "stdout",
     "output_type": "stream",
     "text": [
      "Movie:  Red Sky\n",
      "Actual genre:  violence, murder\n",
      "Predicted tag:  [] \n",
      "\n",
      "Movie:  Last Summer\n",
      "Actual genre:  violence, cruelty, romantic\n",
      "Predicted tag:  [] \n",
      "\n",
      "Movie:  Real Life\n",
      "Actual genre:  satire\n",
      "Predicted tag:  [] \n",
      "\n",
      "Movie:  One Crazy Summer\n",
      "Actual genre:  psychedelic\n",
      "Predicted tag:  [] \n",
      "\n",
      "Movie:  Mumsy, Nanny, Sonny & Girly\n",
      "Actual genre:  insanity, cult, murder\n",
      "Predicted tag:  [] \n",
      "\n"
     ]
    }
   ],
   "source": [
    "for i in range(5):\n",
    "    k = test.sample(1).index[0]\n",
    "    print(\"Movie: \", test['title'][k]) \n",
    "    print(\"Actual genre: \",y_test[k])\n",
    "    print(\"Predicted tag: \", cnt_vectorizer.inverse_transform(prediction16[k])[0],\"\\n\")"
   ]
  },
  {
   "cell_type": "markdown",
   "metadata": {
    "colab_type": "text",
    "id": "TL9oONdSDCri"
   },
   "source": [
    "<h1> Conclusion: </h1>"
   ]
  },
  {
   "cell_type": "code",
   "execution_count": 58,
   "metadata": {
    "colab": {
     "base_uri": "https://localhost:8080/",
     "height": 459
    },
    "colab_type": "code",
    "id": "bLYF9nL-DCri",
    "outputId": "7aecf545-692c-4a73-d7de-1a749139e68a"
   },
   "outputs": [
    {
     "name": "stdout",
     "output_type": "stream",
     "text": [
      "+----------------------+-----------------+--------+-----------+--------+----------+\n",
      "|        Model         |    Vectorizer   | ngrams | Precision | recall | f1_score |\n",
      "+----------------------+-----------------+--------+-----------+--------+----------+\n",
      "|    MultinomialNB     | TfidfVectorizer | (1, 1) |   0.467   | 0.686  |  0.556   |\n",
      "|  SGDClassifier(log)  | TfidfVectorizer | (1, 1) |   0.506   | 0.668  |  0.576   |\n",
      "| SGDClassifier(hinge) | TfidfVectorizer | (1, 1) |   0.511   | 0.661  |  0.576   |\n",
      "|  LogisticRegression  | TfidfVectorizer | (1, 1) |   0.508   | 0.684  |  0.583   |\n",
      "|                      |                 |        |           |        |          |\n",
      "|                      |                 |        |           |        |          |\n",
      "|    MultinomialNB     | TfidfVectorizer | (1, 2) |   0.468   | 0.686  |  0.556   |\n",
      "|  SGDClassifier(log)  | TfidfVectorizer | (1, 2) |   0.516   | 0.678  |  0.586   |\n",
      "| SGDClassifier(hinge) | TfidfVectorizer | (1, 2) |   0.491   | 0.702  |  0.578   |\n",
      "|  LogisticRegression  | TfidfVectorizer | (1, 2) |   0.508   | 0.685  |  0.583   |\n",
      "|                      |                 |        |           |        |          |\n",
      "|                      |                 |        |           |        |          |\n",
      "|    MultinomialNB     | TfidfVectorizer | (1, 3) |   0.468   | 0.686  |  0.556   |\n",
      "|  SGDClassifier(log)  | TfidfVectorizer | (1, 3) |   0.517   | 0.669  |  0.583   |\n",
      "| SGDClassifier(hinge) | TfidfVectorizer | (1, 3) |   0.496   | 0.686  |  0.576   |\n",
      "|  LogisticRegression  | TfidfVectorizer | (1, 3) |   0.508   | 0.685  |  0.583   |\n",
      "|                      |                 |        |           |        |          |\n",
      "|                      |                 |        |           |        |          |\n",
      "|    MultinomialNB     | TfidfVectorizer | (1, 4) |   0.468   | 0.686  |  0.556   |\n",
      "|  SGDClassifier(log)  | TfidfVectorizer | (1, 4) |   0.507   | 0.686  |  0.583   |\n",
      "| SGDClassifier(hinge) | TfidfVectorizer | (1, 4) |   0.495   | 0.689  |  0.576   |\n",
      "|  LogisticRegression  | TfidfVectorizer | (1, 4) |   0.508   | 0.685  |  0.583   |\n",
      "+----------------------+-----------------+--------+-----------+--------+----------+\n"
     ]
    }
   ],
   "source": [
    "from prettytable import PrettyTable\n",
    "\n",
    "tabel = PrettyTable()\n",
    "\n",
    "tabel.field_names=['Model','Vectorizer','ngrams','Precision','recall','f1_score']\n",
    "\n",
    "\n",
    "\n",
    "tabel.add_row(['MultinomialNB', 'TfidfVectorizer', '(1, 1)', round(precision1, 3),round(recall1, 3), round(f1_score1, 3)])\n",
    "\n",
    "tabel.add_row(['SGDClassifier(log)', 'TfidfVectorizer', '(1, 1)', round(precision2, 3), round(recall2, 3), round(f1_score2, 3)])\n",
    "\n",
    "tabel.add_row(['SGDClassifier(hinge)','TfidfVectorizer','(1, 1)' ,round(precision3, 3),  round(recall3, 3), round(f1_score3, 3)])\n",
    "\n",
    "tabel.add_row(['LogisticRegression','TfidfVectorizer','(1, 1)', round(precision4, 3), round(recall4, 3), round(f1_score4, 3)])\n",
    "\n",
    "tabel.add_row(['','','','','',''])\n",
    "tabel.add_row(['','','','','',''])\n",
    "\n",
    "\n",
    "tabel.add_row(['MultinomialNB', 'TfidfVectorizer', '(1, 2)', round(precision5, 3), round(recall5, 3),  round(f1_score5, 3)])\n",
    "\n",
    "tabel.add_row(['SGDClassifier(log)', 'TfidfVectorizer', '(1, 2)', round(precision6, 3),  round(recall6, 3),  round(f1_score6, 3)])\n",
    "\n",
    "tabel.add_row(['SGDClassifier(hinge)','TfidfVectorizer','(1, 2)', round(precision7, 3),  round(recall7, 3),  round(f1_score7, 3)])\n",
    "\n",
    "tabel.add_row(['LogisticRegression','TfidfVectorizer','(1, 2)', round(precision8, 3),  round(recall8, 3),  round(f1_score8, 3)])\n",
    "\n",
    "tabel.add_row(['','','','','',''])\n",
    "tabel.add_row(['','','','','',''])\n",
    "\n",
    "\n",
    "tabel.add_row(['MultinomialNB', 'TfidfVectorizer', '(1, 3)', round(precision9, 3),  round(recall9, 3), round(f1_score9, 3)])\n",
    "\n",
    "tabel.add_row(['SGDClassifier(log)', 'TfidfVectorizer', '(1, 3)', round(precision10, 3),  round(recall10, 3), round(f1_score10, 3)])\n",
    "\n",
    "tabel.add_row(['SGDClassifier(hinge)','TfidfVectorizer','(1, 3)', round(precision11, 3),  round(recall11, 3), round(f1_score11, 3)])\n",
    "\n",
    "tabel.add_row(['LogisticRegression','TfidfVectorizer','(1, 3)', round(precision12, 3),  round(recall12, 3), round(f1_score12, 3)])\n",
    "\n",
    "tabel.add_row(['','','','','',''])\n",
    "tabel.add_row(['','','','','',''])\n",
    "\n",
    "tabel.add_row(['MultinomialNB', 'TfidfVectorizer', '(1, 4)', round(precision13, 3), round(recall13, 3), round(f1_score13, 3)])\n",
    "\n",
    "tabel.add_row(['SGDClassifier(log)', 'TfidfVectorizer', '(1, 4)', round(precision14, 3), round(recall14, 3), round(f1_score14, 3)])\n",
    "\n",
    "tabel.add_row(['SGDClassifier(hinge)','TfidfVectorizer','(1, 4)', round(precision15, 3), round(recall15, 3), round(f1_score15, 3)])\n",
    "\n",
    "tabel.add_row(['LogisticRegression','TfidfVectorizer','(1, 4)', round(precision16, 3),  round(recall16, 3),  round(f1_score16, 3)])\n",
    "\n",
    "\n",
    "\n",
    "print(tabel)"
   ]
  },
  {
   "cell_type": "markdown",
   "metadata": {
    "colab_type": "text",
    "id": "FD7mETO2neaC"
   },
   "source": [
    "<h1>5. Word2Vec</h1>"
   ]
  },
  {
   "cell_type": "code",
   "execution_count": 59,
   "metadata": {
    "colab": {
     "base_uri": "https://localhost:8080/",
     "height": 34
    },
    "colab_type": "code",
    "id": "kHchBsAgneaD",
    "outputId": "9cc5b752-7542-4a15-f583-a1c91d7f770c"
   },
   "outputs": [
    {
     "name": "stderr",
     "output_type": "stream",
     "text": [
      "100%|█████████████████████████████████████████████████████████████████████████| 10989/10989 [00:00<00:00, 12660.62it/s]\n"
     ]
    }
   ],
   "source": [
    "X_train_new = []\n",
    "\n",
    "for i in tqdm(range(len(list(X_train)))):\n",
    "    X_train_new.append(X_train[i].split(\" \"))"
   ]
  },
  {
   "cell_type": "code",
   "execution_count": 60,
   "metadata": {
    "colab": {},
    "colab_type": "code",
    "id": "fpbjHq57neaK"
   },
   "outputs": [],
   "source": [
    "with open('glove.6B.300d.pkl', 'rb') as f:\n",
    "    new_model = pickle.load(f)\n",
    "    words =  set(new_model.keys())"
   ]
  },
  {
   "cell_type": "code",
   "execution_count": 61,
   "metadata": {
    "colab": {
     "base_uri": "https://localhost:8080/",
     "height": 34
    },
    "colab_type": "code",
    "id": "uPjE27RGneaL",
    "outputId": "869d2ab3-c0eb-4d4c-f1e4-9738bcb09e8d"
   },
   "outputs": [
    {
     "name": "stderr",
     "output_type": "stream",
     "text": [
      "100%|███████████████████████████████████████████████████████████████████████████| 10989/10989 [00:11<00:00, 939.76it/s]\n"
     ]
    }
   ],
   "source": [
    "X_train_multilabel = []; # the avg-w2v for each sentence/review is stored in this list\n",
    "for sentence in tqdm(X_train.values): # for each review/sentence\n",
    "    vector = np.zeros(300) # as word vectors are of zero length\n",
    "    cnt_words =0; # num of words with a valid vector in the sentence/review\n",
    "    for word in sentence.split():\n",
    "        if word in words:\n",
    "            vector += new_model[word]\n",
    "            cnt_words += 1\n",
    "    if cnt_words != 0:\n",
    "        vector /= cnt_words\n",
    "    X_train_multilabel.append(vector)"
   ]
  },
  {
   "cell_type": "code",
   "execution_count": 62,
   "metadata": {
    "colab": {
     "base_uri": "https://localhost:8080/",
     "height": 34
    },
    "colab_type": "code",
    "id": "3LElplKSneaN",
    "outputId": "7dd13e28-7fdf-482d-b65a-5f1aeee78a16"
   },
   "outputs": [
    {
     "name": "stderr",
     "output_type": "stream",
     "text": [
      "100%|█████████████████████████████████████████████████████████████████████████████| 2768/2768 [00:03<00:00, 877.01it/s]\n"
     ]
    }
   ],
   "source": [
    "X_test_multilabel = []; # the avg-w2v for each sentence/review is stored in this list\n",
    "for sentence in tqdm(X_test.values): # for each review/sentence\n",
    "    vector = np.zeros(300) # as word vectors are of zero length\n",
    "    cnt_words =0; # num of words with a valid vector in the sentence/review\n",
    "    for word in sentence.split():\n",
    "        if word in words:\n",
    "            vector += new_model[word]\n",
    "            cnt_words += 1\n",
    "    if cnt_words != 0:\n",
    "        vector /= cnt_words\n",
    "    X_test_multilabel.append(vector)"
   ]
  },
  {
   "cell_type": "markdown",
   "metadata": {
    "colab_type": "text",
    "id": "42x_61umneaR"
   },
   "source": [
    "<H2> 5.1 OneVsRestClassifier + SGDClassifier with LOG Loss :</H2>"
   ]
  },
  {
   "cell_type": "code",
   "execution_count": 63,
   "metadata": {
    "colab": {
     "base_uri": "https://localhost:8080/",
     "height": 238
    },
    "colab_type": "code",
    "id": "rOdod1QwneaR",
    "outputId": "2fec9b84-24c7-4a04-dd13-93cfcf62bcff"
   },
   "outputs": [
    {
     "data": {
      "text/plain": [
       "OneVsRestClassifier(estimator=SGDClassifier(alpha=0.0001, average=False,\n",
       "                                            class_weight='balanced',\n",
       "                                            early_stopping=False, epsilon=0.1,\n",
       "                                            eta0=0.0, fit_intercept=True,\n",
       "                                            l1_ratio=0.15,\n",
       "                                            learning_rate='optimal', loss='log',\n",
       "                                            max_iter=1000, n_iter_no_change=5,\n",
       "                                            n_jobs=None, penalty='l2',\n",
       "                                            power_t=0.5, random_state=None,\n",
       "                                            shuffle=True, tol=0.001,\n",
       "                                            validation_fraction=0.1, verbose=0,\n",
       "                                            warm_start=False),\n",
       "                    n_jobs=None)"
      ]
     },
     "execution_count": 63,
     "metadata": {},
     "output_type": "execute_result"
    }
   ],
   "source": [
    "sgl = SGDClassifier(loss='log', class_weight='balanced')\n",
    "\n",
    "clf = OneVsRestClassifier(sgl)\n",
    "clf.fit(X_train_multilabel, y_train_multilabel)"
   ]
  },
  {
   "cell_type": "code",
   "execution_count": 64,
   "metadata": {
    "colab": {
     "base_uri": "https://localhost:8080/",
     "height": 34
    },
    "colab_type": "code",
    "id": "-bBpSSF0neaT",
    "outputId": "b9fb3b23-6f20-449c-8858-7b63b82b9b39"
   },
   "outputs": [
    {
     "name": "stdout",
     "output_type": "stream",
     "text": [
      "precision17: 0.4235, recall17: 0.7881, F1-measure: 0.5509\n"
     ]
    }
   ],
   "source": [
    "prediction17 = clf.predict(X_test_multilabel)\n",
    "\n",
    "precision17 = precision_score(y_test_multilabel, prediction17, average='micro')\n",
    "\n",
    "recall17 = recall_score(y_test_multilabel, prediction17, average='micro')\n",
    "\n",
    "f1_score17 = 2*((precision17 * recall17)/(precision17 + recall17))\n",
    "\n",
    "print(\"precision17: {:.4f}, recall17: {:.4f}, F1-measure: {:.4f}\".format(precision17, recall17, f1_score17))"
   ]
  },
  {
   "cell_type": "code",
   "execution_count": 65,
   "metadata": {
    "colab": {
     "base_uri": "https://localhost:8080/",
     "height": 357
    },
    "colab_type": "code",
    "id": "v4t1KcbqneaV",
    "outputId": "1157a2df-64ce-4a84-c404-ef7f23ac0050"
   },
   "outputs": [
    {
     "name": "stdout",
     "output_type": "stream",
     "text": [
      "Movie:  Topper\n",
      "Actual genre:  comedy\n",
      "Predicted tag:  [] \n",
      "\n",
      "Movie:  La otra\n",
      "Actual genre:  murder, melodrama\n",
      "Predicted tag:  ['flashback' 'murder'] \n",
      "\n",
      "Movie:  Conan the Destroyer\n",
      "Actual genre:  murder, cult, fantasy, alternate history, violence\n",
      "Predicted tag:  ['violence'] \n",
      "\n",
      "Movie:  Magnificent Obsession\n",
      "Actual genre:  melodrama, flashback\n",
      "Predicted tag:  ['flashback'] \n",
      "\n",
      "Movie:  Lilja 4-ever\n",
      "Actual genre:  tragedy, violence, depressing\n",
      "Predicted tag:  ['flashback' 'murder' 'violence'] \n",
      "\n"
     ]
    }
   ],
   "source": [
    "for i in range(5):\n",
    "    k = test.sample(1).index[0]\n",
    "    print(\"Movie: \", test['title'][k]) \n",
    "    print(\"Actual genre: \",y_test[k])\n",
    "    print(\"Predicted tag: \", cnt_vectorizer.inverse_transform(prediction17[k])[0],\"\\n\")"
   ]
  },
  {
   "cell_type": "markdown",
   "metadata": {
    "colab_type": "text",
    "id": "6zZOZxfzneaX"
   },
   "source": [
    "<h2> 5.2 OneVsRestClassifier + SGDClassifier with HINGE Loss : </h2>"
   ]
  },
  {
   "cell_type": "code",
   "execution_count": 66,
   "metadata": {
    "colab": {
     "base_uri": "https://localhost:8080/",
     "height": 238
    },
    "colab_type": "code",
    "id": "J9Vpw0xVneaX",
    "outputId": "c13b3b6a-0e4b-4736-dd7f-59ca8410d902"
   },
   "outputs": [
    {
     "data": {
      "text/plain": [
       "OneVsRestClassifier(estimator=SGDClassifier(alpha=0.0001, average=False,\n",
       "                                            class_weight='balanced',\n",
       "                                            early_stopping=False, epsilon=0.1,\n",
       "                                            eta0=0.0, fit_intercept=True,\n",
       "                                            l1_ratio=0.15,\n",
       "                                            learning_rate='optimal',\n",
       "                                            loss='hinge', max_iter=1000,\n",
       "                                            n_iter_no_change=5, n_jobs=None,\n",
       "                                            penalty='l2', power_t=0.5,\n",
       "                                            random_state=None, shuffle=True,\n",
       "                                            tol=0.001, validation_fraction=0.1,\n",
       "                                            verbose=0, warm_start=False),\n",
       "                    n_jobs=None)"
      ]
     },
     "execution_count": 66,
     "metadata": {},
     "output_type": "execute_result"
    }
   ],
   "source": [
    "sgh = SGDClassifier(loss='hinge', class_weight='balanced')\n",
    "\n",
    "clf = OneVsRestClassifier(sgh)\n",
    "clf.fit(X_train_multilabel, y_train_multilabel)"
   ]
  },
  {
   "cell_type": "code",
   "execution_count": 67,
   "metadata": {
    "colab": {
     "base_uri": "https://localhost:8080/",
     "height": 34
    },
    "colab_type": "code",
    "id": "abqpO_6gneaZ",
    "outputId": "5141ea3c-cf71-4434-de5a-1fa1fe30e841"
   },
   "outputs": [
    {
     "name": "stdout",
     "output_type": "stream",
     "text": [
      "precision18: 0.4624, recall18: 0.6903, F1-measure: 0.5539\n"
     ]
    }
   ],
   "source": [
    "prediction18 = clf.predict(X_test_multilabel)\n",
    "\n",
    "precision18 = precision_score(y_test_multilabel, prediction18, average='micro')\n",
    "\n",
    "recall18 = recall_score(y_test_multilabel, prediction18, average='micro')\n",
    "\n",
    "f1_score18 = 2*((precision18 * recall18)/(precision18 + recall18))\n",
    "\n",
    "print(\"precision18: {:.4f}, recall18: {:.4f}, F1-measure: {:.4f}\".format(precision18, recall18, f1_score18))"
   ]
  },
  {
   "cell_type": "code",
   "execution_count": 68,
   "metadata": {
    "colab": {
     "base_uri": "https://localhost:8080/",
     "height": 357
    },
    "colab_type": "code",
    "id": "gus5nGHTneab",
    "outputId": "7a99bf72-b93c-493a-c660-aad07f12cf1f"
   },
   "outputs": [
    {
     "name": "stdout",
     "output_type": "stream",
     "text": [
      "Movie:  Orange County\n",
      "Actual genre:  flashback\n",
      "Predicted tag:  [] \n",
      "\n",
      "Movie:  Mo' Money\n",
      "Actual genre:  murder\n",
      "Predicted tag:  ['flashback' 'murder' 'violence'] \n",
      "\n",
      "Movie:  Serbuan maut\n",
      "Actual genre:  cult, suspenseful, murder, violence, flashback\n",
      "Predicted tag:  ['murder' 'violence'] \n",
      "\n",
      "Movie:  Dog Park\n",
      "Actual genre:  romantic\n",
      "Predicted tag:  [] \n",
      "\n",
      "Movie:  Aan\n",
      "Actual genre:  romantic\n",
      "Predicted tag:  [] \n",
      "\n"
     ]
    }
   ],
   "source": [
    "for i in range(5):\n",
    "    k = test.sample(1).index[0]\n",
    "    print(\"Movie: \", test['title'][k]) \n",
    "    print(\"Actual genre: \",y_test[k])\n",
    "    print(\"Predicted tag: \", cnt_vectorizer.inverse_transform(prediction18[k])[0],\"\\n\")"
   ]
  },
  {
   "cell_type": "markdown",
   "metadata": {
    "colab_type": "text",
    "id": "6nd0BkwVnead"
   },
   "source": [
    "<h2> 5.3 OneVsRestClassifier + LogisticRegression:</h2>"
   ]
  },
  {
   "cell_type": "code",
   "execution_count": 69,
   "metadata": {
    "colab": {
     "base_uri": "https://localhost:8080/",
     "height": 187
    },
    "colab_type": "code",
    "id": "ofetdopdnead",
    "outputId": "f6977594-e009-41e3-a9fb-8de2bf423e61"
   },
   "outputs": [
    {
     "data": {
      "text/plain": [
       "OneVsRestClassifier(estimator=LogisticRegression(C=1.0, class_weight='balanced',\n",
       "                                                 dual=False, fit_intercept=True,\n",
       "                                                 intercept_scaling=1,\n",
       "                                                 l1_ratio=None, max_iter=100,\n",
       "                                                 multi_class='auto',\n",
       "                                                 n_jobs=None, penalty='l2',\n",
       "                                                 random_state=None,\n",
       "                                                 solver='lbfgs', tol=0.0001,\n",
       "                                                 verbose=0, warm_start=False),\n",
       "                    n_jobs=None)"
      ]
     },
     "execution_count": 69,
     "metadata": {},
     "output_type": "execute_result"
    }
   ],
   "source": [
    "lr = LogisticRegression(class_weight='balanced')\n",
    "\n",
    "clf = OneVsRestClassifier(lr)\n",
    "clf.fit(X_train_multilabel, y_train_multilabel)"
   ]
  },
  {
   "cell_type": "code",
   "execution_count": 70,
   "metadata": {
    "colab": {
     "base_uri": "https://localhost:8080/",
     "height": 34
    },
    "colab_type": "code",
    "id": "zjOVPAEKneae",
    "outputId": "33cbdfe9-95b5-41f3-a2d0-0095f9cb00b3"
   },
   "outputs": [
    {
     "name": "stdout",
     "output_type": "stream",
     "text": [
      "precision19: 0.4765, recall19: 0.6864, F1-measure: 0.5625\n"
     ]
    }
   ],
   "source": [
    "prediction19 = clf.predict(X_test_multilabel)\n",
    "\n",
    "precision19 = precision_score(y_test_multilabel, prediction19, average='micro')\n",
    "\n",
    "recall19 = recall_score(y_test_multilabel, prediction19, average='micro')\n",
    "\n",
    "f1_score19 = 2*((precision19 * recall19)/(precision19 + recall19))\n",
    "\n",
    "print(\"precision19: {:.4f}, recall19: {:.4f}, F1-measure: {:.4f}\".format(precision19, recall19, f1_score19))"
   ]
  },
  {
   "cell_type": "code",
   "execution_count": 71,
   "metadata": {
    "colab": {
     "base_uri": "https://localhost:8080/",
     "height": 357
    },
    "colab_type": "code",
    "id": "1QytHIpWneag",
    "outputId": "8ca904ef-4c95-4d63-ff9d-c61fedd811bd"
   },
   "outputs": [
    {
     "name": "stdout",
     "output_type": "stream",
     "text": [
      "Movie:  In the Line of Fire\n",
      "Actual genre:  suspenseful, neo noir, murder, mystery, violence, revenge, flashback, good versus evil, humor, action, romantic\n",
      "Predicted tag:  ['flashback' 'murder' 'violence'] \n",
      "\n",
      "Movie:  Huang jia shi jie\n",
      "Actual genre:  violence\n",
      "Predicted tag:  ['murder'] \n",
      "\n",
      "Movie:  The Mirror Crack'd\n",
      "Actual genre:  melodrama, mystery, satire, murder, flashback\n",
      "Predicted tag:  ['flashback' 'murder'] \n",
      "\n",
      "Movie:  Troll\n",
      "Actual genre:  fantasy\n",
      "Predicted tag:  ['violence'] \n",
      "\n",
      "Movie:  Doragon bôru Z: Ginga girigiri!! Butchigiri no sugoi yatsu\n",
      "Actual genre:  violence\n",
      "Predicted tag:  ['violence'] \n",
      "\n"
     ]
    }
   ],
   "source": [
    "for i in range(5):\n",
    "    k = test.sample(1).index[0]\n",
    "    print(\"Movie: \", test['title'][k]) \n",
    "    print(\"Actual genre: \",y_test[k])\n",
    "    print(\"Predicted tag: \", cnt_vectorizer.inverse_transform(prediction19[k])[0],\"\\n\")"
   ]
  },
  {
   "cell_type": "markdown",
   "metadata": {
    "colab_type": "text",
    "id": "Jtk5A_Joneai"
   },
   "source": [
    "<h1>Conclusion</h1>"
   ]
  },
  {
   "cell_type": "code",
   "execution_count": 72,
   "metadata": {
    "colab": {
     "base_uri": "https://localhost:8080/",
     "height": 136
    },
    "colab_type": "code",
    "id": "J2VEpUwbneai",
    "outputId": "d536ab2c-b5b4-4e22-f936-ec0259cce7dd"
   },
   "outputs": [
    {
     "name": "stdout",
     "output_type": "stream",
     "text": [
      "+----------------------+------------+-----------+--------+----------+\n",
      "|        Model         | Vectorizer | Precision | recall | f1_score |\n",
      "+----------------------+------------+-----------+--------+----------+\n",
      "|  SGDClassifier(log)  |  AVG W2V   |   0.423   | 0.788  |  0.551   |\n",
      "| SGDClassifier(hinge) |  AVG W2V   |   0.462   |  0.69  |  0.554   |\n",
      "|  LogisticRegression  |  AVG W2V   |   0.476   | 0.686  |  0.562   |\n",
      "+----------------------+------------+-----------+--------+----------+\n"
     ]
    }
   ],
   "source": [
    "from prettytable import PrettyTable\n",
    "\n",
    "tabel = PrettyTable()\n",
    "\n",
    "tabel.field_names=['Model', 'Vectorizer', 'Precision','recall','f1_score']\n",
    "\n",
    "\n",
    "tabel.add_row(['SGDClassifier(log)', 'AVG W2V',  round(precision17, 3), round(recall17, 3), round(f1_score17, 3)])\n",
    "\n",
    "tabel.add_row(['SGDClassifier(hinge)','AVG W2V', round(precision18, 3),  round(recall18, 3), round(f1_score18, 3)])\n",
    "\n",
    "tabel.add_row(['LogisticRegression','AVG W2V', round(precision19, 3), round(recall19, 3), round(f1_score19, 3)])\n",
    "\n",
    "\n",
    "print(tabel)"
   ]
  },
  {
   "cell_type": "markdown",
   "metadata": {
    "colab_type": "text",
    "id": "-UQUmfW9neak"
   },
   "source": [
    "<h1>6. LSTM-CNN Model</h1>"
   ]
  },
  {
   "cell_type": "code",
   "execution_count": 73,
   "metadata": {
    "colab": {},
    "colab_type": "code",
    "id": "cmWHp2VCneal"
   },
   "outputs": [],
   "source": [
    "max_review_length = 400\n",
    "X_train = sequence.pad_sequences(X_train_multilabel, maxlen=max_review_length, padding='post')\n",
    "X_test = sequence.pad_sequences(X_test_multilabel, maxlen=max_review_length, padding='post')"
   ]
  },
  {
   "cell_type": "code",
   "execution_count": 74,
   "metadata": {
    "colab": {},
    "colab_type": "code",
    "id": "2-sxbv9Yneao"
   },
   "outputs": [],
   "source": [
    "inputt = 8252\n",
    "batch_size = 32\n",
    "epochs = 10"
   ]
  },
  {
   "cell_type": "code",
   "execution_count": 75,
   "metadata": {
    "colab": {
     "base_uri": "https://localhost:8080/",
     "height": 612
    },
    "colab_type": "code",
    "id": "4EvAN71Aneaq",
    "outputId": "dc621b61-3c36-4493-ea38-96478aa130d0"
   },
   "outputs": [
    {
     "name": "stdout",
     "output_type": "stream",
     "text": [
      "Model: \"sequential_1\"\n",
      "_________________________________________________________________\n",
      "Layer (type)                 Output Shape              Param #   \n",
      "=================================================================\n",
      "embedding_1 (Embedding)      (None, 400, 50)           412600    \n",
      "_________________________________________________________________\n",
      "lstm_1 (LSTM)                (None, 400, 100)          60400     \n",
      "_________________________________________________________________\n",
      "dropout_1 (Dropout)          (None, 400, 100)          0         \n",
      "_________________________________________________________________\n",
      "batch_normalization_1 (Batch (None, 400, 100)          400       \n",
      "_________________________________________________________________\n",
      "lstm_2 (LSTM)                (None, 400, 100)          80400     \n",
      "_________________________________________________________________\n",
      "dropout_2 (Dropout)          (None, 400, 100)          0         \n",
      "_________________________________________________________________\n",
      "batch_normalization_2 (Batch (None, 400, 100)          400       \n",
      "_________________________________________________________________\n",
      "lstm_3 (LSTM)                (None, 400, 100)          80400     \n",
      "_________________________________________________________________\n",
      "dropout_3 (Dropout)          (None, 400, 100)          0         \n",
      "_________________________________________________________________\n",
      "activation_1 (Activation)    (None, 400, 100)          0         \n",
      "_________________________________________________________________\n",
      "batch_normalization_3 (Batch (None, 400, 100)          400       \n",
      "_________________________________________________________________\n",
      "global_max_pooling1d_1 (Glob (None, 100)               0         \n",
      "_________________________________________________________________\n",
      "dense_1 (Dense)              (None, 3)                 303       \n",
      "=================================================================\n",
      "Total params: 635,303\n",
      "Trainable params: 634,703\n",
      "Non-trainable params: 600\n",
      "_________________________________________________________________\n",
      "None\n"
     ]
    }
   ],
   "source": [
    "model =Sequential()\n",
    "\n",
    "model.add(Embedding(inputt, 50, input_length=max_review_length))\n",
    "\n",
    "model.add(LSTM(100, return_sequences=True))\n",
    "\n",
    "model.add(Dropout(0.2))\n",
    "\n",
    "model.add(BatchNormalization())\n",
    "\n",
    "model.add(LSTM(100, return_sequences=True))\n",
    "\n",
    "model.add(Dropout(0.2))\n",
    "\n",
    "model.add(BatchNormalization())\n",
    "\n",
    "model.add(LSTM(100, return_sequences=True))\n",
    "\n",
    "model.add(Dropout(0.2))\n",
    "\n",
    "model.add(Activation('relu'))\n",
    "\n",
    "model.add(BatchNormalization())\n",
    "\n",
    "model.add(GlobalMaxPooling1D())\n",
    "\n",
    "model.add(Dense(3, activation='sigmoid'))\n",
    "\n",
    "print(model.summary())"
   ]
  },
  {
   "cell_type": "code",
   "execution_count": 76,
   "metadata": {
    "colab": {},
    "colab_type": "code",
    "id": "SquZarGzneas"
   },
   "outputs": [],
   "source": [
    "model.compile(loss='categorical_crossentropy', optimizer='adam', metrics=['accuracy'])"
   ]
  },
  {
   "cell_type": "code",
   "execution_count": 77,
   "metadata": {
    "colab": {
     "base_uri": "https://localhost:8080/",
     "height": 221
    },
    "colab_type": "code",
    "id": "cQ59Eh3zneau",
    "outputId": "7ac81eff-dc62-44d6-ccab-c3745f6510f5"
   },
   "outputs": [
    {
     "name": "stdout",
     "output_type": "stream",
     "text": [
      "WARNING:tensorflow:From C:\\ProgramData\\Anaconda3\\lib\\site-packages\\tensorflow\\python\\ops\\math_grad.py:1250: add_dispatch_support.<locals>.wrapper (from tensorflow.python.ops.array_ops) is deprecated and will be removed in a future version.\n",
      "Instructions for updating:\n",
      "Use tf.where in 2.0, which has the same broadcast rule as np.where\n",
      "WARNING:tensorflow:From C:\\ProgramData\\Anaconda3\\lib\\site-packages\\keras\\backend\\tensorflow_backend.py:422: The name tf.global_variables is deprecated. Please use tf.compat.v1.global_variables instead.\n",
      "\n",
      "Train on 10989 samples, validate on 2768 samples\n",
      "Epoch 1/10\n",
      "10989/10989 [==============================] - 664s 60ms/step - loss: 0.9664 - accuracy: 0.2839 - val_loss: 0.9825 - val_accuracy: 0.2840\n",
      "Epoch 2/10\n",
      "10989/10989 [==============================] - 658s 60ms/step - loss: 0.9637 - accuracy: 0.2856 - val_loss: 0.9757 - val_accuracy: 0.2840\n",
      "Epoch 3/10\n",
      "10989/10989 [==============================] - 658s 60ms/step - loss: 0.9592 - accuracy: 0.2856 - val_loss: 1.0022 - val_accuracy: 0.2840\n",
      "Epoch 4/10\n",
      "10989/10989 [==============================] - 656s 60ms/step - loss: 0.9593 - accuracy: 0.2856 - val_loss: 0.9749 - val_accuracy: 0.2840\n",
      "Epoch 5/10\n",
      "10989/10989 [==============================] - 654s 60ms/step - loss: 0.9567 - accuracy: 0.2856 - val_loss: 0.9732 - val_accuracy: 0.2840\n",
      "Epoch 6/10\n",
      "10989/10989 [==============================] - 653s 59ms/step - loss: 0.9575 - accuracy: 0.2856 - val_loss: 0.9680 - val_accuracy: 0.2840\n",
      "Epoch 7/10\n",
      "10989/10989 [==============================] - 651s 59ms/step - loss: 0.9553 - accuracy: 0.2856 - val_loss: 0.9700 - val_accuracy: 0.2840\n",
      "Epoch 8/10\n",
      "10989/10989 [==============================] - 652s 59ms/step - loss: 0.9552 - accuracy: 0.2856 - val_loss: 1.0163 - val_accuracy: 0.6105\n",
      "Epoch 9/10\n",
      "10989/10989 [==============================] - 650s 59ms/step - loss: 0.9534 - accuracy: 0.2856 - val_loss: 0.9665 - val_accuracy: 0.2840\n",
      "Epoch 10/10\n",
      "10989/10989 [==============================] - 650s 59ms/step - loss: 0.9531 - accuracy: 0.2856 - val_loss: 0.9675 - val_accuracy: 0.2840\n"
     ]
    },
    {
     "data": {
      "text/plain": [
       "<keras.callbacks.callbacks.History at 0x24192070e08>"
      ]
     },
     "execution_count": 77,
     "metadata": {},
     "output_type": "execute_result"
    }
   ],
   "source": [
    "model.fit(X_train, y_train_multilabel, \n",
    "          batch_size = batch_size,\n",
    "          validation_data=(X_test, y_test_multilabel),\n",
    "          epochs=epochs)"
   ]
  },
  {
   "cell_type": "code",
   "execution_count": 78,
   "metadata": {
    "colab": {
     "base_uri": "https://localhost:8080/",
     "height": 34
    },
    "colab_type": "code",
    "id": "iyLpQCz2neav",
    "outputId": "54af54e1-e30e-48c1-e4e7-31c573b073d3"
   },
   "outputs": [
    {
     "name": "stdout",
     "output_type": "stream",
     "text": [
      "\n",
      "Test accuracy: 0.2839595377445221\n"
     ]
    }
   ],
   "source": [
    "test_loss, test_acc = model.evaluate(X_test, y_test_multilabel, verbose=2)\n",
    "\n",
    "print('\\nTest accuracy:', test_acc)"
   ]
  },
  {
   "cell_type": "code",
   "execution_count": 79,
   "metadata": {},
   "outputs": [],
   "source": [
    "model.save('lstm_model_top3.h5') #Saving the Model for Future Use"
   ]
  },
  {
   "cell_type": "code",
   "execution_count": 80,
   "metadata": {},
   "outputs": [],
   "source": [
    "model = load_model('lstm_model_top3.h5') #Loading the Model"
   ]
  },
  {
   "cell_type": "code",
   "execution_count": 81,
   "metadata": {},
   "outputs": [],
   "source": [
    "model_prediction = model.predict(X_test, verbose=0)"
   ]
  },
  {
   "cell_type": "code",
   "execution_count": 82,
   "metadata": {},
   "outputs": [
    {
     "name": "stdout",
     "output_type": "stream",
     "text": [
      "Movie:  Beyond Tomorrow\n",
      "Actual genre:  romantic, murder\n",
      "Predicted tag:  ['flashback' 'murder' 'violence'] \n",
      "\n",
      "Movie:  Rabbit's Kin\n",
      "Actual genre:  psychedelic\n",
      "Predicted tag:  ['flashback' 'murder' 'violence'] \n",
      "\n",
      "Movie:  Zerophilia\n",
      "Actual genre:  pornographic\n",
      "Predicted tag:  ['flashback' 'murder' 'violence'] \n",
      "\n",
      "Movie:  Austin Powers: International Man of Mystery\n",
      "Actual genre:  comedy, boring, cult, good versus evil, psychedelic, humor, satire, revenge, entertaining\n",
      "Predicted tag:  ['flashback' 'murder' 'violence'] \n",
      "\n",
      "Movie:  The Lost World\n",
      "Actual genre:  revenge\n",
      "Predicted tag:  ['flashback' 'murder' 'violence'] \n",
      "\n"
     ]
    }
   ],
   "source": [
    "for i in range(5):\n",
    "    k = test.sample(1).index[0]\n",
    "    print(\"Movie: \", test['title'][k]) \n",
    "    print(\"Actual genre: \", y_test[k])\n",
    "    print(\"Predicted tag: \", cnt_vectorizer.inverse_transform(model_prediction[k])[0],\"\\n\")"
   ]
  }
 ],
 "metadata": {
  "accelerator": "GPU",
  "colab": {
   "collapsed_sections": [],
   "machine_shape": "hm",
   "name": "modeling_with_all_tags (2) (1).ipynb",
   "provenance": []
  },
  "kernelspec": {
   "display_name": "Python 3",
   "language": "python",
   "name": "python3"
  },
  "language_info": {
   "codemirror_mode": {
    "name": "ipython",
    "version": 3
   },
   "file_extension": ".py",
   "mimetype": "text/x-python",
   "name": "python",
   "nbconvert_exporter": "python",
   "pygments_lexer": "ipython3",
   "version": "3.7.6"
  }
 },
 "nbformat": 4,
 "nbformat_minor": 1
}
