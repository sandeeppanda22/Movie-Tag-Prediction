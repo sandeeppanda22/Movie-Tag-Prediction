{
  "nbformat": 4,
  "nbformat_minor": 0,
  "metadata": {
    "accelerator": "GPU",
    "colab": {
      "name": "modeling_with_all_tags.ipynb",
      "provenance": [],
      "collapsed_sections": [],
      "machine_shape": "hm"
    },
    "kernelspec": {
      "display_name": "Python 3",
      "language": "python",
      "name": "python3"
    },
    "language_info": {
      "codemirror_mode": {
        "name": "ipython",
        "version": 3
      },
      "file_extension": ".py",
      "mimetype": "text/x-python",
      "name": "python",
      "nbconvert_exporter": "python",
      "pygments_lexer": "ipython3",
      "version": "3.7.6"
    }
  },
  "cells": [
    {
      "cell_type": "markdown",
      "metadata": {
        "colab_type": "text",
        "id": "vY9Mk8ZiDCor"
      },
      "source": [
        "<h1><center>MPST: A Corpus of Movie Plot Synopses with Tags</center></h1>"
      ]
    },
    {
      "cell_type": "code",
      "metadata": {
        "colab_type": "code",
        "id": "a2gjRKhJDCot",
        "outputId": "042558c9-d659-49a8-a6d3-84e3d1a6a2e2",
        "scrolled": true,
        "colab": {
          "base_uri": "https://localhost:8080/",
          "height": 258
        }
      },
      "source": [
        "!pip install scikit-multilearn\n",
        "\n",
        "import re\n",
        "import os\n",
        "import tqdm\n",
        "import nltk\n",
        "import pickle\n",
        "import sqlite3\n",
        "import warnings\n",
        "import numpy as np\n",
        "import pandas as pd\n",
        "from tqdm import tqdm\n",
        "import seaborn as sns\n",
        "import xgboost as xgb\n",
        "import tensorflow as tf\n",
        "from sklearn import metrics\n",
        "from tensorflow import keras\n",
        "from nltk.corpus import words\n",
        "from datetime import datetime\n",
        "from bs4 import BeautifulSoup\n",
        "from wordcloud import WordCloud\n",
        "import matplotlib.pyplot as plt\n",
        "from nltk.corpus import stopwords\n",
        "from gensim.models import Word2Vec\n",
        "from itertools import combinations\n",
        "from keras.models import load_model\n",
        "from keras.models import Sequential\n",
        "from tensorflow.keras import layers\n",
        "from nltk.stem import SnowballStemmer\n",
        "from sklearn.pipeline import Pipeline\n",
        "from nltk.tokenize import sent_tokenize\n",
        "from keras.preprocessing import sequence\n",
        "from scipy.sparse import coo_matrix, hstack\n",
        "from tensorflow.keras.utils import plot_model\n",
        "from keras.layers.embeddings import Embedding\n",
        "from sklearn.naive_bayes import MultinomialNB\n",
        "from sklearn.linear_model import SGDClassifier\n",
        "from sklearn.model_selection import GridSearchCV\n",
        "from sklearn.metrics import classification_report\n",
        "from sklearn.multiclass import OneVsRestClassifier\n",
        "from sklearn.linear_model import LogisticRegression\n",
        "from sklearn.preprocessing import MultiLabelBinarizer\n",
        "from sklearn.model_selection import RandomizedSearchCV\n",
        "from skmultilearn.problem_transform import BinaryRelevance\n",
        "from sklearn.feature_extraction.text import CountVectorizer, TfidfVectorizer\n",
        "from sklearn.metrics import f1_score,precision_score,recall_score,hamming_loss\n",
        "from keras.layers import Conv1D, Conv2D, Dense, Dropout, Flatten, LSTM, GlobalMaxPooling1D, MaxPooling2D, Activation, BatchNormalization\n",
        "\n",
        "%matplotlib inline\n",
        "nltk.download('punkt')\n",
        "nltk.download('wordnet')\n",
        "warnings.filterwarnings(\"ignore\")\n",
        "stemmer = SnowballStemmer('english')\n",
        "\n",
        "%autosave 120"
      ],
      "execution_count": 1,
      "outputs": [
        {
          "output_type": "stream",
          "text": [
            "Collecting scikit-multilearn\n",
            "\u001b[?25l  Downloading https://files.pythonhosted.org/packages/bb/1f/e6ff649c72a1cdf2c7a1d31eb21705110ce1c5d3e7e26b2cc300e1637272/scikit_multilearn-0.2.0-py3-none-any.whl (89kB)\n",
            "\r\u001b[K     |███▊                            | 10kB 32.1MB/s eta 0:00:01\r\u001b[K     |███████▍                        | 20kB 2.1MB/s eta 0:00:01\r\u001b[K     |███████████                     | 30kB 3.2MB/s eta 0:00:01\r\u001b[K     |██████████████▊                 | 40kB 2.1MB/s eta 0:00:01\r\u001b[K     |██████████████████▍             | 51kB 2.6MB/s eta 0:00:01\r\u001b[K     |██████████████████████          | 61kB 3.1MB/s eta 0:00:01\r\u001b[K     |█████████████████████████▊      | 71kB 3.6MB/s eta 0:00:01\r\u001b[K     |█████████████████████████████▍  | 81kB 4.1MB/s eta 0:00:01\r\u001b[K     |████████████████████████████████| 92kB 3.6MB/s \n",
            "\u001b[?25hInstalling collected packages: scikit-multilearn\n",
            "Successfully installed scikit-multilearn-0.2.0\n"
          ],
          "name": "stdout"
        },
        {
          "output_type": "stream",
          "text": [
            "/usr/local/lib/python3.6/dist-packages/statsmodels/tools/_testing.py:19: FutureWarning: pandas.util.testing is deprecated. Use the functions in the public API at pandas.testing instead.\n",
            "  import pandas.util.testing as tm\n",
            "Using TensorFlow backend.\n"
          ],
          "name": "stderr"
        },
        {
          "output_type": "stream",
          "text": [
            "[nltk_data] Downloading package punkt to /root/nltk_data...\n",
            "[nltk_data]   Unzipping tokenizers/punkt.zip.\n",
            "[nltk_data] Downloading package wordnet to /root/nltk_data...\n",
            "[nltk_data]   Unzipping corpora/wordnet.zip.\n"
          ],
          "name": "stdout"
        },
        {
          "output_type": "display_data",
          "data": {
            "application/javascript": [
              "IPython.notebook.set_autosave_interval(120000)"
            ]
          },
          "metadata": {
            "tags": []
          }
        },
        {
          "output_type": "stream",
          "text": [
            "Autosaving every 120 seconds\n"
          ],
          "name": "stdout"
        }
      ]
    },
    {
      "cell_type": "code",
      "metadata": {
        "colab_type": "code",
        "id": "xZUxde7VDCoy",
        "outputId": "ab58b781-7d6b-472a-ea6e-3a85779d867f",
        "colab": {
          "base_uri": "https://localhost:8080/",
          "height": 576
        }
      },
      "source": [
        "data_with_all_tags = pd.read_csv(\"/content/drive/My Drive/ML/data_with_all_tags.csv\")\n",
        "data_with_all_tags.head()"
      ],
      "execution_count": 2,
      "outputs": [
        {
          "output_type": "execute_result",
          "data": {
            "text/html": [
              "<div>\n",
              "<style scoped>\n",
              "    .dataframe tbody tr th:only-of-type {\n",
              "        vertical-align: middle;\n",
              "    }\n",
              "\n",
              "    .dataframe tbody tr th {\n",
              "        vertical-align: top;\n",
              "    }\n",
              "\n",
              "    .dataframe thead th {\n",
              "        text-align: right;\n",
              "    }\n",
              "</style>\n",
              "<table border=\"1\" class=\"dataframe\">\n",
              "  <thead>\n",
              "    <tr style=\"text-align: right;\">\n",
              "      <th></th>\n",
              "      <th>title</th>\n",
              "      <th>plot_synopsis</th>\n",
              "      <th>tags</th>\n",
              "      <th>split</th>\n",
              "      <th>synopsis_source</th>\n",
              "      <th>cnt_dup</th>\n",
              "      <th>tag_count</th>\n",
              "      <th>synopsis_count</th>\n",
              "      <th>synopsis_sent_count</th>\n",
              "      <th>CleanedSynopsis</th>\n",
              "      <th>absurd</th>\n",
              "      <th>action</th>\n",
              "      <th>adult comedy</th>\n",
              "      <th>allegory</th>\n",
              "      <th>alternate history</th>\n",
              "      <th>alternate reality</th>\n",
              "      <th>anti war</th>\n",
              "      <th>atmospheric</th>\n",
              "      <th>autobiographical</th>\n",
              "      <th>avant garde</th>\n",
              "      <th>blaxploitation</th>\n",
              "      <th>bleak</th>\n",
              "      <th>boring</th>\n",
              "      <th>brainwashing</th>\n",
              "      <th>christian film</th>\n",
              "      <th>claustrophobic</th>\n",
              "      <th>clever</th>\n",
              "      <th>comedy</th>\n",
              "      <th>comic</th>\n",
              "      <th>cruelty</th>\n",
              "      <th>cult</th>\n",
              "      <th>cute</th>\n",
              "      <th>dark</th>\n",
              "      <th>depressing</th>\n",
              "      <th>dramatic</th>\n",
              "      <th>entertaining</th>\n",
              "      <th>fantasy</th>\n",
              "      <th>feel-good</th>\n",
              "      <th>flashback</th>\n",
              "      <th>good versus evil</th>\n",
              "      <th>...</th>\n",
              "      <th>grindhouse film</th>\n",
              "      <th>haunting</th>\n",
              "      <th>historical</th>\n",
              "      <th>historical fiction</th>\n",
              "      <th>home movie</th>\n",
              "      <th>horror</th>\n",
              "      <th>humor</th>\n",
              "      <th>insanity</th>\n",
              "      <th>inspiring</th>\n",
              "      <th>intrigue</th>\n",
              "      <th>magical realism</th>\n",
              "      <th>melodrama</th>\n",
              "      <th>murder</th>\n",
              "      <th>mystery</th>\n",
              "      <th>neo noir</th>\n",
              "      <th>non fiction</th>\n",
              "      <th>paranormal</th>\n",
              "      <th>philosophical</th>\n",
              "      <th>plot twist</th>\n",
              "      <th>pornographic</th>\n",
              "      <th>prank</th>\n",
              "      <th>psychedelic</th>\n",
              "      <th>psychological</th>\n",
              "      <th>queer</th>\n",
              "      <th>realism</th>\n",
              "      <th>revenge</th>\n",
              "      <th>romantic</th>\n",
              "      <th>sadist</th>\n",
              "      <th>satire</th>\n",
              "      <th>sci-fi</th>\n",
              "      <th>sentimental</th>\n",
              "      <th>storytelling</th>\n",
              "      <th>stupid</th>\n",
              "      <th>suicidal</th>\n",
              "      <th>suspenseful</th>\n",
              "      <th>thought-provoking</th>\n",
              "      <th>tragedy</th>\n",
              "      <th>violence</th>\n",
              "      <th>western</th>\n",
              "      <th>whimsical</th>\n",
              "    </tr>\n",
              "  </thead>\n",
              "  <tbody>\n",
              "    <tr>\n",
              "      <th>0</th>\n",
              "      <td>$</td>\n",
              "      <td>Set in Hamburg, West Germany, several criminal...</td>\n",
              "      <td>murder</td>\n",
              "      <td>test</td>\n",
              "      <td>imdb</td>\n",
              "      <td>1</td>\n",
              "      <td>1</td>\n",
              "      <td>648</td>\n",
              "      <td>26</td>\n",
              "      <td>set hamburg west germani sever crimin take adv...</td>\n",
              "      <td>0</td>\n",
              "      <td>0</td>\n",
              "      <td>0</td>\n",
              "      <td>0</td>\n",
              "      <td>0</td>\n",
              "      <td>0</td>\n",
              "      <td>0</td>\n",
              "      <td>0</td>\n",
              "      <td>0</td>\n",
              "      <td>0</td>\n",
              "      <td>0</td>\n",
              "      <td>0</td>\n",
              "      <td>0</td>\n",
              "      <td>0</td>\n",
              "      <td>0</td>\n",
              "      <td>0</td>\n",
              "      <td>0</td>\n",
              "      <td>0</td>\n",
              "      <td>0</td>\n",
              "      <td>0</td>\n",
              "      <td>0</td>\n",
              "      <td>0</td>\n",
              "      <td>0</td>\n",
              "      <td>0</td>\n",
              "      <td>0</td>\n",
              "      <td>0</td>\n",
              "      <td>0</td>\n",
              "      <td>0</td>\n",
              "      <td>0</td>\n",
              "      <td>0</td>\n",
              "      <td>...</td>\n",
              "      <td>0</td>\n",
              "      <td>0</td>\n",
              "      <td>0</td>\n",
              "      <td>0</td>\n",
              "      <td>0</td>\n",
              "      <td>0</td>\n",
              "      <td>0</td>\n",
              "      <td>0</td>\n",
              "      <td>0</td>\n",
              "      <td>0</td>\n",
              "      <td>0</td>\n",
              "      <td>0</td>\n",
              "      <td>1</td>\n",
              "      <td>0</td>\n",
              "      <td>0</td>\n",
              "      <td>0</td>\n",
              "      <td>0</td>\n",
              "      <td>0</td>\n",
              "      <td>0</td>\n",
              "      <td>0</td>\n",
              "      <td>0</td>\n",
              "      <td>0</td>\n",
              "      <td>0</td>\n",
              "      <td>0</td>\n",
              "      <td>0</td>\n",
              "      <td>0</td>\n",
              "      <td>0</td>\n",
              "      <td>0</td>\n",
              "      <td>0</td>\n",
              "      <td>0</td>\n",
              "      <td>0</td>\n",
              "      <td>0</td>\n",
              "      <td>0</td>\n",
              "      <td>0</td>\n",
              "      <td>0</td>\n",
              "      <td>0</td>\n",
              "      <td>0</td>\n",
              "      <td>0</td>\n",
              "      <td>0</td>\n",
              "      <td>0</td>\n",
              "    </tr>\n",
              "    <tr>\n",
              "      <th>1</th>\n",
              "      <td>$windle</td>\n",
              "      <td>A 6th grader named Griffin Bing decides to gat...</td>\n",
              "      <td>flashback</td>\n",
              "      <td>train</td>\n",
              "      <td>wikipedia</td>\n",
              "      <td>1</td>\n",
              "      <td>1</td>\n",
              "      <td>353</td>\n",
              "      <td>14</td>\n",
              "      <td>grader name griffin bing decid gather entir gr...</td>\n",
              "      <td>0</td>\n",
              "      <td>0</td>\n",
              "      <td>0</td>\n",
              "      <td>0</td>\n",
              "      <td>0</td>\n",
              "      <td>0</td>\n",
              "      <td>0</td>\n",
              "      <td>0</td>\n",
              "      <td>0</td>\n",
              "      <td>0</td>\n",
              "      <td>0</td>\n",
              "      <td>0</td>\n",
              "      <td>0</td>\n",
              "      <td>0</td>\n",
              "      <td>0</td>\n",
              "      <td>0</td>\n",
              "      <td>0</td>\n",
              "      <td>0</td>\n",
              "      <td>0</td>\n",
              "      <td>0</td>\n",
              "      <td>0</td>\n",
              "      <td>0</td>\n",
              "      <td>0</td>\n",
              "      <td>0</td>\n",
              "      <td>0</td>\n",
              "      <td>0</td>\n",
              "      <td>0</td>\n",
              "      <td>0</td>\n",
              "      <td>1</td>\n",
              "      <td>0</td>\n",
              "      <td>...</td>\n",
              "      <td>0</td>\n",
              "      <td>0</td>\n",
              "      <td>0</td>\n",
              "      <td>0</td>\n",
              "      <td>0</td>\n",
              "      <td>0</td>\n",
              "      <td>0</td>\n",
              "      <td>0</td>\n",
              "      <td>0</td>\n",
              "      <td>0</td>\n",
              "      <td>0</td>\n",
              "      <td>0</td>\n",
              "      <td>0</td>\n",
              "      <td>0</td>\n",
              "      <td>0</td>\n",
              "      <td>0</td>\n",
              "      <td>0</td>\n",
              "      <td>0</td>\n",
              "      <td>0</td>\n",
              "      <td>0</td>\n",
              "      <td>0</td>\n",
              "      <td>0</td>\n",
              "      <td>0</td>\n",
              "      <td>0</td>\n",
              "      <td>0</td>\n",
              "      <td>0</td>\n",
              "      <td>0</td>\n",
              "      <td>0</td>\n",
              "      <td>0</td>\n",
              "      <td>0</td>\n",
              "      <td>0</td>\n",
              "      <td>0</td>\n",
              "      <td>0</td>\n",
              "      <td>0</td>\n",
              "      <td>0</td>\n",
              "      <td>0</td>\n",
              "      <td>0</td>\n",
              "      <td>0</td>\n",
              "      <td>0</td>\n",
              "      <td>0</td>\n",
              "    </tr>\n",
              "    <tr>\n",
              "      <th>2</th>\n",
              "      <td>'71</td>\n",
              "      <td>Gary Hook, a new recruit to the British Army, ...</td>\n",
              "      <td>suspenseful, neo noir, murder, violence</td>\n",
              "      <td>train</td>\n",
              "      <td>wikipedia</td>\n",
              "      <td>1</td>\n",
              "      <td>4</td>\n",
              "      <td>699</td>\n",
              "      <td>39</td>\n",
              "      <td>gari hook new recruit british armi take leav m...</td>\n",
              "      <td>0</td>\n",
              "      <td>0</td>\n",
              "      <td>0</td>\n",
              "      <td>0</td>\n",
              "      <td>0</td>\n",
              "      <td>0</td>\n",
              "      <td>0</td>\n",
              "      <td>0</td>\n",
              "      <td>0</td>\n",
              "      <td>0</td>\n",
              "      <td>0</td>\n",
              "      <td>0</td>\n",
              "      <td>0</td>\n",
              "      <td>0</td>\n",
              "      <td>0</td>\n",
              "      <td>0</td>\n",
              "      <td>0</td>\n",
              "      <td>0</td>\n",
              "      <td>0</td>\n",
              "      <td>0</td>\n",
              "      <td>0</td>\n",
              "      <td>0</td>\n",
              "      <td>0</td>\n",
              "      <td>0</td>\n",
              "      <td>0</td>\n",
              "      <td>0</td>\n",
              "      <td>0</td>\n",
              "      <td>0</td>\n",
              "      <td>0</td>\n",
              "      <td>0</td>\n",
              "      <td>...</td>\n",
              "      <td>0</td>\n",
              "      <td>0</td>\n",
              "      <td>0</td>\n",
              "      <td>0</td>\n",
              "      <td>0</td>\n",
              "      <td>0</td>\n",
              "      <td>0</td>\n",
              "      <td>0</td>\n",
              "      <td>0</td>\n",
              "      <td>0</td>\n",
              "      <td>0</td>\n",
              "      <td>0</td>\n",
              "      <td>1</td>\n",
              "      <td>0</td>\n",
              "      <td>1</td>\n",
              "      <td>0</td>\n",
              "      <td>0</td>\n",
              "      <td>0</td>\n",
              "      <td>0</td>\n",
              "      <td>0</td>\n",
              "      <td>0</td>\n",
              "      <td>0</td>\n",
              "      <td>0</td>\n",
              "      <td>0</td>\n",
              "      <td>0</td>\n",
              "      <td>0</td>\n",
              "      <td>0</td>\n",
              "      <td>0</td>\n",
              "      <td>0</td>\n",
              "      <td>0</td>\n",
              "      <td>0</td>\n",
              "      <td>0</td>\n",
              "      <td>0</td>\n",
              "      <td>0</td>\n",
              "      <td>1</td>\n",
              "      <td>0</td>\n",
              "      <td>0</td>\n",
              "      <td>1</td>\n",
              "      <td>0</td>\n",
              "      <td>0</td>\n",
              "    </tr>\n",
              "    <tr>\n",
              "      <th>3</th>\n",
              "      <td>'A' gai wak</td>\n",
              "      <td>Sergeant Dragon Ma (Jackie Chan) is part of th...</td>\n",
              "      <td>cult, violence</td>\n",
              "      <td>train</td>\n",
              "      <td>wikipedia</td>\n",
              "      <td>1</td>\n",
              "      <td>2</td>\n",
              "      <td>665</td>\n",
              "      <td>41</td>\n",
              "      <td>sergeant dragon jacki chan part hong kong mari...</td>\n",
              "      <td>0</td>\n",
              "      <td>0</td>\n",
              "      <td>0</td>\n",
              "      <td>0</td>\n",
              "      <td>0</td>\n",
              "      <td>0</td>\n",
              "      <td>0</td>\n",
              "      <td>0</td>\n",
              "      <td>0</td>\n",
              "      <td>0</td>\n",
              "      <td>0</td>\n",
              "      <td>0</td>\n",
              "      <td>0</td>\n",
              "      <td>0</td>\n",
              "      <td>0</td>\n",
              "      <td>0</td>\n",
              "      <td>0</td>\n",
              "      <td>0</td>\n",
              "      <td>0</td>\n",
              "      <td>0</td>\n",
              "      <td>1</td>\n",
              "      <td>0</td>\n",
              "      <td>0</td>\n",
              "      <td>0</td>\n",
              "      <td>0</td>\n",
              "      <td>0</td>\n",
              "      <td>0</td>\n",
              "      <td>0</td>\n",
              "      <td>0</td>\n",
              "      <td>0</td>\n",
              "      <td>...</td>\n",
              "      <td>0</td>\n",
              "      <td>0</td>\n",
              "      <td>0</td>\n",
              "      <td>0</td>\n",
              "      <td>0</td>\n",
              "      <td>0</td>\n",
              "      <td>0</td>\n",
              "      <td>0</td>\n",
              "      <td>0</td>\n",
              "      <td>0</td>\n",
              "      <td>0</td>\n",
              "      <td>0</td>\n",
              "      <td>0</td>\n",
              "      <td>0</td>\n",
              "      <td>0</td>\n",
              "      <td>0</td>\n",
              "      <td>0</td>\n",
              "      <td>0</td>\n",
              "      <td>0</td>\n",
              "      <td>0</td>\n",
              "      <td>0</td>\n",
              "      <td>0</td>\n",
              "      <td>0</td>\n",
              "      <td>0</td>\n",
              "      <td>0</td>\n",
              "      <td>0</td>\n",
              "      <td>0</td>\n",
              "      <td>0</td>\n",
              "      <td>0</td>\n",
              "      <td>0</td>\n",
              "      <td>0</td>\n",
              "      <td>0</td>\n",
              "      <td>0</td>\n",
              "      <td>0</td>\n",
              "      <td>0</td>\n",
              "      <td>0</td>\n",
              "      <td>0</td>\n",
              "      <td>1</td>\n",
              "      <td>0</td>\n",
              "      <td>0</td>\n",
              "    </tr>\n",
              "    <tr>\n",
              "      <th>4</th>\n",
              "      <td>'Breaker' Morant</td>\n",
              "      <td>In Pretoria, South Africa, in 1902, Major Char...</td>\n",
              "      <td>murder, anti war, violence, flashback, tragedy...</td>\n",
              "      <td>train</td>\n",
              "      <td>wikipedia</td>\n",
              "      <td>1</td>\n",
              "      <td>6</td>\n",
              "      <td>1694</td>\n",
              "      <td>140</td>\n",
              "      <td>pretoria south africa major charl bolton rod m...</td>\n",
              "      <td>0</td>\n",
              "      <td>0</td>\n",
              "      <td>0</td>\n",
              "      <td>0</td>\n",
              "      <td>0</td>\n",
              "      <td>0</td>\n",
              "      <td>1</td>\n",
              "      <td>0</td>\n",
              "      <td>0</td>\n",
              "      <td>0</td>\n",
              "      <td>0</td>\n",
              "      <td>0</td>\n",
              "      <td>0</td>\n",
              "      <td>0</td>\n",
              "      <td>0</td>\n",
              "      <td>0</td>\n",
              "      <td>0</td>\n",
              "      <td>0</td>\n",
              "      <td>0</td>\n",
              "      <td>0</td>\n",
              "      <td>0</td>\n",
              "      <td>0</td>\n",
              "      <td>0</td>\n",
              "      <td>0</td>\n",
              "      <td>0</td>\n",
              "      <td>0</td>\n",
              "      <td>0</td>\n",
              "      <td>0</td>\n",
              "      <td>1</td>\n",
              "      <td>0</td>\n",
              "      <td>...</td>\n",
              "      <td>0</td>\n",
              "      <td>0</td>\n",
              "      <td>1</td>\n",
              "      <td>0</td>\n",
              "      <td>0</td>\n",
              "      <td>0</td>\n",
              "      <td>0</td>\n",
              "      <td>0</td>\n",
              "      <td>0</td>\n",
              "      <td>0</td>\n",
              "      <td>0</td>\n",
              "      <td>0</td>\n",
              "      <td>1</td>\n",
              "      <td>0</td>\n",
              "      <td>0</td>\n",
              "      <td>0</td>\n",
              "      <td>0</td>\n",
              "      <td>0</td>\n",
              "      <td>0</td>\n",
              "      <td>0</td>\n",
              "      <td>0</td>\n",
              "      <td>0</td>\n",
              "      <td>0</td>\n",
              "      <td>0</td>\n",
              "      <td>0</td>\n",
              "      <td>0</td>\n",
              "      <td>0</td>\n",
              "      <td>0</td>\n",
              "      <td>0</td>\n",
              "      <td>0</td>\n",
              "      <td>0</td>\n",
              "      <td>0</td>\n",
              "      <td>0</td>\n",
              "      <td>0</td>\n",
              "      <td>0</td>\n",
              "      <td>0</td>\n",
              "      <td>1</td>\n",
              "      <td>1</td>\n",
              "      <td>0</td>\n",
              "      <td>0</td>\n",
              "    </tr>\n",
              "  </tbody>\n",
              "</table>\n",
              "<p>5 rows × 81 columns</p>\n",
              "</div>"
            ],
            "text/plain": [
              "              title  ... whimsical\n",
              "0                 $  ...         0\n",
              "1           $windle  ...         0\n",
              "2               '71  ...         0\n",
              "3       'A' gai wak  ...         0\n",
              "4  'Breaker' Morant  ...         0\n",
              "\n",
              "[5 rows x 81 columns]"
            ]
          },
          "metadata": {
            "tags": []
          },
          "execution_count": 2
        }
      ]
    },
    {
      "cell_type": "code",
      "metadata": {
        "colab_type": "code",
        "id": "3o172YDrDCo1",
        "colab": {}
      },
      "source": [
        "conn = sqlite3.connect('data.db')\n",
        "data_with_all_tags.to_sql('data', conn, if_exists='replace', index=False)\n",
        "train = pd.read_sql(\"Select * From data where split = 'train' OR split='val'\",conn)\n",
        "test =  pd.read_sql(\"Select * From data where split = 'test'\",conn)\n",
        "conn.close()"
      ],
      "execution_count": 0,
      "outputs": []
    },
    {
      "cell_type": "code",
      "metadata": {
        "colab_type": "code",
        "id": "Z-8mYwDiDCo4",
        "colab": {}
      },
      "source": [
        "X_train = train[\"CleanedSynopsis\"]\n",
        "y_train= train[\"tags\"]\n",
        "\n",
        "X_test = test[\"CleanedSynopsis\"]\n",
        "y_test= test[\"tags\"]"
      ],
      "execution_count": 0,
      "outputs": []
    },
    {
      "cell_type": "code",
      "metadata": {
        "colab_type": "code",
        "id": "mA72XxZGDCo7",
        "colab": {}
      },
      "source": [
        "def tokenize(x):\n",
        "    x=x.split(',')\n",
        "    tags=[i.strip() for i in x] #Some tags contains whitespaces before them, so we need to strip them\n",
        "    return tags\n",
        "\n",
        "cnt_vectorizer = CountVectorizer(tokenizer = tokenize,  binary='true').fit(y_train)\n",
        "y_train_multilabel = cnt_vectorizer.transform(y_train)\n",
        "y_test_multilabel = cnt_vectorizer.transform(y_test)"
      ],
      "execution_count": 0,
      "outputs": []
    },
    {
      "cell_type": "markdown",
      "metadata": {
        "colab_type": "text",
        "id": "hBHwBf3fDCo_"
      },
      "source": [
        "<h1> 1. TfidfVectorizer with 1 grams: </h1>"
      ]
    },
    {
      "cell_type": "code",
      "metadata": {
        "colab_type": "code",
        "id": "ajLkcne3DCpA",
        "outputId": "c055fa98-7d98-443b-a993-65e318d57076",
        "colab": {
          "base_uri": "https://localhost:8080/",
          "height": 51
        }
      },
      "source": [
        "tf_vectorizer = TfidfVectorizer(min_df=0.09, tokenizer = lambda x: x.split(\" \"), ngram_range=(1,1))\n",
        "\n",
        "X_train_multilabel = tf_vectorizer.fit_transform(X_train)\n",
        "X_test_multilabel = tf_vectorizer.transform(X_test)\n",
        "\n",
        "print(\"Dimensions of train data X:\",X_train_multilabel.shape, \"Y :\",y_train_multilabel.shape)\n",
        "print(\"Dimensions of test data X:\",X_test_multilabel.shape,\"Y:\",y_test_multilabel.shape)"
      ],
      "execution_count": 6,
      "outputs": [
        {
          "output_type": "stream",
          "text": [
            "Dimensions of train data X: (10989, 657) Y : (10989, 71)\n",
            "Dimensions of test data X: (2768, 657) Y: (2768, 71)\n"
          ],
          "name": "stdout"
        }
      ]
    },
    {
      "cell_type": "markdown",
      "metadata": {
        "colab_type": "text",
        "id": "k7frifl2DCpD"
      },
      "source": [
        "<h2> 1.1 OneVsRestClassifier + MultinomialNB:</h2>"
      ]
    },
    {
      "cell_type": "code",
      "metadata": {
        "colab_type": "code",
        "id": "3lA2UpMRDCpE",
        "outputId": "e67b20de-0899-4380-fc44-b02a358b35c9",
        "colab": {
          "base_uri": "https://localhost:8080/",
          "height": 68
        }
      },
      "source": [
        "mb = MultinomialNB(class_prior = [0.5, 0.5])\n",
        "\n",
        "clf = OneVsRestClassifier(mb)\n",
        "clf.fit(X_train_multilabel, y_train_multilabel)"
      ],
      "execution_count": 7,
      "outputs": [
        {
          "output_type": "execute_result",
          "data": {
            "text/plain": [
              "OneVsRestClassifier(estimator=MultinomialNB(alpha=1.0, class_prior=[0.5, 0.5],\n",
              "                                            fit_prior=True),\n",
              "                    n_jobs=None)"
            ]
          },
          "metadata": {
            "tags": []
          },
          "execution_count": 7
        }
      ]
    },
    {
      "cell_type": "code",
      "metadata": {
        "colab_type": "code",
        "id": "bX4YUgBXDCpH",
        "outputId": "eaf905a3-80fd-412e-fd77-5d17d772706f",
        "colab": {
          "base_uri": "https://localhost:8080/",
          "height": 34
        }
      },
      "source": [
        "prediction1 = clf.predict(X_test_multilabel)\n",
        "\n",
        "precision1 = precision_score(y_test_multilabel, prediction1, average='micro')\n",
        "\n",
        "recall1 = recall_score(y_test_multilabel, prediction1, average='micro')\n",
        "\n",
        "f1_score1 = 2*((precision1 * recall1)/(precision1 + recall1))\n",
        "\n",
        "print(\"precision1: {:.4f}, recall1: {:.4f}, F1-measure: {:.4f}\".format(precision1, recall1, f1_score1))"
      ],
      "execution_count": 8,
      "outputs": [
        {
          "output_type": "stream",
          "text": [
            "precision1: 0.1165, recall1: 0.6461, F1-measure: 0.1974\n"
          ],
          "name": "stdout"
        }
      ]
    },
    {
      "cell_type": "code",
      "metadata": {
        "colab_type": "code",
        "id": "Q_MnZFmjDCpK",
        "outputId": "4edeed6c-d7b9-4212-c3c4-8f2ffdd8662f",
        "colab": {
          "base_uri": "https://localhost:8080/",
          "height": 527
        }
      },
      "source": [
        "for i in range(5):\n",
        "    k = test.sample(1).index[0]\n",
        "    print(\"Movie: \", test['title'][k]) \n",
        "    print(\"Actual genre: \",y_test[k])\n",
        "    print(\"Predicted tag: \", cnt_vectorizer.inverse_transform(prediction1[k])[0],\"\\n\")"
      ],
      "execution_count": 9,
      "outputs": [
        {
          "output_type": "stream",
          "text": [
            "Movie:  The Woods Are Full of Cuckoos\n",
            "Actual genre:  psychedelic\n",
            "Predicted tag:  ['absurd' 'adult comedy' 'alternate reality' 'boring' 'christian film'\n",
            " 'clever' 'comedy' 'cute' 'entertaining' 'fantasy' 'feel-good' 'gothic'\n",
            " 'home movie' 'humor' 'inspiring' 'paranormal' 'philosophical'\n",
            " 'pornographic' 'prank' 'psychedelic' 'queer' 'romantic' 'satire'\n",
            " 'whimsical'] \n",
            "\n",
            "Movie:  Good Luck Chuck\n",
            "Actual genre:  comedy\n",
            "Predicted tag:  ['adult comedy' 'bleak' 'comedy' 'cute' 'depressing' 'dramatic'\n",
            " 'entertaining' 'feel-good' 'home movie' 'humor' 'melodrama'\n",
            " 'pornographic' 'prank' 'psychological' 'queer' 'romantic' 'satire'\n",
            " 'storytelling'] \n",
            "\n",
            "Movie:  Demonic Toys\n",
            "Actual genre:  violence, humor\n",
            "Predicted tag:  ['cruelty' 'cult' 'good versus evil' 'horror' 'murder' 'revenge' 'sadist'\n",
            " 'sci-fi' 'suspenseful' 'violence'] \n",
            "\n",
            "Movie:  Behind the Candelabra\n",
            "Actual genre:  queer, flashback\n",
            "Predicted tag:  ['boring' 'comedy' 'dark' 'depressing' 'dramatic' 'entertaining'\n",
            " 'flashback' 'melodrama' 'philosophical' 'psychological' 'queer'\n",
            " 'romantic' 'satire' 'sentimental' 'storytelling' 'tragedy'] \n",
            "\n",
            "Movie:  Tracers\n",
            "Actual genre:  revenge, neo noir, murder, violence\n",
            "Predicted tag:  ['action' 'humor' 'revenge' 'violence'] \n",
            "\n"
          ],
          "name": "stdout"
        }
      ]
    },
    {
      "cell_type": "markdown",
      "metadata": {
        "colab_type": "text",
        "id": "jk6_Pn63DCpN"
      },
      "source": [
        "<h2> 1.2 OneVsRestClassifier + SGDClassifier with LOG Loss:</h2>"
      ]
    },
    {
      "cell_type": "code",
      "metadata": {
        "colab_type": "code",
        "id": "IzLjlJ8UDCpN",
        "outputId": "29beb24b-0ffc-44d5-8349-cc0ca005550c",
        "colab": {
          "base_uri": "https://localhost:8080/",
          "height": 238
        }
      },
      "source": [
        "sgl = SGDClassifier(loss='log', class_weight='balanced')\n",
        "\n",
        "clf = OneVsRestClassifier(sgl)\n",
        "clf.fit(X_train_multilabel, y_train_multilabel)"
      ],
      "execution_count": 10,
      "outputs": [
        {
          "output_type": "execute_result",
          "data": {
            "text/plain": [
              "OneVsRestClassifier(estimator=SGDClassifier(alpha=0.0001, average=False,\n",
              "                                            class_weight='balanced',\n",
              "                                            early_stopping=False, epsilon=0.1,\n",
              "                                            eta0=0.0, fit_intercept=True,\n",
              "                                            l1_ratio=0.15,\n",
              "                                            learning_rate='optimal', loss='log',\n",
              "                                            max_iter=1000, n_iter_no_change=5,\n",
              "                                            n_jobs=None, penalty='l2',\n",
              "                                            power_t=0.5, random_state=None,\n",
              "                                            shuffle=True, tol=0.001,\n",
              "                                            validation_fraction=0.1, verbose=0,\n",
              "                                            warm_start=False),\n",
              "                    n_jobs=None)"
            ]
          },
          "metadata": {
            "tags": []
          },
          "execution_count": 10
        }
      ]
    },
    {
      "cell_type": "code",
      "metadata": {
        "colab_type": "code",
        "id": "bke850EtDCpR",
        "outputId": "a117ffb0-ff59-4213-be4d-8ab139ded14d",
        "colab": {
          "base_uri": "https://localhost:8080/",
          "height": 34
        }
      },
      "source": [
        "prediction2 = clf.predict(X_test_multilabel)\n",
        "\n",
        "precision2 = precision_score(y_test_multilabel, prediction2, average='micro')\n",
        "\n",
        "recall2 = recall_score(y_test_multilabel, prediction2, average='micro')\n",
        "\n",
        "f1_score2 = 2*((precision2 * recall2)/(precision2 + recall2))\n",
        "\n",
        "print(\"precision2: {:.4f}, recall2: {:.4f}, F1-measure: {:.4f}\".format(precision2, recall2, f1_score2))"
      ],
      "execution_count": 11,
      "outputs": [
        {
          "output_type": "stream",
          "text": [
            "precision2: 0.1596, recall2: 0.5875, F1-measure: 0.2511\n"
          ],
          "name": "stdout"
        }
      ]
    },
    {
      "cell_type": "code",
      "metadata": {
        "colab_type": "code",
        "id": "EFcM7flcDCpU",
        "outputId": "a4ca3e3b-3457-440f-89f2-2a7c15359b62",
        "colab": {
          "base_uri": "https://localhost:8080/",
          "height": 493
        }
      },
      "source": [
        "for i in range(5):\n",
        "    k = test.sample(1).index[0]\n",
        "    print(\"Movie: \", test['title'][k]) \n",
        "    print(\"Actual genre: \",y_test[k])\n",
        "    print(\"Predicted tag: \", cnt_vectorizer.inverse_transform(prediction2[k])[0],\"\\n\")"
      ],
      "execution_count": 12,
      "outputs": [
        {
          "output_type": "stream",
          "text": [
            "Movie:  This Is Spinal Tap\n",
            "Actual genre:  comedy, boring, cult, absurd, humor, satire, psychedelic\n",
            "Predicted tag:  ['adult comedy' 'boring' 'brainwashing' 'clever' 'comedy' 'cult' 'cute'\n",
            " 'entertaining' 'humor' 'prank' 'psychedelic' 'satire' 'stupid'\n",
            " 'thought-provoking'] \n",
            "\n",
            "Movie:  Neerja\n",
            "Actual genre:  tragedy\n",
            "Predicted tag:  ['alternate history' 'comedy' 'historical' 'home movie' 'humor' 'murder'\n",
            " 'satire' 'stupid'] \n",
            "\n",
            "Movie:  Anomalisa\n",
            "Actual genre:  absurd\n",
            "Predicted tag:  ['adult comedy' 'bleak' 'boring' 'comedy' 'cult' 'dark' 'dramatic'\n",
            " 'feel-good' 'flashback' 'home movie' 'intrigue' 'mystery' 'neo noir'\n",
            " 'philosophical' 'plot twist' 'psychedelic' 'psychological' 'queer'\n",
            " 'satire' 'sentimental' 'storytelling' 'suicidal' 'thought-provoking'\n",
            " 'tragedy'] \n",
            "\n",
            "Movie:  Undead\n",
            "Actual genre:  comedy, murder, bleak, cult, violence, flashback\n",
            "Predicted tag:  ['allegory' 'atmospheric' 'cult' 'murder' 'realism' 'suspenseful'\n",
            " 'violence'] \n",
            "\n",
            "Movie:  Persuasion\n",
            "Actual genre:  romantic\n",
            "Predicted tag:  ['historical' 'melodrama' 'romantic' 'storytelling'] \n",
            "\n"
          ],
          "name": "stdout"
        }
      ]
    },
    {
      "cell_type": "markdown",
      "metadata": {
        "colab_type": "text",
        "id": "sZJNmTiyDCpX"
      },
      "source": [
        "<h2> 1.3 OneVsRestClassifier + SGDClassifier with Hinge Loss:</h2>"
      ]
    },
    {
      "cell_type": "code",
      "metadata": {
        "colab_type": "code",
        "id": "Y7eDG5BVDCpY",
        "outputId": "915a5199-58dd-4219-8a39-78c2e14eedf5",
        "colab": {
          "base_uri": "https://localhost:8080/",
          "height": 238
        }
      },
      "source": [
        "sgh = SGDClassifier(loss='hinge', class_weight='balanced')\n",
        "\n",
        "clf = OneVsRestClassifier(sgh)\n",
        "clf.fit(X_train_multilabel, y_train_multilabel)"
      ],
      "execution_count": 13,
      "outputs": [
        {
          "output_type": "execute_result",
          "data": {
            "text/plain": [
              "OneVsRestClassifier(estimator=SGDClassifier(alpha=0.0001, average=False,\n",
              "                                            class_weight='balanced',\n",
              "                                            early_stopping=False, epsilon=0.1,\n",
              "                                            eta0=0.0, fit_intercept=True,\n",
              "                                            l1_ratio=0.15,\n",
              "                                            learning_rate='optimal',\n",
              "                                            loss='hinge', max_iter=1000,\n",
              "                                            n_iter_no_change=5, n_jobs=None,\n",
              "                                            penalty='l2', power_t=0.5,\n",
              "                                            random_state=None, shuffle=True,\n",
              "                                            tol=0.001, validation_fraction=0.1,\n",
              "                                            verbose=0, warm_start=False),\n",
              "                    n_jobs=None)"
            ]
          },
          "metadata": {
            "tags": []
          },
          "execution_count": 13
        }
      ]
    },
    {
      "cell_type": "code",
      "metadata": {
        "colab_type": "code",
        "id": "-L57YKxmDCpb",
        "outputId": "dff8814e-03ea-4ea1-b313-177e16304745",
        "colab": {
          "base_uri": "https://localhost:8080/",
          "height": 34
        }
      },
      "source": [
        "prediction3 = clf.predict(X_test_multilabel)\n",
        "\n",
        "precision3 = precision_score(y_test_multilabel, prediction3, average='micro')\n",
        "\n",
        "recall3 = recall_score(y_test_multilabel, prediction3, average='micro')\n",
        "\n",
        "f1_score3 = 2*((precision3 * recall3)/(precision3 + recall3))\n",
        "\n",
        "print(\"precision3: {:.4f}, recall3: {:.4f}, F1-measure: {:.4f}\".format(precision3, recall3, f1_score3))"
      ],
      "execution_count": 14,
      "outputs": [
        {
          "output_type": "stream",
          "text": [
            "precision3: 0.1515, recall3: 0.5868, F1-measure: 0.2408\n"
          ],
          "name": "stdout"
        }
      ]
    },
    {
      "cell_type": "code",
      "metadata": {
        "colab_type": "code",
        "id": "xYyKwo8GDCpd",
        "outputId": "0e6c3771-fada-4adb-bd6c-da937d1e059e",
        "colab": {
          "base_uri": "https://localhost:8080/",
          "height": 527
        }
      },
      "source": [
        "for i in range(5):\n",
        "    k = test.sample(1).index[0]\n",
        "    print(\"Movie: \", test['title'][k]) \n",
        "    print(\"Actual genre: \",y_test[k])\n",
        "    print(\"Predicted tag: \", cnt_vectorizer.inverse_transform(prediction3[k])[0],\"\\n\")"
      ],
      "execution_count": 15,
      "outputs": [
        {
          "output_type": "stream",
          "text": [
            "Movie:  Van Helsing: The London Assignment\n",
            "Actual genre:  murder\n",
            "Predicted tag:  ['alternate reality' 'blaxploitation' 'cruelty' 'cult' 'good versus evil'\n",
            " 'murder' 'psychedelic' 'sci-fi'] \n",
            "\n",
            "Movie:  Offret\n",
            "Actual genre:  insanity, dramatic, philosophical\n",
            "Predicted tag:  ['alternate reality' 'avant garde' 'bleak' 'haunting' 'historical fiction'\n",
            " 'melodrama' 'plot twist' 'psychedelic' 'sci-fi' 'sentimental'\n",
            " 'storytelling'] \n",
            "\n",
            "Movie:  Forever Knight\n",
            "Actual genre:  flashback\n",
            "Predicted tag:  ['alternate reality' 'comedy' 'good versus evil' 'paranormal' 'plot twist'\n",
            " 'realism' 'sci-fi' 'tragedy' 'violence'] \n",
            "\n",
            "Movie:  Anastasia\n",
            "Actual genre:  romantic, cute, entertaining\n",
            "Predicted tag:  ['allegory' 'alternate reality' 'bleak' 'boring' 'brainwashing' 'comedy'\n",
            " 'cult' 'depressing' 'entertaining' 'fantasy' 'feel-good' 'flashback'\n",
            " 'good versus evil' 'gothic' 'humor' 'paranormal' 'psychedelic' 'satire'\n",
            " 'stupid' 'whimsical'] \n",
            "\n",
            "Movie:  The Raven\n",
            "Actual genre:  murder\n",
            "Predicted tag:  ['atmospheric' 'avant garde' 'cruelty' 'cult' 'dark' 'fantasy' 'flashback'\n",
            " 'good versus evil' 'horror' 'murder' 'mystery' 'neo noir' 'paranormal'\n",
            " 'plot twist' 'prank' 'revenge' 'sadist' 'suicidal' 'suspenseful'\n",
            " 'violence'] \n",
            "\n"
          ],
          "name": "stdout"
        }
      ]
    },
    {
      "cell_type": "markdown",
      "metadata": {
        "colab_type": "text",
        "id": "MH_DhkiPDCpg"
      },
      "source": [
        "<h2> 1.4  OneVsRestClassifier + LogisticRegression:</h2>"
      ]
    },
    {
      "cell_type": "code",
      "metadata": {
        "colab_type": "code",
        "id": "KtcTdSw-DCpg",
        "outputId": "c524325c-cb6f-43dc-cbda-bb47a693f490",
        "colab": {
          "base_uri": "https://localhost:8080/",
          "height": 187
        }
      },
      "source": [
        "lr = LogisticRegression(class_weight='balanced')\n",
        "\n",
        "clf = OneVsRestClassifier(lr)\n",
        "clf.fit(X_train_multilabel, y_train_multilabel)"
      ],
      "execution_count": 16,
      "outputs": [
        {
          "output_type": "execute_result",
          "data": {
            "text/plain": [
              "OneVsRestClassifier(estimator=LogisticRegression(C=1.0, class_weight='balanced',\n",
              "                                                 dual=False, fit_intercept=True,\n",
              "                                                 intercept_scaling=1,\n",
              "                                                 l1_ratio=None, max_iter=100,\n",
              "                                                 multi_class='auto',\n",
              "                                                 n_jobs=None, penalty='l2',\n",
              "                                                 random_state=None,\n",
              "                                                 solver='lbfgs', tol=0.0001,\n",
              "                                                 verbose=0, warm_start=False),\n",
              "                    n_jobs=None)"
            ]
          },
          "metadata": {
            "tags": []
          },
          "execution_count": 16
        }
      ]
    },
    {
      "cell_type": "code",
      "metadata": {
        "colab_type": "code",
        "id": "1VeATn1iDCpk",
        "outputId": "22195879-bb2b-45aa-add3-f1a7264c2fef",
        "colab": {
          "base_uri": "https://localhost:8080/",
          "height": 34
        }
      },
      "source": [
        "prediction4 = clf.predict(X_test_multilabel)\n",
        "\n",
        "precision4 = precision_score(y_test_multilabel, prediction4, average='micro')\n",
        "\n",
        "recall4 = recall_score(y_test_multilabel, prediction4, average='micro')\n",
        "\n",
        "f1_score4 = 2*((precision4 * recall4)/(precision4 + recall4))\n",
        "\n",
        "print(\"precision4: {:.4f}, recall4: {:.4f}, F1-measure: {:.4f}\".format(precision4, recall4, f1_score4))"
      ],
      "execution_count": 17,
      "outputs": [
        {
          "output_type": "stream",
          "text": [
            "precision4: 0.1667, recall4: 0.5836, F1-measure: 0.2593\n"
          ],
          "name": "stdout"
        }
      ]
    },
    {
      "cell_type": "code",
      "metadata": {
        "colab_type": "code",
        "id": "0shkxDuJDCpm",
        "outputId": "44928acd-8446-403e-fa1a-ac35ab0ee52a",
        "colab": {
          "base_uri": "https://localhost:8080/",
          "height": 442
        }
      },
      "source": [
        "for i in range(5):\n",
        "    k = test.sample(1).index[0]\n",
        "    print(\"Movie: \", test['title'][k]) \n",
        "    print(\"Actual genre: \",y_test[k])\n",
        "    print(\"Predicted tag: \", cnt_vectorizer.inverse_transform(prediction4[k])[0],\"\\n\")"
      ],
      "execution_count": 18,
      "outputs": [
        {
          "output_type": "stream",
          "text": [
            "Movie:  Walking Tall Part II\n",
            "Actual genre:  revenge, murder, violence\n",
            "Predicted tag:  ['action' 'boring' 'brainwashing' 'clever' 'comedy' 'cult' 'flashback'\n",
            " 'humor' 'murder' 'revenge' 'stupid' 'suspenseful' 'violence'] \n",
            "\n",
            "Movie:  Our Family Wedding\n",
            "Actual genre:  romantic\n",
            "Predicted tag:  ['romantic'] \n",
            "\n",
            "Movie:  Doragon bôru Z: Sûpâ senshi gekiha! Katsu no wa ore da\n",
            "Actual genre:  violence\n",
            "Predicted tag:  ['cult' 'fantasy' 'good versus evil' 'revenge' 'romantic' 'sci-fi'\n",
            " 'tragedy' 'violence'] \n",
            "\n",
            "Movie:  Aftermath\n",
            "Actual genre:  violence\n",
            "Predicted tag:  ['atmospheric' 'dark' 'flashback' 'historical' 'horror' 'murder' 'realism'\n",
            " 'revenge' 'sadist' 'satire' 'suspenseful' 'tragedy' 'violence'] \n",
            "\n",
            "Movie:  Equus\n",
            "Actual genre:  insanity, flashback\n",
            "Predicted tag:  ['atmospheric' 'cult' 'fantasy' 'flashback' 'gothic' 'philosophical'\n",
            " 'plot twist' 'psychedelic' 'psychological' 'queer' 'satire' 'sentimental'\n",
            " 'thought-provoking'] \n",
            "\n"
          ],
          "name": "stdout"
        }
      ]
    },
    {
      "cell_type": "markdown",
      "metadata": {
        "colab_type": "text",
        "id": "TItC30q6DCpp"
      },
      "source": [
        "<h1>2. TfidfVectorizer with (1 - 2 Grams):<?h1>"
      ]
    },
    {
      "cell_type": "code",
      "metadata": {
        "colab_type": "code",
        "id": "LBE6SAMJDCpp",
        "outputId": "f273179f-5b66-41b9-fc8a-7517dd6ca10b",
        "colab": {
          "base_uri": "https://localhost:8080/",
          "height": 51
        }
      },
      "source": [
        "tf_vectorizer = TfidfVectorizer(min_df=0.09, tokenizer = lambda x: x.split(\" \"), ngram_range=(1,2))\n",
        "\n",
        "X_train_multilabel = tf_vectorizer.fit_transform(X_train)\n",
        "X_test_multilabel = tf_vectorizer.transform(X_test)\n",
        "\n",
        "print(\"Dimensions of train data X:\",X_train_multilabel.shape, \"Y :\",y_train_multilabel.shape)\n",
        "print(\"Dimensions of test data X:\",X_test_multilabel.shape,\"Y:\",y_test_multilabel.shape)"
      ],
      "execution_count": 19,
      "outputs": [
        {
          "output_type": "stream",
          "text": [
            "Dimensions of train data X: (10989, 666) Y : (10989, 71)\n",
            "Dimensions of test data X: (2768, 666) Y: (2768, 71)\n"
          ],
          "name": "stdout"
        }
      ]
    },
    {
      "cell_type": "markdown",
      "metadata": {
        "colab_type": "text",
        "id": "MgHAsJ_SDCpr"
      },
      "source": [
        "<H2> 2.1 OneVsRestClassifier + MultinomialNB :</H2>"
      ]
    },
    {
      "cell_type": "code",
      "metadata": {
        "colab_type": "code",
        "id": "u_H7hHSEDCps",
        "outputId": "395a36bb-b94c-440e-88da-df3cb181decc",
        "colab": {
          "base_uri": "https://localhost:8080/",
          "height": 68
        }
      },
      "source": [
        "mb = MultinomialNB(class_prior = [0.5, 0.5])\n",
        "\n",
        "clf = OneVsRestClassifier(mb)\n",
        "clf.fit(X_train_multilabel, y_train_multilabel)"
      ],
      "execution_count": 20,
      "outputs": [
        {
          "output_type": "execute_result",
          "data": {
            "text/plain": [
              "OneVsRestClassifier(estimator=MultinomialNB(alpha=1.0, class_prior=[0.5, 0.5],\n",
              "                                            fit_prior=True),\n",
              "                    n_jobs=None)"
            ]
          },
          "metadata": {
            "tags": []
          },
          "execution_count": 20
        }
      ]
    },
    {
      "cell_type": "code",
      "metadata": {
        "colab_type": "code",
        "id": "rR_FdRbZDCpu",
        "outputId": "4b401f63-acb5-40d9-be9c-1bb08c51f566",
        "colab": {
          "base_uri": "https://localhost:8080/",
          "height": 34
        }
      },
      "source": [
        "prediction5 = clf.predict(X_test_multilabel)\n",
        "\n",
        "precision5 = precision_score(y_test_multilabel, prediction5, average='micro')\n",
        "\n",
        "recall5 = recall_score(y_test_multilabel, prediction5, average='micro')\n",
        "\n",
        "f1_score5 = 2*((precision5 * recall5)/(precision5 + recall5))\n",
        "\n",
        "print(\"precision5: {:.4f}, recall5: {:.4f}, F1-measure: {:.4f}\".format(precision5, recall5, f1_score5))"
      ],
      "execution_count": 21,
      "outputs": [
        {
          "output_type": "stream",
          "text": [
            "precision5: 0.1170, recall5: 0.6448, F1-measure: 0.1980\n"
          ],
          "name": "stdout"
        }
      ]
    },
    {
      "cell_type": "code",
      "metadata": {
        "colab_type": "code",
        "id": "0nYCZTnyDCpx",
        "outputId": "db3ca3ac-5ae0-4992-a2d5-07e274cff587",
        "colab": {
          "base_uri": "https://localhost:8080/",
          "height": 510
        }
      },
      "source": [
        "for i in range(5):\n",
        "    k = test.sample(1).index[0]\n",
        "    print(\"Movie: \", test['title'][k]) \n",
        "    print(\"Actual genre: \",y_test[k])\n",
        "    print(\"Predicted tag: \", cnt_vectorizer.inverse_transform(prediction5[k])[0],\"\\n\")"
      ],
      "execution_count": 22,
      "outputs": [
        {
          "output_type": "stream",
          "text": [
            "Movie:  Phantom\n",
            "Actual genre:  psychedelic, atmospheric\n",
            "Predicted tag:  ['absurd' 'action' 'alternate history' 'alternate reality' 'anti war'\n",
            " 'boring' 'brainwashing' 'claustrophobic' 'comedy' 'comic' 'cult'\n",
            " 'good versus evil' 'historical' 'historical fiction' 'humor' 'murder'\n",
            " 'mystery' 'psychedelic' 'revenge' 'sci-fi' 'stupid' 'suspenseful'\n",
            " 'thought-provoking' 'violence'] \n",
            "\n",
            "Movie:  Ida\n",
            "Actual genre:  murder\n",
            "Predicted tag:  ['atmospheric' 'boring' 'depressing' 'dramatic' 'flashback' 'haunting'\n",
            " 'horror' 'insanity' 'melodrama' 'psychedelic' 'romantic' 'sentimental'\n",
            " 'storytelling'] \n",
            "\n",
            "Movie:  Kaakha..Kaakha: The Police\n",
            "Actual genre:  murder, violence, flashback, good versus evil, romantic, revenge\n",
            "Predicted tag:  ['murder' 'neo noir' 'realism' 'revenge' 'sadist' 'tragedy' 'violence'] \n",
            "\n",
            "Movie:  Wong Fei Hung III: Si wong jaang ba\n",
            "Actual genre:  cult, violence\n",
            "Predicted tag:  ['absurd' 'action' 'avant garde' 'comic' 'cute' 'entertaining'\n",
            " 'good versus evil' 'historical' 'historical fiction' 'psychedelic'\n",
            " 'romantic' 'satire' 'tragedy'] \n",
            "\n",
            "Movie:  Blue Montana Skies\n",
            "Actual genre:  revenge, comedy, murder\n",
            "Predicted tag:  ['action' 'cult' 'good versus evil' 'gothic' 'horror' 'murder' 'mystery'\n",
            " 'revenge' 'sadist' 'suspenseful' 'violence'] \n",
            "\n"
          ],
          "name": "stdout"
        }
      ]
    },
    {
      "cell_type": "markdown",
      "metadata": {
        "colab_type": "text",
        "id": "OGAQgFJtDCpz"
      },
      "source": [
        "<h2> 2.2 OneVsRestClassifier + SGDClassifier with LOG Loss :</h2>"
      ]
    },
    {
      "cell_type": "code",
      "metadata": {
        "colab_type": "code",
        "id": "tP0jIPhODCp0",
        "outputId": "e5f93a41-78f2-4e83-ecad-69a4ee62bd59",
        "colab": {
          "base_uri": "https://localhost:8080/",
          "height": 238
        }
      },
      "source": [
        "sgl = SGDClassifier(loss='log', class_weight='balanced')\n",
        "\n",
        "clf = OneVsRestClassifier(sgl)\n",
        "clf.fit(X_train_multilabel, y_train_multilabel)"
      ],
      "execution_count": 23,
      "outputs": [
        {
          "output_type": "execute_result",
          "data": {
            "text/plain": [
              "OneVsRestClassifier(estimator=SGDClassifier(alpha=0.0001, average=False,\n",
              "                                            class_weight='balanced',\n",
              "                                            early_stopping=False, epsilon=0.1,\n",
              "                                            eta0=0.0, fit_intercept=True,\n",
              "                                            l1_ratio=0.15,\n",
              "                                            learning_rate='optimal', loss='log',\n",
              "                                            max_iter=1000, n_iter_no_change=5,\n",
              "                                            n_jobs=None, penalty='l2',\n",
              "                                            power_t=0.5, random_state=None,\n",
              "                                            shuffle=True, tol=0.001,\n",
              "                                            validation_fraction=0.1, verbose=0,\n",
              "                                            warm_start=False),\n",
              "                    n_jobs=None)"
            ]
          },
          "metadata": {
            "tags": []
          },
          "execution_count": 23
        }
      ]
    },
    {
      "cell_type": "code",
      "metadata": {
        "colab_type": "code",
        "id": "8Omzrwn_DCp3",
        "outputId": "d2182c6b-e941-4da1-ef4e-946ef02f1111",
        "colab": {
          "base_uri": "https://localhost:8080/",
          "height": 34
        }
      },
      "source": [
        "prediction6 = clf.predict(X_test_multilabel)\n",
        "\n",
        "precision6 = precision_score(y_test_multilabel, prediction6, average='micro')\n",
        "\n",
        "recall6 = recall_score(y_test_multilabel, prediction6, average='micro')\n",
        "\n",
        "f1_score6 = 2*((precision6 * recall6)/(precision6 + recall6))\n",
        "\n",
        "print(\"precision6: {:.4f}, recall6: {:.4f}, F1-measure: {:.4f}\".format(precision6, recall6, f1_score6))"
      ],
      "execution_count": 24,
      "outputs": [
        {
          "output_type": "stream",
          "text": [
            "precision6: 0.1583, recall6: 0.5831, F1-measure: 0.2490\n"
          ],
          "name": "stdout"
        }
      ]
    },
    {
      "cell_type": "code",
      "metadata": {
        "colab_type": "code",
        "id": "pM-8DSt8DCp7",
        "outputId": "77a6aad0-c75a-45b2-fcd4-992f984e7fcf",
        "colab": {
          "base_uri": "https://localhost:8080/",
          "height": 476
        }
      },
      "source": [
        "for i in range(5):\n",
        "    k = test.sample(1).index[0]\n",
        "    print(\"Movie: \", test['title'][k]) \n",
        "    print(\"Actual genre: \",y_test[k])\n",
        "    print(\"Predicted tag: \", cnt_vectorizer.inverse_transform(prediction6[k])[0],\"\\n\")"
      ],
      "execution_count": 25,
      "outputs": [
        {
          "output_type": "stream",
          "text": [
            "Movie:  The Tempest\n",
            "Actual genre:  insanity, revenge, avant garde, psychedelic\n",
            "Predicted tag:  ['fantasy' 'good versus evil' 'melodrama' 'romantic'] \n",
            "\n",
            "Movie:  The Royal Tenenbaums\n",
            "Actual genre:  dark, comedy, bleak, flashback, psychedelic, romantic, entertaining\n",
            "Predicted tag:  ['action' 'atmospheric' 'boring' 'dark' 'depressing' 'dramatic'\n",
            " 'entertaining' 'flashback' 'home movie' 'melodrama' 'romantic'\n",
            " 'sentimental' 'storytelling' 'thought-provoking' 'tragedy'] \n",
            "\n",
            "Movie:  The Sting\n",
            "Actual genre:  boring, depressing, murder, cult, plot twist, clever, inspiring, revenge, entertaining\n",
            "Predicted tag:  ['comedy' 'comic' 'cult' 'flashback' 'humor' 'murder' 'neo noir' 'prank'\n",
            " 'revenge' 'satire'] \n",
            "\n",
            "Movie:  The Stöned Age\n",
            "Actual genre:  cult\n",
            "Predicted tag:  ['absurd' 'adult comedy' 'comedy' 'comic' 'cult' 'entertaining' 'humor'\n",
            " 'intrigue' 'pornographic' 'prank' 'psychedelic' 'revenge' 'satire'\n",
            " 'stupid'] \n",
            "\n",
            "Movie:  A Beautiful Mind\n",
            "Actual genre:  suspenseful, psychological, dramatic, cult, flashback, insanity, inspiring, romantic, historical, prank\n",
            "Predicted tag:  ['action' 'atmospheric' 'comedy' 'dark' 'dramatic' 'entertaining'\n",
            " 'flashback' 'intrigue' 'philosophical' 'plot twist' 'prank'\n",
            " 'psychological' 'queer' 'realism' 'romantic' 'tragedy'] \n",
            "\n"
          ],
          "name": "stdout"
        }
      ]
    },
    {
      "cell_type": "markdown",
      "metadata": {
        "colab_type": "text",
        "id": "H1i_MkygDCp9"
      },
      "source": [
        "<h2> 2.3 OneVsRestClassifier + SGDClassifier with HINGE Loss : </h2>"
      ]
    },
    {
      "cell_type": "code",
      "metadata": {
        "colab_type": "code",
        "id": "h73x2cj0DCp9",
        "outputId": "582639bd-7bd3-472c-9834-0be24a12147a",
        "colab": {
          "base_uri": "https://localhost:8080/",
          "height": 238
        }
      },
      "source": [
        "sgh = SGDClassifier(loss='hinge', class_weight='balanced')\n",
        "\n",
        "clf = OneVsRestClassifier(sgh)\n",
        "clf.fit(X_train_multilabel, y_train_multilabel)"
      ],
      "execution_count": 26,
      "outputs": [
        {
          "output_type": "execute_result",
          "data": {
            "text/plain": [
              "OneVsRestClassifier(estimator=SGDClassifier(alpha=0.0001, average=False,\n",
              "                                            class_weight='balanced',\n",
              "                                            early_stopping=False, epsilon=0.1,\n",
              "                                            eta0=0.0, fit_intercept=True,\n",
              "                                            l1_ratio=0.15,\n",
              "                                            learning_rate='optimal',\n",
              "                                            loss='hinge', max_iter=1000,\n",
              "                                            n_iter_no_change=5, n_jobs=None,\n",
              "                                            penalty='l2', power_t=0.5,\n",
              "                                            random_state=None, shuffle=True,\n",
              "                                            tol=0.001, validation_fraction=0.1,\n",
              "                                            verbose=0, warm_start=False),\n",
              "                    n_jobs=None)"
            ]
          },
          "metadata": {
            "tags": []
          },
          "execution_count": 26
        }
      ]
    },
    {
      "cell_type": "code",
      "metadata": {
        "colab_type": "code",
        "id": "a864hwsHDCqA",
        "outputId": "8615435d-3a49-4a5c-d669-703da4a48d55",
        "colab": {
          "base_uri": "https://localhost:8080/",
          "height": 34
        }
      },
      "source": [
        "prediction7 = clf.predict(X_test_multilabel)\n",
        "\n",
        "precision7 = precision_score(y_test_multilabel, prediction7, average='micro')\n",
        "\n",
        "recall7 = recall_score(y_test_multilabel, prediction7, average='micro')\n",
        "\n",
        "f1_score7 = 2*((precision7 * recall7)/(precision7 + recall7))\n",
        "\n",
        "print(\"precision7: {:.4f}, recall7: {:.4f}, F1-measure: {:.4f}\".format(precision7, recall7, f1_score7))"
      ],
      "execution_count": 27,
      "outputs": [
        {
          "output_type": "stream",
          "text": [
            "precision7: 0.1550, recall7: 0.5800, F1-measure: 0.2446\n"
          ],
          "name": "stdout"
        }
      ]
    },
    {
      "cell_type": "code",
      "metadata": {
        "colab_type": "code",
        "id": "h6F5IYHZDCqD",
        "outputId": "2b74736b-718d-443e-e38d-c22fe75d9bb7",
        "colab": {
          "base_uri": "https://localhost:8080/",
          "height": 510
        }
      },
      "source": [
        "for i in range(5):\n",
        "    k = test.sample(1).index[0]\n",
        "    print(\"Movie: \", test['title'][k]) \n",
        "    print(\"Actual genre: \",y_test[k])\n",
        "    print(\"Predicted tag: \", cnt_vectorizer.inverse_transform(prediction7[k])[0],\"\\n\")"
      ],
      "execution_count": 28,
      "outputs": [
        {
          "output_type": "stream",
          "text": [
            "Movie:  Payback\n",
            "Actual genre:  comedy, neo noir, violence, atmospheric, flashback, plot twist, clever, humor, action, revenge, sadist\n",
            "Predicted tag:  ['absurd' 'action' 'alternate reality' 'atmospheric' 'bleak' 'boring'\n",
            " 'comedy' 'cult' 'dark' 'depressing' 'dramatic' 'entertaining' 'flashback'\n",
            " 'home movie' 'humor' 'insanity' 'murder' 'mystery' 'neo noir'\n",
            " 'psychedelic' 'realism' 'revenge' 'sadist' 'storytelling' 'stupid'\n",
            " 'suspenseful' 'violence'] \n",
            "\n",
            "Movie:  Along the Great Divide\n",
            "Actual genre:  revenge\n",
            "Predicted tag:  ['flashback' 'melodrama' 'murder' 'mystery' 'paranormal' 'revenge'\n",
            " 'romantic' 'sadist' 'suspenseful' 'tragedy' 'violence'] \n",
            "\n",
            "Movie:  Way of the Vampire\n",
            "Actual genre:  violence, flashback\n",
            "Predicted tag:  ['cult' 'dark' 'good versus evil' 'gothic' 'horror' 'murder' 'realism'\n",
            " 'revenge' 'sadist' 'tragedy' 'violence'] \n",
            "\n",
            "Movie:  Uno dopo l'altro\n",
            "Actual genre:  western, violence\n",
            "Predicted tag:  ['avant garde' 'claustrophobic' 'comedy' 'dark' 'dramatic' 'entertaining'\n",
            " 'historical' 'philosophical' 'satire' 'suspenseful' 'violence'] \n",
            "\n",
            "Movie:  Fortress 2\n",
            "Actual genre:  comedy, murder, cult, violence, absurd, revenge, sadist, sci-fi\n",
            "Predicted tag:  ['action' 'allegory' 'avant garde' 'claustrophobic' 'cult' 'flashback'\n",
            " 'humor' 'melodrama' 'murder' 'psychological' 'revenge' 'sadist'\n",
            " 'suspenseful' 'violence'] \n",
            "\n"
          ],
          "name": "stdout"
        }
      ]
    },
    {
      "cell_type": "markdown",
      "metadata": {
        "colab_type": "text",
        "id": "g7Yzn-YMDCqG"
      },
      "source": [
        "<h2> 2.4 OneVsRestClassifier + LogisticRegression:</h2>"
      ]
    },
    {
      "cell_type": "code",
      "metadata": {
        "colab_type": "code",
        "id": "LCecqbPYDCqG",
        "outputId": "1e865c9b-1caf-465d-8be0-c5be3fd784c4",
        "colab": {
          "base_uri": "https://localhost:8080/",
          "height": 187
        }
      },
      "source": [
        "lr = LogisticRegression(class_weight='balanced')\n",
        "\n",
        "clf = OneVsRestClassifier(lr)\n",
        "clf.fit(X_train_multilabel, y_train_multilabel)"
      ],
      "execution_count": 29,
      "outputs": [
        {
          "output_type": "execute_result",
          "data": {
            "text/plain": [
              "OneVsRestClassifier(estimator=LogisticRegression(C=1.0, class_weight='balanced',\n",
              "                                                 dual=False, fit_intercept=True,\n",
              "                                                 intercept_scaling=1,\n",
              "                                                 l1_ratio=None, max_iter=100,\n",
              "                                                 multi_class='auto',\n",
              "                                                 n_jobs=None, penalty='l2',\n",
              "                                                 random_state=None,\n",
              "                                                 solver='lbfgs', tol=0.0001,\n",
              "                                                 verbose=0, warm_start=False),\n",
              "                    n_jobs=None)"
            ]
          },
          "metadata": {
            "tags": []
          },
          "execution_count": 29
        }
      ]
    },
    {
      "cell_type": "code",
      "metadata": {
        "colab_type": "code",
        "id": "j86V-6BaDCqJ",
        "outputId": "a1d20557-d203-4c93-98d2-7ac88f8a3241",
        "colab": {
          "base_uri": "https://localhost:8080/",
          "height": 34
        }
      },
      "source": [
        "prediction8 = clf.predict(X_test_multilabel)\n",
        "\n",
        "precision8 = precision_score(y_test_multilabel, prediction8, average='micro')\n",
        "\n",
        "recall8 = recall_score(y_test_multilabel, prediction8, average='micro')\n",
        "\n",
        "f1_score8 = 2*((precision8 * recall8)/(precision8 + recall8))\n",
        "\n",
        "print(\"precision8: {:.4f}, recall8: {:.4f}, F1-measure: {:.4f}\".format(precision8, recall8, f1_score8))"
      ],
      "execution_count": 30,
      "outputs": [
        {
          "output_type": "stream",
          "text": [
            "precision8: 0.1673, recall8: 0.5839, F1-measure: 0.2601\n"
          ],
          "name": "stdout"
        }
      ]
    },
    {
      "cell_type": "code",
      "metadata": {
        "colab_type": "code",
        "id": "WXyBI8_2DCqL",
        "outputId": "0d7454c9-45f5-4f91-9ceb-aae533d35e36",
        "colab": {
          "base_uri": "https://localhost:8080/",
          "height": 425
        }
      },
      "source": [
        "for i in range(5):\n",
        "    k = test.sample(1).index[0]\n",
        "    print(\"Movie: \", test['title'][k]) \n",
        "    print(\"Actual genre: \",y_test[k])\n",
        "    print(\"Predicted tag: \", cnt_vectorizer.inverse_transform(prediction8[k])[0],\"\\n\")"
      ],
      "execution_count": 31,
      "outputs": [
        {
          "output_type": "stream",
          "text": [
            "Movie:  Dilwale Dulhania Le Jayenge\n",
            "Actual genre:  romantic\n",
            "Predicted tag:  ['cute' 'feel-good' 'flashback' 'melodrama' 'prank' 'realism' 'romantic'\n",
            " 'sentimental' 'tragedy'] \n",
            "\n",
            "Movie:  Athadu\n",
            "Actual genre:  murder, flashback\n",
            "Predicted tag:  ['action' 'comedy' 'cruelty' 'cult' 'entertaining' 'flashback' 'murder'\n",
            " 'mystery' 'neo noir' 'prank' 'realism' 'revenge' 'sadist' 'stupid'\n",
            " 'suspenseful' 'violence'] \n",
            "\n",
            "Movie:  Fur: An Imaginary Portrait of Diane Arbus\n",
            "Actual genre:  flashback, home movie\n",
            "Predicted tag:  ['adult comedy' 'boring' 'flashback' 'mystery' 'romantic'] \n",
            "\n",
            "Movie:  Las brujas de Zugarramurdi\n",
            "Actual genre:  romantic\n",
            "Predicted tag:  ['alternate history' 'bleak' 'boring' 'cruelty' 'cult' 'paranormal'\n",
            " 'violence'] \n",
            "\n",
            "Movie:  Body Snatchers\n",
            "Actual genre:  cult, suspenseful, psychedelic, satire\n",
            "Predicted tag:  ['action' 'alternate reality' 'fantasy' 'satire' 'sci-fi' 'sentimental'] \n",
            "\n"
          ],
          "name": "stdout"
        }
      ]
    },
    {
      "cell_type": "markdown",
      "metadata": {
        "colab_type": "text",
        "id": "w1_LLwYoDCqO"
      },
      "source": [
        "<h1>3. TfidfVectorizer with (1 - 3 Grams):<?h1>"
      ]
    },
    {
      "cell_type": "code",
      "metadata": {
        "colab_type": "code",
        "id": "T23u8WsoDCqO",
        "outputId": "f8ec5538-126c-4b5e-9fdc-6646c5424d97",
        "colab": {
          "base_uri": "https://localhost:8080/",
          "height": 51
        }
      },
      "source": [
        "tf_vectorizer = TfidfVectorizer(min_df=0.09, tokenizer = lambda x: x.split(\" \"), ngram_range=(1,3))\n",
        "\n",
        "X_train_multilabel = tf_vectorizer.fit_transform(X_train)\n",
        "X_test_multilabel = tf_vectorizer.transform(X_test)\n",
        "\n",
        "print(\"Dimensions of train data X:\",X_train_multilabel.shape, \"Y :\",y_train_multilabel.shape)\n",
        "print(\"Dimensions of test data X:\",X_test_multilabel.shape,\"Y:\",y_test_multilabel.shape)"
      ],
      "execution_count": 32,
      "outputs": [
        {
          "output_type": "stream",
          "text": [
            "Dimensions of train data X: (10989, 666) Y : (10989, 71)\n",
            "Dimensions of test data X: (2768, 666) Y: (2768, 71)\n"
          ],
          "name": "stdout"
        }
      ]
    },
    {
      "cell_type": "markdown",
      "metadata": {
        "colab_type": "text",
        "id": "NMeRyIKsDCqQ"
      },
      "source": [
        "<H2> 3.1 OneVsRestClassifier + MultinomialNB :</H2>"
      ]
    },
    {
      "cell_type": "code",
      "metadata": {
        "colab_type": "code",
        "id": "EffderkGDCqR",
        "outputId": "7de29352-d208-491d-dd82-f47133c752b5",
        "colab": {
          "base_uri": "https://localhost:8080/",
          "height": 68
        }
      },
      "source": [
        "mb = MultinomialNB(class_prior = [0.5, 0.5])\n",
        "\n",
        "clf = OneVsRestClassifier(mb)\n",
        "clf.fit(X_train_multilabel, y_train_multilabel)"
      ],
      "execution_count": 33,
      "outputs": [
        {
          "output_type": "execute_result",
          "data": {
            "text/plain": [
              "OneVsRestClassifier(estimator=MultinomialNB(alpha=1.0, class_prior=[0.5, 0.5],\n",
              "                                            fit_prior=True),\n",
              "                    n_jobs=None)"
            ]
          },
          "metadata": {
            "tags": []
          },
          "execution_count": 33
        }
      ]
    },
    {
      "cell_type": "code",
      "metadata": {
        "colab_type": "code",
        "id": "_fPj9KgyDCqT",
        "outputId": "52d82641-014c-4e10-d63d-ada730af459e",
        "colab": {
          "base_uri": "https://localhost:8080/",
          "height": 34
        }
      },
      "source": [
        "prediction9 = clf.predict(X_test_multilabel)\n",
        "\n",
        "precision9 = precision_score(y_test_multilabel, prediction9, average='micro')\n",
        "\n",
        "recall9 = recall_score(y_test_multilabel, prediction9, average='micro')\n",
        "\n",
        "f1_score9 = 2*((precision9 * recall9)/(precision9 + recall9))\n",
        "\n",
        "print(\"precision9: {:.4f}, recall9: {:.4f}, F1-measure: {:.4f}\".format(precision9, recall9, f1_score9))"
      ],
      "execution_count": 34,
      "outputs": [
        {
          "output_type": "stream",
          "text": [
            "precision9: 0.1170, recall9: 0.6448, F1-measure: 0.1980\n"
          ],
          "name": "stdout"
        }
      ]
    },
    {
      "cell_type": "code",
      "metadata": {
        "colab_type": "code",
        "id": "M3Rdu8AKDCqV",
        "outputId": "3d1c4102-7b93-414f-cc47-918b524a7a5e",
        "colab": {
          "base_uri": "https://localhost:8080/",
          "height": 663
        }
      },
      "source": [
        "for i in range(5):\n",
        "    k = test.sample(1).index[0]\n",
        "    print(\"Movie: \", test['title'][k]) \n",
        "    print(\"Actual genre: \",y_test[k])\n",
        "    print(\"Predicted tag: \", cnt_vectorizer.inverse_transform(prediction9[k])[0],\"\\n\")"
      ],
      "execution_count": 35,
      "outputs": [
        {
          "output_type": "stream",
          "text": [
            "Movie:  Monkey Shines\n",
            "Actual genre:  revenge, murder\n",
            "Predicted tag:  ['flashback' 'philosophical' 'psychedelic' 'romantic'] \n",
            "\n",
            "Movie:  Fingersmith\n",
            "Actual genre:  historical fiction\n",
            "Predicted tag:  ['alternate reality' 'atmospheric' 'bleak' 'boring' 'clever' 'comedy'\n",
            " 'cruelty' 'cute' 'dark' 'depressing' 'dramatic' 'entertaining' 'fantasy'\n",
            " 'feel-good' 'flashback' 'gothic' 'haunting' 'horror' 'humor' 'insanity'\n",
            " 'melodrama' 'mystery' 'paranormal' 'plot twist' 'prank' 'psychedelic'\n",
            " 'psychological' 'romantic' 'satire' 'sentimental' 'storytelling'\n",
            " 'whimsical'] \n",
            "\n",
            "Movie:  The Ghost Writer\n",
            "Actual genre:  boring, mystery, murder, dramatic, intrigue, atmospheric, suspenseful\n",
            "Predicted tag:  ['absurd' 'action' 'allegory' 'alternate history' 'anti war' 'atmospheric'\n",
            " 'autobiographical' 'avant garde' 'bleak' 'boring' 'brainwashing'\n",
            " 'christian film' 'claustrophobic' 'clever' 'dark' 'depressing' 'dramatic'\n",
            " 'flashback' 'gothic' 'haunting' 'historical' 'historical fiction'\n",
            " 'home movie' 'insanity' 'intrigue' 'magical realism' 'murder' 'mystery'\n",
            " 'neo noir' 'paranormal' 'philosophical' 'plot twist' 'pornographic'\n",
            " 'psychological' 'queer' 'realism' 'satire' 'storytelling' 'stupid'\n",
            " 'suicidal' 'suspenseful' 'thought-provoking' 'western'] \n",
            "\n",
            "Movie:  Christmas in Connecticut\n",
            "Actual genre:  romantic\n",
            "Predicted tag:  ['adult comedy' 'autobiographical' 'cute' 'depressing' 'dramatic'\n",
            " 'entertaining' 'fantasy' 'feel-good' 'home movie' 'magical realism'\n",
            " 'melodrama' 'pornographic' 'queer' 'romantic' 'satire' 'sentimental'\n",
            " 'storytelling'] \n",
            "\n",
            "Movie:  Mr. Popper's Penguins\n",
            "Actual genre:  humor\n",
            "Predicted tag:  ['allegory' 'autobiographical' 'boring' 'comedy' 'cute' 'depressing'\n",
            " 'dramatic' 'entertaining' 'fantasy' 'haunting' 'home movie' 'humor'\n",
            " 'inspiring' 'melodrama' 'prank' 'psychedelic' 'romantic' 'satire'\n",
            " 'sentimental' 'storytelling' 'whimsical'] \n",
            "\n"
          ],
          "name": "stdout"
        }
      ]
    },
    {
      "cell_type": "markdown",
      "metadata": {
        "colab_type": "text",
        "id": "KmEygrxSDCqY"
      },
      "source": [
        "<H2> 3.2 OneVsRestClassifier + SGDClassifier with LOG Loss :</H2>"
      ]
    },
    {
      "cell_type": "code",
      "metadata": {
        "colab_type": "code",
        "id": "dIO98T1tDCqZ",
        "outputId": "2ace7d01-a5c6-41ff-e322-22619b4b8757",
        "colab": {
          "base_uri": "https://localhost:8080/",
          "height": 238
        }
      },
      "source": [
        "sgl = SGDClassifier(loss='log', class_weight='balanced')\n",
        "\n",
        "clf = OneVsRestClassifier(sgl)\n",
        "clf.fit(X_train_multilabel, y_train_multilabel)"
      ],
      "execution_count": 36,
      "outputs": [
        {
          "output_type": "execute_result",
          "data": {
            "text/plain": [
              "OneVsRestClassifier(estimator=SGDClassifier(alpha=0.0001, average=False,\n",
              "                                            class_weight='balanced',\n",
              "                                            early_stopping=False, epsilon=0.1,\n",
              "                                            eta0=0.0, fit_intercept=True,\n",
              "                                            l1_ratio=0.15,\n",
              "                                            learning_rate='optimal', loss='log',\n",
              "                                            max_iter=1000, n_iter_no_change=5,\n",
              "                                            n_jobs=None, penalty='l2',\n",
              "                                            power_t=0.5, random_state=None,\n",
              "                                            shuffle=True, tol=0.001,\n",
              "                                            validation_fraction=0.1, verbose=0,\n",
              "                                            warm_start=False),\n",
              "                    n_jobs=None)"
            ]
          },
          "metadata": {
            "tags": []
          },
          "execution_count": 36
        }
      ]
    },
    {
      "cell_type": "code",
      "metadata": {
        "colab_type": "code",
        "id": "zsdCC3yXDCqd",
        "outputId": "42dd98c8-e312-4f09-886c-33337be128f5",
        "colab": {
          "base_uri": "https://localhost:8080/",
          "height": 34
        }
      },
      "source": [
        "prediction10 = clf.predict(X_test_multilabel)\n",
        "\n",
        "precision10 = precision_score(y_test_multilabel, prediction10, average='micro')\n",
        "\n",
        "recall10 = recall_score(y_test_multilabel, prediction10, average='micro')\n",
        "\n",
        "f1_score10 = 2*((precision10 * recall10)/(precision10 + recall10))\n",
        "\n",
        "print(\"precision10: {:.4f}, recall10: {:.4f}, F1-measure: {:.4f}\".format(precision10, recall10, f1_score10))"
      ],
      "execution_count": 37,
      "outputs": [
        {
          "output_type": "stream",
          "text": [
            "precision10: 0.1553, recall10: 0.5728, F1-measure: 0.2444\n"
          ],
          "name": "stdout"
        }
      ]
    },
    {
      "cell_type": "code",
      "metadata": {
        "colab_type": "code",
        "id": "hKET1sFDDCqf",
        "outputId": "dd1ed276-ee77-478d-c736-5f209bf7c3df",
        "colab": {
          "base_uri": "https://localhost:8080/",
          "height": 425
        }
      },
      "source": [
        "for i in range(5):\n",
        "    k = test.sample(1).index[0]\n",
        "    print(\"Movie: \", test['title'][k]) \n",
        "    print(\"Actual genre: \",y_test[k])\n",
        "    print(\"Predicted tag: \", cnt_vectorizer.inverse_transform(prediction10[k])[0],\"\\n\")"
      ],
      "execution_count": 38,
      "outputs": [
        {
          "output_type": "stream",
          "text": [
            "Movie:  This Revolution\n",
            "Actual genre:  romantic, avant garde, violence, flashback\n",
            "Predicted tag:  ['blaxploitation' 'bleak' 'boring' 'murder' 'realism' 'suspenseful'] \n",
            "\n",
            "Movie:  Wonder Woman\n",
            "Actual genre:  psychedelic, murder\n",
            "Predicted tag:  ['avant garde' 'comedy' 'entertaining' 'historical' 'historical fiction'\n",
            " 'humor' 'psychedelic' 'satire'] \n",
            "\n",
            "Movie:  The Petrified Forest\n",
            "Actual genre:  depressing, murder\n",
            "Predicted tag:  ['alternate reality' 'atmospheric' 'avant garde' 'bleak' 'boring' 'clever'\n",
            " 'cult' 'dark' 'depressing' 'fantasy' 'good versus evil' 'humor'\n",
            " 'plot twist' 'psychedelic' 'romantic' 'satire' 'storytelling'] \n",
            "\n",
            "Movie:  Deewane\n",
            "Actual genre:  romantic\n",
            "Predicted tag:  ['allegory' 'christian film' 'philosophical' 'romantic' 'tragedy'] \n",
            "\n",
            "Movie:  Worry Dolls\n",
            "Actual genre:  murder\n",
            "Predicted tag:  ['cruelty' 'historical' 'home movie' 'murder' 'neo noir' 'plot twist'\n",
            " 'realism' 'revenge' 'sadist' 'violence'] \n",
            "\n"
          ],
          "name": "stdout"
        }
      ]
    },
    {
      "cell_type": "markdown",
      "metadata": {
        "colab_type": "text",
        "id": "wX4gYLtVDCqi"
      },
      "source": [
        "<h2> 3.3 OneVsRestClassifier + SGDClassifier with HINGE Loss : </h2>"
      ]
    },
    {
      "cell_type": "code",
      "metadata": {
        "colab_type": "code",
        "id": "GZVEbC3qDCqj",
        "outputId": "b7a213c0-2eaa-47d9-cd07-ee0af6919169",
        "colab": {
          "base_uri": "https://localhost:8080/",
          "height": 238
        }
      },
      "source": [
        "sgh = SGDClassifier(loss='hinge', class_weight='balanced')\n",
        "\n",
        "clf = OneVsRestClassifier(sgh)\n",
        "clf.fit(X_train_multilabel, y_train_multilabel)"
      ],
      "execution_count": 39,
      "outputs": [
        {
          "output_type": "execute_result",
          "data": {
            "text/plain": [
              "OneVsRestClassifier(estimator=SGDClassifier(alpha=0.0001, average=False,\n",
              "                                            class_weight='balanced',\n",
              "                                            early_stopping=False, epsilon=0.1,\n",
              "                                            eta0=0.0, fit_intercept=True,\n",
              "                                            l1_ratio=0.15,\n",
              "                                            learning_rate='optimal',\n",
              "                                            loss='hinge', max_iter=1000,\n",
              "                                            n_iter_no_change=5, n_jobs=None,\n",
              "                                            penalty='l2', power_t=0.5,\n",
              "                                            random_state=None, shuffle=True,\n",
              "                                            tol=0.001, validation_fraction=0.1,\n",
              "                                            verbose=0, warm_start=False),\n",
              "                    n_jobs=None)"
            ]
          },
          "metadata": {
            "tags": []
          },
          "execution_count": 39
        }
      ]
    },
    {
      "cell_type": "code",
      "metadata": {
        "colab_type": "code",
        "id": "5LWHHyAQDCqm",
        "outputId": "aab78eaa-4604-4cee-9993-ca69d2b3ee31",
        "colab": {
          "base_uri": "https://localhost:8080/",
          "height": 34
        }
      },
      "source": [
        "prediction11 = clf.predict(X_test_multilabel)\n",
        "\n",
        "precision11 = precision_score(y_test_multilabel, prediction11, average='micro')\n",
        "\n",
        "recall11 = recall_score(y_test_multilabel, prediction11, average='micro')\n",
        "\n",
        "f1_score11 = 2*((precision11 * recall11)/(precision11 + recall11))\n",
        "\n",
        "print(\"precision11: {:.4f}, recall11: {:.4f}, F1-measure: {:.4f}\".format(precision11, recall11, f1_score11))"
      ],
      "execution_count": 40,
      "outputs": [
        {
          "output_type": "stream",
          "text": [
            "precision11: 0.1565, recall11: 0.5784, F1-measure: 0.2464\n"
          ],
          "name": "stdout"
        }
      ]
    },
    {
      "cell_type": "code",
      "metadata": {
        "colab_type": "code",
        "id": "CmEM5_SRDCqp",
        "outputId": "5acdd2f8-d194-4447-db90-d129d7e884aa",
        "colab": {
          "base_uri": "https://localhost:8080/",
          "height": 493
        }
      },
      "source": [
        "for i in range(5):\n",
        "    k = test.sample(1).index[0]\n",
        "    print(\"Movie: \", test['title'][k]) \n",
        "    print(\"Actual genre: \",y_test[k])\n",
        "    print(\"Predicted tag: \", cnt_vectorizer.inverse_transform(prediction11[k])[0],\"\\n\")"
      ],
      "execution_count": 41,
      "outputs": [
        {
          "output_type": "stream",
          "text": [
            "Movie:  Jack the Giant Slayer\n",
            "Actual genre:  revenge, fantasy, romantic, humor\n",
            "Predicted tag:  ['absurd' 'action' 'avant garde' 'bleak' 'comedy' 'dark' 'entertaining'\n",
            " 'fantasy' 'good versus evil' 'horror' 'insanity' 'psychedelic'\n",
            " 'storytelling' 'violence'] \n",
            "\n",
            "Movie:  Annie\n",
            "Actual genre:  depressing\n",
            "Predicted tag:  ['clever' 'comedy' 'cute' 'dramatic' 'entertaining' 'fantasy' 'gothic'\n",
            " 'home movie' 'humor' 'intrigue' 'melodrama' 'psychedelic' 'romantic'\n",
            " 'sci-fi' 'storytelling'] \n",
            "\n",
            "Movie:  Bon appétit\n",
            "Actual genre:  romantic\n",
            "Predicted tag:  ['alternate reality' 'avant garde' 'fantasy' 'melodrama' 'philosophical'\n",
            " 'plot twist' 'pornographic' 'romantic' 'thought-provoking'] \n",
            "\n",
            "Movie:  Cet obscur objet du désir\n",
            "Actual genre:  whimsical, absurd, psychedelic, satire, romantic\n",
            "Predicted tag:  ['atmospheric' 'avant garde' 'bleak' 'cruelty' 'dark' 'depressing'\n",
            " 'entertaining' 'historical' 'humor' 'psychedelic' 'romantic' 'satire'\n",
            " 'storytelling' 'stupid' 'violence'] \n",
            "\n",
            "Movie:  Tekken 5\n",
            "Actual genre:  revenge\n",
            "Predicted tag:  ['absurd' 'blaxploitation' 'fantasy' 'good versus evil' 'revenge' 'sci-fi'\n",
            " 'violence'] \n",
            "\n"
          ],
          "name": "stdout"
        }
      ]
    },
    {
      "cell_type": "markdown",
      "metadata": {
        "colab_type": "text",
        "id": "-sO93loIDCqr"
      },
      "source": [
        "<h2> 3.4 OneVsRestClassifier + LogisticRegression:</h2>"
      ]
    },
    {
      "cell_type": "code",
      "metadata": {
        "colab_type": "code",
        "id": "Yuv0jqQjDCqs",
        "outputId": "cdb75477-8a0d-4c7d-8b9a-4ae308762041",
        "colab": {
          "base_uri": "https://localhost:8080/",
          "height": 187
        }
      },
      "source": [
        "lr = LogisticRegression(class_weight='balanced')\n",
        "\n",
        "clf = OneVsRestClassifier(lr)\n",
        "clf.fit(X_train_multilabel, y_train_multilabel)"
      ],
      "execution_count": 42,
      "outputs": [
        {
          "output_type": "execute_result",
          "data": {
            "text/plain": [
              "OneVsRestClassifier(estimator=LogisticRegression(C=1.0, class_weight='balanced',\n",
              "                                                 dual=False, fit_intercept=True,\n",
              "                                                 intercept_scaling=1,\n",
              "                                                 l1_ratio=None, max_iter=100,\n",
              "                                                 multi_class='auto',\n",
              "                                                 n_jobs=None, penalty='l2',\n",
              "                                                 random_state=None,\n",
              "                                                 solver='lbfgs', tol=0.0001,\n",
              "                                                 verbose=0, warm_start=False),\n",
              "                    n_jobs=None)"
            ]
          },
          "metadata": {
            "tags": []
          },
          "execution_count": 42
        }
      ]
    },
    {
      "cell_type": "code",
      "metadata": {
        "colab_type": "code",
        "id": "r5IpjIgRDCqu",
        "colab": {}
      },
      "source": [
        "prediction12 = clf.predict(X_test_multilabel)\n",
        "\n",
        "precision12 = precision_score(y_test_multilabel, prediction12, average='micro')\n",
        "\n",
        "recall12 = recall_score(y_test_multilabel, prediction12, average='micro')\n",
        "\n",
        "f1_score12 = 2*((precision12 * recall12)/(precision12 + recall12))\n",
        "\n",
        "print(\"precision12: {:.4f}, recall12: {:.4f}, F1-measure: {:.4f}\".format(precision12, recall12, f1_score12))"
      ],
      "execution_count": 0,
      "outputs": []
    },
    {
      "cell_type": "code",
      "metadata": {
        "colab_type": "code",
        "id": "JtzK_F9_DCqx",
        "outputId": "8765f85d-6234-445e-d40b-90b648264e0d",
        "colab": {
          "base_uri": "https://localhost:8080/",
          "height": 408
        }
      },
      "source": [
        "for i in range(5):\n",
        "    k = test.sample(1).index[0]\n",
        "    print(\"Movie: \", test['title'][k]) \n",
        "    print(\"Actual genre: \",y_test[k])\n",
        "    print(\"Predicted tag: \", cnt_vectorizer.inverse_transform(prediction12[k])[0],\"\\n\")"
      ],
      "execution_count": 46,
      "outputs": [
        {
          "output_type": "stream",
          "text": [
            "Movie:  Scooby-Doo Goes Hollywood\n",
            "Actual genre:  psychedelic\n",
            "Predicted tag:  ['absurd' 'comic' 'humor' 'psychedelic' 'satire'] \n",
            "\n",
            "Movie:  Force 10 from Navarone\n",
            "Actual genre:  psychedelic\n",
            "Predicted tag:  ['action' 'comedy' 'cult' 'humor' 'mystery' 'prank' 'sadist' 'suspenseful'\n",
            " 'violence'] \n",
            "\n",
            "Movie:  Long-Distance Princess\n",
            "Actual genre:  romantic\n",
            "Predicted tag:  ['prank' 'romantic' 'sentimental'] \n",
            "\n",
            "Movie:  Original Sin\n",
            "Actual genre:  suspenseful, boring, murder, violence, flashback\n",
            "Predicted tag:  ['atmospheric' 'bleak' 'flashback' 'humor' 'intrigue' 'murder'\n",
            " 'plot twist' 'romantic' 'tragedy' 'whimsical'] \n",
            "\n",
            "Movie:  Kaze no na wa amunejia\n",
            "Actual genre:  psychedelic, violence, romantic\n",
            "Predicted tag:  ['alternate reality' 'avant garde' 'cult' 'fantasy' 'gothic' 'insanity'\n",
            " 'psychedelic' 'sci-fi' 'violence'] \n",
            "\n"
          ],
          "name": "stdout"
        }
      ]
    },
    {
      "cell_type": "markdown",
      "metadata": {
        "colab_type": "text",
        "id": "j8kihBm_DCq1"
      },
      "source": [
        "<h1>4. TfidfVectorizer with (1 - 4 Grams):</h1>"
      ]
    },
    {
      "cell_type": "code",
      "metadata": {
        "colab_type": "code",
        "id": "lUlWmY0tDCq2",
        "outputId": "8a7bc2ce-acbd-4c4d-c384-0eaa517a5577",
        "colab": {
          "base_uri": "https://localhost:8080/",
          "height": 51
        }
      },
      "source": [
        "tf_vectorizer = TfidfVectorizer(min_df=0.09, tokenizer = lambda x: x.split(\" \"), ngram_range=(1, 4))\n",
        "\n",
        "X_train_multilabel = tf_vectorizer.fit_transform(X_train)\n",
        "X_test_multilabel = tf_vectorizer.transform(X_test)\n",
        "\n",
        "print(\"Dimensions of train data X:\",X_train_multilabel.shape, \"Y :\",y_train_multilabel.shape)\n",
        "print(\"Dimensions of test data X:\",X_test_multilabel.shape,\"Y:\",y_test_multilabel.shape)"
      ],
      "execution_count": 47,
      "outputs": [
        {
          "output_type": "stream",
          "text": [
            "Dimensions of train data X: (10989, 666) Y : (10989, 71)\n",
            "Dimensions of test data X: (2768, 666) Y: (2768, 71)\n"
          ],
          "name": "stdout"
        }
      ]
    },
    {
      "cell_type": "markdown",
      "metadata": {
        "colab_type": "text",
        "id": "1_W1FHeKDCq4"
      },
      "source": [
        "<H2> 4.1 OneVsRestClassifier + MultinomialNB :</H2>"
      ]
    },
    {
      "cell_type": "code",
      "metadata": {
        "colab_type": "code",
        "id": "MbdyJ3f2DCq4",
        "outputId": "03b3ad81-8990-479f-8750-84ddbd9d318e",
        "colab": {
          "base_uri": "https://localhost:8080/",
          "height": 68
        }
      },
      "source": [
        "mb = MultinomialNB(class_prior = [0.5, 0.5])\n",
        "\n",
        "clf = OneVsRestClassifier(mb)\n",
        "clf.fit(X_train_multilabel, y_train_multilabel)"
      ],
      "execution_count": 48,
      "outputs": [
        {
          "output_type": "execute_result",
          "data": {
            "text/plain": [
              "OneVsRestClassifier(estimator=MultinomialNB(alpha=1.0, class_prior=[0.5, 0.5],\n",
              "                                            fit_prior=True),\n",
              "                    n_jobs=None)"
            ]
          },
          "metadata": {
            "tags": []
          },
          "execution_count": 48
        }
      ]
    },
    {
      "cell_type": "code",
      "metadata": {
        "colab_type": "code",
        "id": "jTFjm6QPDCq6",
        "outputId": "8753bacc-1700-4248-c2c4-259dbe47fa1c",
        "colab": {
          "base_uri": "https://localhost:8080/",
          "height": 34
        }
      },
      "source": [
        "prediction13 = clf.predict(X_test_multilabel)\n",
        "\n",
        "precision13 = precision_score(y_test_multilabel, prediction13, average='micro')\n",
        "\n",
        "recall13 = recall_score(y_test_multilabel, prediction13, average='micro')\n",
        "\n",
        "f1_score13 = 2*((precision13 * recall13)/(precision13 + recall13))\n",
        "\n",
        "print(\"precision13: {:.4f}, recall13: {:.4f}, F1-measure: {:.4f}\".format(precision13, recall13, f1_score13))"
      ],
      "execution_count": 49,
      "outputs": [
        {
          "output_type": "stream",
          "text": [
            "precision13: 0.1170, recall13: 0.6448, F1-measure: 0.1980\n"
          ],
          "name": "stdout"
        }
      ]
    },
    {
      "cell_type": "code",
      "metadata": {
        "colab_type": "code",
        "id": "bJJjv5l2DCq8",
        "outputId": "e2fea7ba-8c71-4ef5-b271-3891a7dfb6e3",
        "colab": {
          "base_uri": "https://localhost:8080/",
          "height": 782
        }
      },
      "source": [
        "for i in range(5):\n",
        "    k = test.sample(1).index[0]\n",
        "    print(\"Movie: \", test['title'][k]) \n",
        "    print(\"Actual genre: \",y_test[k])\n",
        "    print(\"Predicted tag: \", cnt_vectorizer.inverse_transform(prediction13[k])[0],\"\\n\")"
      ],
      "execution_count": 50,
      "outputs": [
        {
          "output_type": "stream",
          "text": [
            "Movie:  Shottas\n",
            "Actual genre:  violence\n",
            "Predicted tag:  ['blaxploitation' 'comedy' 'cult' 'flashback' 'murder' 'neo noir'\n",
            " 'realism' 'revenge' 'sadist' 'suspenseful' 'tragedy' 'violence'] \n",
            "\n",
            "Movie:  Duplicity\n",
            "Actual genre:  violence, intrigue, romantic, flashback\n",
            "Predicted tag:  ['absurd' 'adult comedy' 'alternate reality' 'bleak' 'boring'\n",
            " 'claustrophobic' 'clever' 'comedy' 'cute' 'dark' 'depressing' 'dramatic'\n",
            " 'entertaining' 'feel-good' 'flashback' 'home movie' 'humor' 'inspiring'\n",
            " 'intrigue' 'mystery' 'neo noir' 'philosophical' 'plot twist' 'prank'\n",
            " 'psychological' 'queer' 'realism' 'romantic' 'satire' 'sentimental'\n",
            " 'storytelling' 'stupid' 'suicidal' 'suspenseful' 'thought-provoking'\n",
            " 'whimsical'] \n",
            "\n",
            "Movie:  Let Us Prey\n",
            "Actual genre:  violence, murder, flashback\n",
            "Predicted tag:  ['atmospheric' 'boring' 'claustrophobic' 'clever' 'comedy' 'cruelty'\n",
            " 'cult' 'dark' 'flashback' 'gothic' 'grindhouse film' 'haunting' 'horror'\n",
            " 'insanity' 'murder' 'mystery' 'neo noir' 'paranormal' 'plot twist'\n",
            " 'psychedelic' 'psychological' 'revenge' 'sadist' 'suspenseful' 'violence'] \n",
            "\n",
            "Movie:  Chow Hound\n",
            "Actual genre:  psychedelic\n",
            "Predicted tag:  ['absurd' 'adult comedy' 'allegory' 'alternate history'\n",
            " 'alternate reality' 'atmospheric' 'autobiographical' 'blaxploitation'\n",
            " 'bleak' 'boring' 'brainwashing' 'claustrophobic' 'clever' 'comedy'\n",
            " 'comic' 'cruelty' 'cult' 'cute' 'dark' 'depressing' 'dramatic'\n",
            " 'entertaining' 'feel-good' 'grindhouse film' 'haunting' 'home movie'\n",
            " 'horror' 'humor' 'insanity' 'mystery' 'non fiction' 'paranormal'\n",
            " 'philosophical' 'plot twist' 'prank' 'psychedelic' 'psychological'\n",
            " 'queer' 'sadist' 'satire' 'sentimental' 'storytelling' 'stupid'\n",
            " 'suicidal' 'suspenseful' 'thought-provoking' 'tragedy' 'whimsical'] \n",
            "\n",
            "Movie:  The Wicker Tree\n",
            "Actual genre:  comedy, satire\n",
            "Predicted tag:  ['absurd' 'adult comedy' 'allegory' 'alternate reality' 'atmospheric'\n",
            " 'bleak' 'boring' 'claustrophobic' 'clever' 'comedy' 'comic' 'cruelty'\n",
            " 'cult' 'cute' 'dark' 'depressing' 'dramatic' 'entertaining' 'fantasy'\n",
            " 'feel-good' 'flashback' 'gothic' 'grindhouse film' 'haunting' 'horror'\n",
            " 'humor' 'insanity' 'murder' 'mystery' 'paranormal' 'philosophical'\n",
            " 'plot twist' 'pornographic' 'prank' 'psychedelic' 'psychological' 'queer'\n",
            " 'sadist' 'sentimental' 'storytelling' 'stupid' 'suspenseful'\n",
            " 'thought-provoking' 'whimsical'] \n",
            "\n"
          ],
          "name": "stdout"
        }
      ]
    },
    {
      "cell_type": "markdown",
      "metadata": {
        "colab_type": "text",
        "id": "EEm7sOMIDCrB"
      },
      "source": [
        "<h2> 4.2 OneVsRestClassifier + SGDClassifier with LOG Loss :</h2>"
      ]
    },
    {
      "cell_type": "code",
      "metadata": {
        "colab_type": "code",
        "id": "i8hFdSjGDCrD",
        "outputId": "3ce5ff3b-6a14-4ace-bd8f-81628d7246fd",
        "colab": {
          "base_uri": "https://localhost:8080/",
          "height": 238
        }
      },
      "source": [
        "sgl = SGDClassifier(loss='log', class_weight='balanced')\n",
        "\n",
        "clf = OneVsRestClassifier(sgl)\n",
        "clf.fit(X_train_multilabel, y_train_multilabel)"
      ],
      "execution_count": 51,
      "outputs": [
        {
          "output_type": "execute_result",
          "data": {
            "text/plain": [
              "OneVsRestClassifier(estimator=SGDClassifier(alpha=0.0001, average=False,\n",
              "                                            class_weight='balanced',\n",
              "                                            early_stopping=False, epsilon=0.1,\n",
              "                                            eta0=0.0, fit_intercept=True,\n",
              "                                            l1_ratio=0.15,\n",
              "                                            learning_rate='optimal', loss='log',\n",
              "                                            max_iter=1000, n_iter_no_change=5,\n",
              "                                            n_jobs=None, penalty='l2',\n",
              "                                            power_t=0.5, random_state=None,\n",
              "                                            shuffle=True, tol=0.001,\n",
              "                                            validation_fraction=0.1, verbose=0,\n",
              "                                            warm_start=False),\n",
              "                    n_jobs=None)"
            ]
          },
          "metadata": {
            "tags": []
          },
          "execution_count": 51
        }
      ]
    },
    {
      "cell_type": "code",
      "metadata": {
        "colab_type": "code",
        "id": "RmVCDapEDCrF",
        "outputId": "7c4416b6-2fab-4539-e15b-f06a0220ff7e",
        "colab": {
          "base_uri": "https://localhost:8080/",
          "height": 34
        }
      },
      "source": [
        "prediction14 = clf.predict(X_test_multilabel)\n",
        "\n",
        "precision14 = precision_score(y_test_multilabel, prediction14, average='micro')\n",
        "\n",
        "recall14 = recall_score(y_test_multilabel, prediction14, average='micro')\n",
        "\n",
        "f1_score14 = 2*((precision14 * recall14)/(precision14 + recall14))\n",
        "\n",
        "print(\"precision14: {:.4f}, recall14: {:.4f}, F1-measure: {:.4f}\".format(precision14, recall14, f1_score14))"
      ],
      "execution_count": 52,
      "outputs": [
        {
          "output_type": "stream",
          "text": [
            "precision14: 0.1606, recall14: 0.5947, F1-measure: 0.2529\n"
          ],
          "name": "stdout"
        }
      ]
    },
    {
      "cell_type": "code",
      "metadata": {
        "colab_type": "code",
        "id": "a47_6ckUDCrL",
        "outputId": "ea836e26-cbc5-4857-ad3f-ff31b8f0895e",
        "colab": {
          "base_uri": "https://localhost:8080/",
          "height": 408
        }
      },
      "source": [
        "for i in range(5):\n",
        "    k = test.sample(1).index[0]\n",
        "    print(\"Movie: \", test['title'][k]) \n",
        "    print(\"Actual genre: \",y_test[k])\n",
        "    print(\"Predicted tag: \", cnt_vectorizer.inverse_transform(prediction14[k])[0],\"\\n\")"
      ],
      "execution_count": 53,
      "outputs": [
        {
          "output_type": "stream",
          "text": [
            "Movie:  2010\n",
            "Actual genre:  cult, boring\n",
            "Predicted tag:  ['alternate history' 'alternate reality' 'atmospheric' 'cult'\n",
            " 'psychedelic' 'sci-fi' 'sentimental' 'suspenseful'] \n",
            "\n",
            "Movie:  Revenge of the Zombies\n",
            "Actual genre:  revenge\n",
            "Predicted tag:  ['comedy' 'gothic' 'sci-fi'] \n",
            "\n",
            "Movie:  Largo Winch II\n",
            "Actual genre:  flashback\n",
            "Predicted tag:  ['absurd' 'action' 'bleak' 'comedy' 'entertaining' 'intrigue' 'murder'\n",
            " 'neo noir' 'revenge' 'sadist' 'satire' 'suspenseful' 'violence'] \n",
            "\n",
            "Movie:  Bolt\n",
            "Actual genre:  comedy, alternate reality, cute\n",
            "Predicted tag:  ['absurd' 'alternate reality' 'boring' 'comedy' 'comic' 'entertaining'\n",
            " 'humor' 'psychedelic' 'romantic' 'satire'] \n",
            "\n",
            "Movie:  The Sum of Us\n",
            "Actual genre:  flashback\n",
            "Predicted tag:  ['cute' 'intrigue' 'romantic' 'sentimental'] \n",
            "\n"
          ],
          "name": "stdout"
        }
      ]
    },
    {
      "cell_type": "markdown",
      "metadata": {
        "colab_type": "text",
        "id": "ZQFSV7cfDCrN"
      },
      "source": [
        "<h2> 4.3 OneVsRestClassifier + SGDClassifier with HINGE Loss : </h2>"
      ]
    },
    {
      "cell_type": "code",
      "metadata": {
        "colab_type": "code",
        "id": "2cWlmf_6DCrN",
        "outputId": "5a54769a-f80f-4a14-82a3-c5ba11e96634",
        "colab": {
          "base_uri": "https://localhost:8080/",
          "height": 238
        }
      },
      "source": [
        "sgh = SGDClassifier(loss='hinge', class_weight='balanced')\n",
        "\n",
        "clf = OneVsRestClassifier(sgh)\n",
        "clf.fit(X_train_multilabel, y_train_multilabel)"
      ],
      "execution_count": 54,
      "outputs": [
        {
          "output_type": "execute_result",
          "data": {
            "text/plain": [
              "OneVsRestClassifier(estimator=SGDClassifier(alpha=0.0001, average=False,\n",
              "                                            class_weight='balanced',\n",
              "                                            early_stopping=False, epsilon=0.1,\n",
              "                                            eta0=0.0, fit_intercept=True,\n",
              "                                            l1_ratio=0.15,\n",
              "                                            learning_rate='optimal',\n",
              "                                            loss='hinge', max_iter=1000,\n",
              "                                            n_iter_no_change=5, n_jobs=None,\n",
              "                                            penalty='l2', power_t=0.5,\n",
              "                                            random_state=None, shuffle=True,\n",
              "                                            tol=0.001, validation_fraction=0.1,\n",
              "                                            verbose=0, warm_start=False),\n",
              "                    n_jobs=None)"
            ]
          },
          "metadata": {
            "tags": []
          },
          "execution_count": 54
        }
      ]
    },
    {
      "cell_type": "code",
      "metadata": {
        "colab_type": "code",
        "id": "eu3J-6tbDCrR",
        "outputId": "87e6fb49-7f45-4c00-f3a1-75cca6077f5c",
        "colab": {
          "base_uri": "https://localhost:8080/",
          "height": 34
        }
      },
      "source": [
        "prediction15 = clf.predict(X_test_multilabel)\n",
        "\n",
        "precision15 = precision_score(y_test_multilabel, prediction15, average='micro')\n",
        "\n",
        "recall15 = recall_score(y_test_multilabel, prediction15, average='micro')\n",
        "\n",
        "f1_score15 = 2*((precision15 * recall15)/(precision15 + recall15))\n",
        "\n",
        "print(\"precision15: {:.4f}, recall15: {:.4f}, F1-measure: {:.4f}\".format(precision15, recall15, f1_score15))"
      ],
      "execution_count": 55,
      "outputs": [
        {
          "output_type": "stream",
          "text": [
            "precision15: 0.1556, recall15: 0.5869, F1-measure: 0.2460\n"
          ],
          "name": "stdout"
        }
      ]
    },
    {
      "cell_type": "code",
      "metadata": {
        "colab_type": "code",
        "id": "xLiyKSgxDCrT",
        "outputId": "3309483b-af1c-46fd-9ab8-6970be829f24",
        "colab": {
          "base_uri": "https://localhost:8080/",
          "height": 527
        }
      },
      "source": [
        "for i in range(5):\n",
        "    k = test.sample(1).index[0]\n",
        "    print(\"Movie: \", test['title'][k]) \n",
        "    print(\"Actual genre: \",y_test[k])\n",
        "    print(\"Predicted tag: \", cnt_vectorizer.inverse_transform(prediction15[k])[0],\"\\n\")"
      ],
      "execution_count": 56,
      "outputs": [
        {
          "output_type": "stream",
          "text": [
            "Movie:  Provoked\n",
            "Actual genre:  paranormal\n",
            "Predicted tag:  ['cruelty' 'historical' 'insanity' 'intrigue' 'melodrama' 'murder'\n",
            " 'psychological' 'revenge' 'sadist' 'satire'] \n",
            "\n",
            "Movie:  Independence Day\n",
            "Actual genre:  mystery, stupid, cult, humor, action, tragedy, suspenseful\n",
            "Predicted tag:  ['action' 'alternate history' 'alternate reality' 'atmospheric' 'comic'\n",
            " 'cult' 'dark' 'good versus evil' 'gothic' 'humor' 'mystery' 'paranormal'\n",
            " 'psychedelic' 'satire' 'sci-fi' 'suspenseful' 'tragedy' 'violence'] \n",
            "\n",
            "Movie:  Repentance\n",
            "Actual genre:  horror, murder\n",
            "Predicted tag:  ['allegory' 'flashback' 'historical' 'magical realism' 'psychedelic'\n",
            " 'sadist'] \n",
            "\n",
            "Movie:  Deceived\n",
            "Actual genre:  intrigue, neo noir\n",
            "Predicted tag:  ['absurd' 'action' 'allegory' 'atmospheric' 'boring' 'claustrophobic'\n",
            " 'comedy' 'depressing' 'dramatic' 'fantasy' 'flashback' 'gothic'\n",
            " 'haunting' 'horror' 'insanity' 'murder' 'mystery' 'paranormal'\n",
            " 'plot twist' 'psychedelic' 'revenge' 'suspenseful'] \n",
            "\n",
            "Movie:  The Texas Chainsaw Massacre 2\n",
            "Actual genre:  dark, comedy, gothic, murder, boring, suspenseful, cult, horror, violence, insanity, absurd, humor, satire, psychedelic, revenge, sadist, prank\n",
            "Predicted tag:  ['absurd' 'boring' 'clever' 'comedy' 'cult' 'dark' 'flashback' 'gothic'\n",
            " 'grindhouse film' 'horror' 'humor' 'insanity' 'murder' 'mystery'\n",
            " 'paranormal' 'psychedelic' 'revenge' 'sadist' 'satire' 'suspenseful'\n",
            " 'tragedy' 'violence'] \n",
            "\n"
          ],
          "name": "stdout"
        }
      ]
    },
    {
      "cell_type": "markdown",
      "metadata": {
        "colab_type": "text",
        "id": "ledBrICiDCrX"
      },
      "source": [
        "<h2> 4.4 OneVsRestClassifier + LogisticRegression:</h2>"
      ]
    },
    {
      "cell_type": "code",
      "metadata": {
        "colab_type": "code",
        "id": "QNbViIV5DCrY",
        "outputId": "9220c780-022c-4efb-f326-124039c282a7",
        "colab": {
          "base_uri": "https://localhost:8080/",
          "height": 187
        }
      },
      "source": [
        "lr = LogisticRegression(class_weight='balanced')\n",
        "\n",
        "clf = OneVsRestClassifier(lr)\n",
        "clf.fit(X_train_multilabel, y_train_multilabel)"
      ],
      "execution_count": 57,
      "outputs": [
        {
          "output_type": "execute_result",
          "data": {
            "text/plain": [
              "OneVsRestClassifier(estimator=LogisticRegression(C=1.0, class_weight='balanced',\n",
              "                                                 dual=False, fit_intercept=True,\n",
              "                                                 intercept_scaling=1,\n",
              "                                                 l1_ratio=None, max_iter=100,\n",
              "                                                 multi_class='auto',\n",
              "                                                 n_jobs=None, penalty='l2',\n",
              "                                                 random_state=None,\n",
              "                                                 solver='lbfgs', tol=0.0001,\n",
              "                                                 verbose=0, warm_start=False),\n",
              "                    n_jobs=None)"
            ]
          },
          "metadata": {
            "tags": []
          },
          "execution_count": 57
        }
      ]
    },
    {
      "cell_type": "code",
      "metadata": {
        "colab_type": "code",
        "id": "QkWjv0t1DCrb",
        "colab": {
          "base_uri": "https://localhost:8080/",
          "height": 34
        },
        "outputId": "679e4e8b-addc-43aa-ea54-d77eb0f0eece"
      },
      "source": [
        "prediction16 = clf.predict(X_test_multilabel)\n",
        "\n",
        "precision16 = precision_score(y_test_multilabel, prediction16, average='micro')\n",
        "\n",
        "recall16 = recall_score(y_test_multilabel, prediction16, average='micro')\n",
        "\n",
        "f1_score16 = 2*((precision16 * recall16)/(precision16 + recall16))\n",
        "\n",
        "print(\"precision16: {:.4f}, recall16: {:.4f}, F1-measure: {:.4f}\".format(precision16, recall16, f1_score16))"
      ],
      "execution_count": 58,
      "outputs": [
        {
          "output_type": "stream",
          "text": [
            "precision16: 0.1673, recall16: 0.5839, F1-measure: 0.2601\n"
          ],
          "name": "stdout"
        }
      ]
    },
    {
      "cell_type": "code",
      "metadata": {
        "colab_type": "code",
        "id": "gPKu18VODCrf",
        "colab": {
          "base_uri": "https://localhost:8080/",
          "height": 425
        },
        "outputId": "a3113594-13be-4ff9-ccb8-757d8727d4f4"
      },
      "source": [
        "for i in range(5):\n",
        "    k = test.sample(1).index[0]\n",
        "    print(\"Movie: \", test['title'][k]) \n",
        "    print(\"Actual genre: \",y_test[k])\n",
        "    print(\"Predicted tag: \", cnt_vectorizer.inverse_transform(prediction16[k])[0],\"\\n\")"
      ],
      "execution_count": 59,
      "outputs": [
        {
          "output_type": "stream",
          "text": [
            "Movie:  The King of Comedy\n",
            "Actual genre:  cult, humor, psychedelic, psychological\n",
            "Predicted tag:  ['alternate history' 'alternate reality' 'boring' 'comedy' 'cult'\n",
            " 'depressing' 'flashback' 'humor' 'neo noir' 'philosophical' 'queer'\n",
            " 'revenge' 'romantic' 'suspenseful'] \n",
            "\n",
            "Movie:  The Family That Preys\n",
            "Actual genre:  cruelty\n",
            "Predicted tag:  ['boring' 'comedy' 'dark' 'depressing' 'dramatic' 'flashback' 'home movie'\n",
            " 'humor' 'intrigue' 'neo noir' 'satire' 'storytelling'] \n",
            "\n",
            "Movie:  Real Life\n",
            "Actual genre:  satire\n",
            "Predicted tag:  ['autobiographical' 'bleak' 'comedy' 'cruelty' 'cult' 'historical fiction'\n",
            " 'home movie' 'psychedelic' 'psychological' 'satire'] \n",
            "\n",
            "Movie:  Transylvania 6-5000\n",
            "Actual genre:  humor\n",
            "Predicted tag:  ['comedy' 'humor' 'inspiring' 'melodrama' 'murder' 'tragedy'] \n",
            "\n",
            "Movie:  The Gazebo\n",
            "Actual genre:  suspenseful, murder\n",
            "Predicted tag:  ['comedy' 'murder' 'neo noir' 'plot twist' 'sadist' 'suspenseful'] \n",
            "\n"
          ],
          "name": "stdout"
        }
      ]
    },
    {
      "cell_type": "markdown",
      "metadata": {
        "colab_type": "text",
        "id": "TL9oONdSDCri"
      },
      "source": [
        "<h1> Conclusion: </h1>"
      ]
    },
    {
      "cell_type": "code",
      "metadata": {
        "colab_type": "code",
        "id": "bLYF9nL-DCri",
        "colab": {
          "base_uri": "https://localhost:8080/",
          "height": 459
        },
        "outputId": "c46c1532-eb52-49ea-ac0f-107240a133fc"
      },
      "source": [
        "from prettytable import PrettyTable\n",
        "\n",
        "tabel = PrettyTable()\n",
        "\n",
        "tabel.field_names=['Model','Vectorizer','ngrams','Precision','recall','f1_score']\n",
        "\n",
        "\n",
        "\n",
        "tabel.add_row(['MultinomialNB', 'TfidfVectorizer', '(1, 1)', round(precision1, 3),round(recall1, 3), round(f1_score1, 3)])\n",
        "\n",
        "tabel.add_row(['SGDClassifier(log)', 'TfidfVectorizer', '(1, 1)', round(precision2, 3), round(recall2, 3), round(f1_score2, 3)])\n",
        "\n",
        "tabel.add_row(['SGDClassifier(hinge)','TfidfVectorizer','(1, 1)' ,round(precision3, 3),  round(recall3, 3), round(f1_score3, 3)])\n",
        "\n",
        "tabel.add_row(['LogisticRegression','TfidfVectorizer','(1, 1)', round(precision4, 3), round(recall4, 3), round(f1_score4, 3)])\n",
        "\n",
        "tabel.add_row(['','','','','',''])\n",
        "tabel.add_row(['','','','','',''])\n",
        "\n",
        "\n",
        "tabel.add_row(['MultinomialNB', 'TfidfVectorizer', '(1, 2)', round(precision5, 3), round(recall5, 3),  round(f1_score5, 3)])\n",
        "\n",
        "tabel.add_row(['SGDClassifier(log)', 'TfidfVectorizer', '(1, 2)', round(precision6, 3),  round(recall6, 3),  round(f1_score6, 3)])\n",
        "\n",
        "tabel.add_row(['SGDClassifier(hinge)','TfidfVectorizer','(1, 2)', round(precision7, 3),  round(recall7, 3),  round(f1_score7, 3)])\n",
        "\n",
        "tabel.add_row(['LogisticRegression','TfidfVectorizer','(1, 2)', round(precision8, 3),  round(recall8, 3),  round(f1_score8, 3)])\n",
        "\n",
        "tabel.add_row(['','','','','',''])\n",
        "tabel.add_row(['','','','','',''])\n",
        "\n",
        "\n",
        "tabel.add_row(['MultinomialNB', 'TfidfVectorizer', '(1, 3)', round(precision9, 3),  round(recall9, 3), round(f1_score9, 3)])\n",
        "\n",
        "tabel.add_row(['SGDClassifier(log)', 'TfidfVectorizer', '(1, 3)', round(precision10, 3),  round(recall10, 3), round(f1_score10, 3)])\n",
        "\n",
        "tabel.add_row(['SGDClassifier(hinge)','TfidfVectorizer','(1, 3)', round(precision11, 3),  round(recall11, 3), round(f1_score11, 3)])\n",
        "\n",
        "tabel.add_row(['LogisticRegression','TfidfVectorizer','(1, 3)', round(precision12, 3),  round(recall12, 3), round(f1_score12, 3)])\n",
        "\n",
        "tabel.add_row(['','','','','',''])\n",
        "tabel.add_row(['','','','','',''])\n",
        "\n",
        "tabel.add_row(['MultinomialNB', 'TfidfVectorizer', '(1, 4)', round(precision13, 3), round(recall13, 3), round(f1_score13, 3)])\n",
        "\n",
        "tabel.add_row(['SGDClassifier(log)', 'TfidfVectorizer', '(1, 4)', round(precision14, 3), round(recall14, 3), round(f1_score14, 3)])\n",
        "\n",
        "tabel.add_row(['SGDClassifier(hinge)','TfidfVectorizer','(1, 4)', round(precision15, 3), round(recall15, 3), round(f1_score15, 3)])\n",
        "\n",
        "tabel.add_row(['LogisticRegression','TfidfVectorizer','(1, 4)', round(precision16, 3),  round(recall16, 3),  round(f1_score16, 3)])\n",
        "\n",
        "\n",
        "\n",
        "print(tabel)"
      ],
      "execution_count": 60,
      "outputs": [
        {
          "output_type": "stream",
          "text": [
            "+----------------------+-----------------+--------+-----------+--------+----------+\n",
            "|        Model         |    Vectorizer   | ngrams | Precision | recall | f1_score |\n",
            "+----------------------+-----------------+--------+-----------+--------+----------+\n",
            "|    MultinomialNB     | TfidfVectorizer | (1, 1) |   0.116   | 0.646  |  0.197   |\n",
            "|  SGDClassifier(log)  | TfidfVectorizer | (1, 1) |    0.16   | 0.587  |  0.251   |\n",
            "| SGDClassifier(hinge) | TfidfVectorizer | (1, 1) |   0.151   | 0.587  |  0.241   |\n",
            "|  LogisticRegression  | TfidfVectorizer | (1, 1) |   0.167   | 0.584  |  0.259   |\n",
            "|                      |                 |        |           |        |          |\n",
            "|                      |                 |        |           |        |          |\n",
            "|    MultinomialNB     | TfidfVectorizer | (1, 2) |   0.117   | 0.645  |  0.198   |\n",
            "|  SGDClassifier(log)  | TfidfVectorizer | (1, 2) |   0.158   | 0.583  |  0.249   |\n",
            "| SGDClassifier(hinge) | TfidfVectorizer | (1, 2) |   0.155   |  0.58  |  0.245   |\n",
            "|  LogisticRegression  | TfidfVectorizer | (1, 2) |   0.167   | 0.584  |   0.26   |\n",
            "|                      |                 |        |           |        |          |\n",
            "|                      |                 |        |           |        |          |\n",
            "|    MultinomialNB     | TfidfVectorizer | (1, 3) |   0.117   | 0.645  |  0.198   |\n",
            "|  SGDClassifier(log)  | TfidfVectorizer | (1, 3) |   0.155   | 0.573  |  0.244   |\n",
            "| SGDClassifier(hinge) | TfidfVectorizer | (1, 3) |   0.157   | 0.578  |  0.246   |\n",
            "|  LogisticRegression  | TfidfVectorizer | (1, 3) |   0.167   | 0.584  |   0.26   |\n",
            "|                      |                 |        |           |        |          |\n",
            "|                      |                 |        |           |        |          |\n",
            "|    MultinomialNB     | TfidfVectorizer | (1, 4) |   0.117   | 0.645  |  0.198   |\n",
            "|  SGDClassifier(log)  | TfidfVectorizer | (1, 4) |   0.161   | 0.595  |  0.253   |\n",
            "| SGDClassifier(hinge) | TfidfVectorizer | (1, 4) |   0.156   | 0.587  |  0.246   |\n",
            "|  LogisticRegression  | TfidfVectorizer | (1, 4) |   0.167   | 0.584  |   0.26   |\n",
            "+----------------------+-----------------+--------+-----------+--------+----------+\n"
          ],
          "name": "stdout"
        }
      ]
    },
    {
      "cell_type": "markdown",
      "metadata": {
        "colab_type": "text",
        "id": "FD7mETO2neaC"
      },
      "source": [
        "<h1>5. Word2Vec</h1>"
      ]
    },
    {
      "cell_type": "code",
      "metadata": {
        "colab_type": "code",
        "id": "kHchBsAgneaD",
        "outputId": "50998e81-22c9-4880-cbe8-03ddd66993b7",
        "colab": {
          "base_uri": "https://localhost:8080/",
          "height": 34
        }
      },
      "source": [
        "X_train_new = []\n",
        "\n",
        "for i in tqdm(range(len(list(X_train)))):\n",
        "    X_train_new.append(X_train[i].split(\" \"))"
      ],
      "execution_count": 61,
      "outputs": [
        {
          "output_type": "stream",
          "text": [
            "100%|██████████| 10989/10989 [00:00<00:00, 24708.03it/s]\n"
          ],
          "name": "stderr"
        }
      ]
    },
    {
      "cell_type": "code",
      "metadata": {
        "id": "MiM2HyBj5Zax",
        "colab_type": "code",
        "colab": {}
      },
      "source": [
        "with open('/content/drive/My Drive/ML/glove.6B.300d.pkl', 'rb') as f:\n",
        "    new_model = pickle.load(f)\n",
        "    words =  set(new_model.keys())"
      ],
      "execution_count": 0,
      "outputs": []
    },
    {
      "cell_type": "code",
      "metadata": {
        "id": "bcSFn9dHD7FH",
        "colab_type": "code",
        "colab": {}
      },
      "source": [
        ""
      ],
      "execution_count": 0,
      "outputs": []
    },
    {
      "cell_type": "code",
      "metadata": {
        "colab_type": "code",
        "id": "uPjE27RGneaL",
        "outputId": "b317e69e-3575-47eb-f8fa-2646c72dba49",
        "colab": {
          "base_uri": "https://localhost:8080/",
          "height": 34
        }
      },
      "source": [
        "X_train_multilabel = []; # the avg-w2v for each sentence/review is stored in this list\n",
        "for sentence in tqdm(X_train.values): # for each review/sentence\n",
        "    vector = np.zeros(300) # as word vectors are of zero length\n",
        "    cnt_words =0; # num of words with a valid vector in the sentence/review\n",
        "    for word in sentence.split():\n",
        "        if word in words:\n",
        "            vector += new_model[word]\n",
        "            cnt_words += 1\n",
        "    if cnt_words != 0:\n",
        "        vector /= cnt_words\n",
        "    X_train_multilabel.append(vector)"
      ],
      "execution_count": 63,
      "outputs": [
        {
          "output_type": "stream",
          "text": [
            "100%|██████████| 10989/10989 [00:07<00:00, 1569.01it/s]\n"
          ],
          "name": "stderr"
        }
      ]
    },
    {
      "cell_type": "code",
      "metadata": {
        "colab_type": "code",
        "id": "3LElplKSneaN",
        "outputId": "cd202d5f-9c55-4ec0-e3eb-99391522bec5",
        "colab": {
          "base_uri": "https://localhost:8080/",
          "height": 34
        }
      },
      "source": [
        "X_test_multilabel = []; # the avg-w2v for each sentence/review is stored in this list\n",
        "for sentence in tqdm(X_test.values): # for each review/sentence\n",
        "    vector = np.zeros(300) # as word vectors are of zero length\n",
        "    cnt_words =0; # num of words with a valid vector in the sentence/review\n",
        "    for word in sentence.split():\n",
        "        if word in words:\n",
        "            vector += new_model[word]\n",
        "            cnt_words += 1\n",
        "    if cnt_words != 0:\n",
        "        vector /= cnt_words\n",
        "    X_test_multilabel.append(vector)"
      ],
      "execution_count": 64,
      "outputs": [
        {
          "output_type": "stream",
          "text": [
            "100%|██████████| 2768/2768 [00:01<00:00, 1606.91it/s]\n"
          ],
          "name": "stderr"
        }
      ]
    },
    {
      "cell_type": "markdown",
      "metadata": {
        "colab_type": "text",
        "id": "42x_61umneaR"
      },
      "source": [
        "<H2> 5.1 OneVsRestClassifier + SGDClassifier with LOG Loss :</H2>"
      ]
    },
    {
      "cell_type": "code",
      "metadata": {
        "colab_type": "code",
        "id": "rOdod1QwneaR",
        "outputId": "1eb1e3d4-e3a5-474d-dfa0-7fefe57584d6",
        "colab": {
          "base_uri": "https://localhost:8080/",
          "height": 238
        }
      },
      "source": [
        "sgl = SGDClassifier(loss='log', class_weight='balanced')\n",
        "\n",
        "clf = OneVsRestClassifier(sgl)\n",
        "clf.fit(X_train_multilabel, y_train_multilabel)"
      ],
      "execution_count": 65,
      "outputs": [
        {
          "output_type": "execute_result",
          "data": {
            "text/plain": [
              "OneVsRestClassifier(estimator=SGDClassifier(alpha=0.0001, average=False,\n",
              "                                            class_weight='balanced',\n",
              "                                            early_stopping=False, epsilon=0.1,\n",
              "                                            eta0=0.0, fit_intercept=True,\n",
              "                                            l1_ratio=0.15,\n",
              "                                            learning_rate='optimal', loss='log',\n",
              "                                            max_iter=1000, n_iter_no_change=5,\n",
              "                                            n_jobs=None, penalty='l2',\n",
              "                                            power_t=0.5, random_state=None,\n",
              "                                            shuffle=True, tol=0.001,\n",
              "                                            validation_fraction=0.1, verbose=0,\n",
              "                                            warm_start=False),\n",
              "                    n_jobs=None)"
            ]
          },
          "metadata": {
            "tags": []
          },
          "execution_count": 65
        }
      ]
    },
    {
      "cell_type": "code",
      "metadata": {
        "colab_type": "code",
        "id": "-bBpSSF0neaT",
        "outputId": "338081d6-08ca-4faa-8ca6-8134f2a3c560",
        "colab": {
          "base_uri": "https://localhost:8080/",
          "height": 34
        }
      },
      "source": [
        "prediction17 = clf.predict(X_test_multilabel)\n",
        "\n",
        "precision17 = precision_score(y_test_multilabel, prediction17, average='micro')\n",
        "\n",
        "recall17 = recall_score(y_test_multilabel, prediction17, average='micro')\n",
        "\n",
        "f1_score17 = 2*((precision17 * recall17)/(precision17 + recall17))\n",
        "\n",
        "print(\"precision17: {:.4f}, recall17: {:.4f}, F1-measure: {:.4f}\".format(precision17, recall17, f1_score17))"
      ],
      "execution_count": 66,
      "outputs": [
        {
          "output_type": "stream",
          "text": [
            "precision17: 0.1169, recall17: 0.5367, F1-measure: 0.1920\n"
          ],
          "name": "stdout"
        }
      ]
    },
    {
      "cell_type": "code",
      "metadata": {
        "colab_type": "code",
        "id": "v4t1KcbqneaV",
        "outputId": "72b17001-9468-43b9-b96f-6d1e8630a092",
        "colab": {
          "base_uri": "https://localhost:8080/",
          "height": 595
        }
      },
      "source": [
        "for i in range(5):\n",
        "    k = test.sample(1).index[0]\n",
        "    print(\"Movie: \", test['title'][k]) \n",
        "    print(\"Actual genre: \",y_test[k])\n",
        "    print(\"Predicted tag: \", cnt_vectorizer.inverse_transform(prediction17[k])[0],\"\\n\")"
      ],
      "execution_count": 67,
      "outputs": [
        {
          "output_type": "stream",
          "text": [
            "Movie:  Sink the Bismarck!\n",
            "Actual genre:  romantic, historical\n",
            "Predicted tag:  ['action' 'alternate history' 'alternate reality' 'anti war'\n",
            " 'claustrophobic' 'dramatic' 'historical' 'historical fiction' 'intrigue'\n",
            " 'melodrama' 'sci-fi' 'suspenseful' 'violence'] \n",
            "\n",
            "Movie:  Before I Self Destruct\n",
            "Actual genre:  violence\n",
            "Predicted tag:  ['bleak' 'clever' 'comedy' 'cute' 'depressing' 'dramatic' 'home movie'\n",
            " 'intrigue' 'melodrama' 'neo noir' 'plot twist' 'pornographic' 'romantic'\n",
            " 'sentimental' 'storytelling' 'tragedy'] \n",
            "\n",
            "Movie:  The Dark Knight Rises\n",
            "Actual genre:  dark, suspenseful, neo noir, murder, fantasy, cult, violence, atmospheric, flashback, good versus evil, plot twist, psychedelic, revenge\n",
            "Predicted tag:  ['action' 'atmospheric' 'bleak' 'brainwashing' 'claustrophobic' 'clever'\n",
            " 'comedy' 'cult' 'dark' 'good versus evil' 'gothic' 'grindhouse film'\n",
            " 'horror' 'humor' 'insanity' 'murder' 'mystery' 'neo noir' 'plot twist'\n",
            " 'realism' 'revenge' 'sadist' 'stupid' 'suspenseful' 'thought-provoking'\n",
            " 'violence'] \n",
            "\n",
            "Movie:  The Fortune Cookie\n",
            "Actual genre:  satire\n",
            "Predicted tag:  ['clever' 'comedy' 'depressing' 'grindhouse film' 'historical' 'horror'\n",
            " 'humor' 'inspiring' 'intrigue' 'mystery' 'neo noir' 'plot twist' 'prank'\n",
            " 'sentimental' 'suspenseful' 'thought-provoking'] \n",
            "\n",
            "Movie:  Candyman\n",
            "Actual genre:  horror, revenge, cult, gothic, violence\n",
            "Predicted tag:  ['allegory' 'atmospheric' 'comedy' 'cruelty' 'dark' 'depressing' 'fantasy'\n",
            " 'flashback' 'gothic' 'grindhouse film' 'haunting' 'horror' 'insanity'\n",
            " 'murder' 'mystery' 'paranormal' 'plot twist' 'psychological' 'realism'\n",
            " 'sadist' 'sentimental' 'suspenseful' 'thought-provoking' 'tragedy'\n",
            " 'violence'] \n",
            "\n"
          ],
          "name": "stdout"
        }
      ]
    },
    {
      "cell_type": "markdown",
      "metadata": {
        "colab_type": "text",
        "id": "6zZOZxfzneaX"
      },
      "source": [
        "<h2> 5.2 OneVsRestClassifier + SGDClassifier with HINGE Loss : </h2>"
      ]
    },
    {
      "cell_type": "code",
      "metadata": {
        "colab_type": "code",
        "id": "J9Vpw0xVneaX",
        "outputId": "539f1f5f-f741-427b-879f-5b468f3c13d6",
        "colab": {
          "base_uri": "https://localhost:8080/",
          "height": 238
        }
      },
      "source": [
        "sgh = SGDClassifier(loss='hinge', class_weight='balanced')\n",
        "\n",
        "clf = OneVsRestClassifier(sgh)\n",
        "clf.fit(X_train_multilabel, y_train_multilabel)"
      ],
      "execution_count": 68,
      "outputs": [
        {
          "output_type": "execute_result",
          "data": {
            "text/plain": [
              "OneVsRestClassifier(estimator=SGDClassifier(alpha=0.0001, average=False,\n",
              "                                            class_weight='balanced',\n",
              "                                            early_stopping=False, epsilon=0.1,\n",
              "                                            eta0=0.0, fit_intercept=True,\n",
              "                                            l1_ratio=0.15,\n",
              "                                            learning_rate='optimal',\n",
              "                                            loss='hinge', max_iter=1000,\n",
              "                                            n_iter_no_change=5, n_jobs=None,\n",
              "                                            penalty='l2', power_t=0.5,\n",
              "                                            random_state=None, shuffle=True,\n",
              "                                            tol=0.001, validation_fraction=0.1,\n",
              "                                            verbose=0, warm_start=False),\n",
              "                    n_jobs=None)"
            ]
          },
          "metadata": {
            "tags": []
          },
          "execution_count": 68
        }
      ]
    },
    {
      "cell_type": "code",
      "metadata": {
        "colab_type": "code",
        "id": "abqpO_6gneaZ",
        "outputId": "2eea1fe5-02d6-4c3a-9ce3-53a1c2bfe548",
        "colab": {
          "base_uri": "https://localhost:8080/",
          "height": 34
        }
      },
      "source": [
        "prediction18 = clf.predict(X_test_multilabel)\n",
        "\n",
        "precision18 = precision_score(y_test_multilabel, prediction18, average='micro')\n",
        "\n",
        "recall18 = recall_score(y_test_multilabel, prediction18, average='micro')\n",
        "\n",
        "f1_score18 = 2*((precision18 * recall18)/(precision18 + recall18))\n",
        "\n",
        "print(\"precision18: {:.4f}, recall18: {:.4f}, F1-measure: {:.4f}\".format(precision18, recall18, f1_score18))"
      ],
      "execution_count": 69,
      "outputs": [
        {
          "output_type": "stream",
          "text": [
            "precision18: 0.0919, recall18: 0.5825, F1-measure: 0.1588\n"
          ],
          "name": "stdout"
        }
      ]
    },
    {
      "cell_type": "code",
      "metadata": {
        "colab_type": "code",
        "id": "gus5nGHTneab",
        "outputId": "09fdf9b6-15e6-480b-cfa6-11a64528e807",
        "colab": {
          "base_uri": "https://localhost:8080/",
          "height": 663
        }
      },
      "source": [
        "for i in range(5):\n",
        "    k = test.sample(1).index[0]\n",
        "    print(\"Movie: \", test['title'][k]) \n",
        "    print(\"Actual genre: \",y_test[k])\n",
        "    print(\"Predicted tag: \", cnt_vectorizer.inverse_transform(prediction18[k])[0],\"\\n\")"
      ],
      "execution_count": 70,
      "outputs": [
        {
          "output_type": "stream",
          "text": [
            "Movie:  La cérémonie\n",
            "Actual genre:  pornographic, sadist\n",
            "Predicted tag:  ['absurd' 'alternate history' 'atmospheric' 'autobiographical'\n",
            " 'avant garde' 'bleak' 'brainwashing' 'claustrophobic' 'clever' 'comedy'\n",
            " 'cult' 'cute' 'depressing' 'home movie' 'murder' 'mystery' 'neo noir'\n",
            " 'sadist' 'satire' 'storytelling' 'stupid'] \n",
            "\n",
            "Movie:  Western Union\n",
            "Actual genre:  revenge, romantic\n",
            "Predicted tag:  ['avant garde' 'depressing' 'historical' 'historical fiction' 'sadist'\n",
            " 'violence' 'western'] \n",
            "\n",
            "Movie:  Trade\n",
            "Actual genre:  cruelty, murder, violence, flashback, romantic, revenge\n",
            "Predicted tag:  ['allegory' 'atmospheric' 'avant garde' 'bleak' 'brainwashing'\n",
            " 'claustrophobic' 'comedy' 'comic' 'depressing' 'dramatic' 'entertaining'\n",
            " 'fantasy' 'flashback' 'gothic' 'haunting' 'home movie' 'insanity'\n",
            " 'murder' 'mystery' 'neo noir' 'paranormal' 'plot twist' 'psychological'\n",
            " 'realism' 'sadist' 'storytelling' 'stupid' 'suicidal' 'suspenseful'\n",
            " 'thought-provoking' 'violence'] \n",
            "\n",
            "Movie:  The Boy Who Could Fly\n",
            "Actual genre:  inspiring, home movie\n",
            "Predicted tag:  ['avant garde' 'bleak' 'clever' 'comedy' 'cute' 'depressing'\n",
            " 'entertaining' 'fantasy' 'feel-good' 'haunting' 'insanity' 'mystery'\n",
            " 'psychological' 'realism' 'sentimental' 'stupid' 'suicidal'\n",
            " 'thought-provoking'] \n",
            "\n",
            "Movie:  La casa muda\n",
            "Actual genre:  plot twist, revenge\n",
            "Predicted tag:  ['alternate history' 'alternate reality' 'atmospheric' 'autobiographical'\n",
            " 'avant garde' 'bleak' 'boring' 'brainwashing' 'claustrophobic' 'clever'\n",
            " 'comic' 'cute' 'dark' 'depressing' 'dramatic' 'entertaining' 'fantasy'\n",
            " 'flashback' 'gothic' 'haunting' 'home movie' 'horror' 'insanity'\n",
            " 'magical realism' 'mystery' 'paranormal' 'plot twist' 'psychedelic'\n",
            " 'psychological' 'realism' 'sentimental' 'storytelling' 'stupid'\n",
            " 'suspenseful' 'thought-provoking' 'whimsical'] \n",
            "\n"
          ],
          "name": "stdout"
        }
      ]
    },
    {
      "cell_type": "markdown",
      "metadata": {
        "colab_type": "text",
        "id": "6nd0BkwVnead"
      },
      "source": [
        "<h2> 5.3 OneVsRestClassifier + LogisticRegression:</h2>"
      ]
    },
    {
      "cell_type": "code",
      "metadata": {
        "colab_type": "code",
        "id": "ofetdopdnead",
        "outputId": "8670d9d3-b80e-47aa-9f41-30e998755ac2",
        "colab": {
          "base_uri": "https://localhost:8080/",
          "height": 187
        }
      },
      "source": [
        "lr = LogisticRegression(class_weight='balanced')\n",
        "\n",
        "clf = OneVsRestClassifier(lr)\n",
        "clf.fit(X_train_multilabel, y_train_multilabel)"
      ],
      "execution_count": 71,
      "outputs": [
        {
          "output_type": "execute_result",
          "data": {
            "text/plain": [
              "OneVsRestClassifier(estimator=LogisticRegression(C=1.0, class_weight='balanced',\n",
              "                                                 dual=False, fit_intercept=True,\n",
              "                                                 intercept_scaling=1,\n",
              "                                                 l1_ratio=None, max_iter=100,\n",
              "                                                 multi_class='auto',\n",
              "                                                 n_jobs=None, penalty='l2',\n",
              "                                                 random_state=None,\n",
              "                                                 solver='lbfgs', tol=0.0001,\n",
              "                                                 verbose=0, warm_start=False),\n",
              "                    n_jobs=None)"
            ]
          },
          "metadata": {
            "tags": []
          },
          "execution_count": 71
        }
      ]
    },
    {
      "cell_type": "code",
      "metadata": {
        "colab_type": "code",
        "id": "zjOVPAEKneae",
        "outputId": "28d0cede-d607-4c68-c985-a2f655500ad1",
        "colab": {
          "base_uri": "https://localhost:8080/",
          "height": 34
        }
      },
      "source": [
        "prediction19 = clf.predict(X_test_multilabel)\n",
        "\n",
        "precision19 = precision_score(y_test_multilabel, prediction19, average='micro')\n",
        "\n",
        "recall19 = recall_score(y_test_multilabel, prediction19, average='micro')\n",
        "\n",
        "f1_score19 = 2*((precision19 * recall19)/(precision19 + recall19))\n",
        "\n",
        "print(\"precision19: {:.4f}, recall19: {:.4f}, F1-measure: {:.4f}\".format(precision19, recall19, f1_score19))"
      ],
      "execution_count": 72,
      "outputs": [
        {
          "output_type": "stream",
          "text": [
            "precision19: 0.1286, recall19: 0.6295, F1-measure: 0.2135\n"
          ],
          "name": "stdout"
        }
      ]
    },
    {
      "cell_type": "code",
      "metadata": {
        "colab_type": "code",
        "id": "1QytHIpWneag",
        "outputId": "07d13f85-530d-41c4-b93e-b1c9144995c2",
        "colab": {
          "base_uri": "https://localhost:8080/",
          "height": 595
        }
      },
      "source": [
        "for i in range(5):\n",
        "    k = test.sample(1).index[0]\n",
        "    print(\"Movie: \", test['title'][k]) \n",
        "    print(\"Actual genre: \",y_test[k])\n",
        "    print(\"Predicted tag: \", cnt_vectorizer.inverse_transform(prediction19[k])[0],\"\\n\")"
      ],
      "execution_count": 73,
      "outputs": [
        {
          "output_type": "stream",
          "text": [
            "Movie:  Ferdinand the Bull\n",
            "Actual genre:  psychedelic\n",
            "Predicted tag:  ['atmospheric' 'autobiographical' 'avant garde' 'bleak' 'comic' 'dramatic'\n",
            " 'fantasy' 'feel-good' 'good versus evil' 'gothic' 'historical'\n",
            " 'historical fiction' 'home movie' 'horror' 'inspiring' 'magical realism'\n",
            " 'prank' 'psychedelic' 'queer' 'suicidal' 'whimsical'] \n",
            "\n",
            "Movie:  Junior\n",
            "Actual genre:  entertaining\n",
            "Predicted tag:  ['adult comedy' 'alternate reality' 'atmospheric' 'bleak' 'boring'\n",
            " 'comedy' 'cruelty' 'cult' 'dark' 'dramatic' 'flashback' 'gothic'\n",
            " 'historical' 'horror' 'insanity' 'magical realism' 'murder' 'neo noir'\n",
            " 'philosophical' 'pornographic' 'psychedelic' 'psychological' 'queer'\n",
            " 'sadist' 'satire' 'sentimental' 'storytelling' 'suspenseful'\n",
            " 'thought-provoking' 'tragedy' 'violence'] \n",
            "\n",
            "Movie:  Criminally Insane 2\n",
            "Actual genre:  murder\n",
            "Predicted tag:  ['bleak' 'cruelty' 'cute' 'gothic' 'horror' 'insanity' 'magical realism'\n",
            " 'murder' 'psychedelic' 'realism' 'suspenseful' 'tragedy'] \n",
            "\n",
            "Movie:  Le goût des autres\n",
            "Actual genre:  violence, entertaining, storytelling, romantic\n",
            "Predicted tag:  ['atmospheric' 'autobiographical' 'avant garde' 'bleak' 'boring' 'comedy'\n",
            " 'depressing' 'dramatic' 'entertaining' 'intrigue' 'melodrama'\n",
            " 'philosophical' 'plot twist' 'psychological' 'queer' 'romantic' 'satire'\n",
            " 'sentimental' 'storytelling' 'tragedy'] \n",
            "\n",
            "Movie:  Conflict\n",
            "Actual genre:  romantic, murder\n",
            "Predicted tag:  ['action' 'alternate history' 'blaxploitation' 'boring' 'cult' 'cute'\n",
            " 'depressing' 'entertaining' 'feel-good' 'historical fiction' 'humor'\n",
            " 'prank' 'romantic' 'violence'] \n",
            "\n"
          ],
          "name": "stdout"
        }
      ]
    },
    {
      "cell_type": "markdown",
      "metadata": {
        "colab_type": "text",
        "id": "Jtk5A_Joneai"
      },
      "source": [
        "<h1>Conclusion</h1>"
      ]
    },
    {
      "cell_type": "code",
      "metadata": {
        "colab_type": "code",
        "id": "J2VEpUwbneai",
        "outputId": "cd4f5ff5-7f93-421c-f741-c5c1b12fd56d",
        "colab": {
          "base_uri": "https://localhost:8080/",
          "height": 136
        }
      },
      "source": [
        "from prettytable import PrettyTable\n",
        "\n",
        "tabel = PrettyTable()\n",
        "\n",
        "tabel.field_names=['Model', 'Vectorizer', 'Precision','recall','f1_score']\n",
        "\n",
        "\n",
        "tabel.add_row(['SGDClassifier(log)', 'AVG W2V',  round(precision17, 3), round(recall17, 3), round(f1_score17, 3)])\n",
        "\n",
        "tabel.add_row(['SGDClassifier(hinge)','AVG W2V', round(precision18, 3),  round(recall18, 3), round(f1_score18, 3)])\n",
        "\n",
        "tabel.add_row(['LogisticRegression','AVG W2V', round(precision19, 3), round(recall19, 3), round(f1_score19, 3)])\n",
        "\n",
        "\n",
        "print(tabel)"
      ],
      "execution_count": 74,
      "outputs": [
        {
          "output_type": "stream",
          "text": [
            "+----------------------+------------+-----------+--------+----------+\n",
            "|        Model         | Vectorizer | Precision | recall | f1_score |\n",
            "+----------------------+------------+-----------+--------+----------+\n",
            "|  SGDClassifier(log)  |  AVG W2V   |   0.117   | 0.537  |  0.192   |\n",
            "| SGDClassifier(hinge) |  AVG W2V   |   0.092   | 0.582  |  0.159   |\n",
            "|  LogisticRegression  |  AVG W2V   |   0.129   | 0.629  |  0.214   |\n",
            "+----------------------+------------+-----------+--------+----------+\n"
          ],
          "name": "stdout"
        }
      ]
    },
    {
      "cell_type": "markdown",
      "metadata": {
        "colab_type": "text",
        "id": "8xJ-jHD7neak"
      },
      "source": [
        "__1.We Did not get the good result using AVGW2V__"
      ]
    },
    {
      "cell_type": "markdown",
      "metadata": {
        "colab_type": "text",
        "id": "-UQUmfW9neak"
      },
      "source": [
        "<h1>6. LSTM-CNN Model</h1>"
      ]
    },
    {
      "cell_type": "code",
      "metadata": {
        "colab_type": "code",
        "id": "cmWHp2VCneal",
        "colab": {}
      },
      "source": [
        "max_review_length = 400\n",
        "X_train = sequence.pad_sequences(X_train_multilabel, maxlen=max_review_length, padding='post')\n",
        "X_test = sequence.pad_sequences(X_test_multilabel, maxlen=max_review_length, padding='post')"
      ],
      "execution_count": 0,
      "outputs": []
    },
    {
      "cell_type": "code",
      "metadata": {
        "colab_type": "code",
        "id": "2-sxbv9Yneao",
        "colab": {}
      },
      "source": [
        "inputt = 8252\n",
        "batch_size = 32\n",
        "epochs = 10"
      ],
      "execution_count": 0,
      "outputs": []
    },
    {
      "cell_type": "code",
      "metadata": {
        "colab_type": "code",
        "id": "4EvAN71Aneaq",
        "outputId": "fba54a3f-0e75-491e-a411-92b9bdcdd4df",
        "colab": {
          "base_uri": "https://localhost:8080/",
          "height": 605
        }
      },
      "source": [
        "model = Sequential()\n",
        "\n",
        "model.add(Embedding(inputt, 50, input_length=max_review_length))\n",
        "\n",
        "model.add(LSTM(100, return_sequences=True))\n",
        "\n",
        "model.add(Dropout(0.2))\n",
        "\n",
        "model.add(BatchNormalization())\n",
        "\n",
        "model.add(LSTM(100, return_sequences=True))\n",
        "\n",
        "model.add(Dropout(0.2))\n",
        "\n",
        "model.add(BatchNormalization())\n",
        "\n",
        "model.add(LSTM(100, return_sequences=True))\n",
        "\n",
        "model.add(Dropout(0.2))\n",
        "\n",
        "model.add(Activation('relu'))\n",
        "\n",
        "model.add(BatchNormalization())\n",
        "\n",
        "model.add(GlobalMaxPooling1D())\n",
        "\n",
        "model.add(Dense(71, activation='sigmoid'))\n",
        "\n",
        "print(model.summary())"
      ],
      "execution_count": 77,
      "outputs": [
        {
          "output_type": "stream",
          "text": [
            "Model: \"sequential_1\"\n",
            "_________________________________________________________________\n",
            "Layer (type)                 Output Shape              Param #   \n",
            "=================================================================\n",
            "embedding_1 (Embedding)      (None, 400, 50)           412600    \n",
            "_________________________________________________________________\n",
            "lstm_1 (LSTM)                (None, 400, 100)          60400     \n",
            "_________________________________________________________________\n",
            "dropout_1 (Dropout)          (None, 400, 100)          0         \n",
            "_________________________________________________________________\n",
            "batch_normalization_1 (Batch (None, 400, 100)          400       \n",
            "_________________________________________________________________\n",
            "lstm_2 (LSTM)                (None, 400, 100)          80400     \n",
            "_________________________________________________________________\n",
            "dropout_2 (Dropout)          (None, 400, 100)          0         \n",
            "_________________________________________________________________\n",
            "batch_normalization_2 (Batch (None, 400, 100)          400       \n",
            "_________________________________________________________________\n",
            "lstm_3 (LSTM)                (None, 400, 100)          80400     \n",
            "_________________________________________________________________\n",
            "dropout_3 (Dropout)          (None, 400, 100)          0         \n",
            "_________________________________________________________________\n",
            "activation_1 (Activation)    (None, 400, 100)          0         \n",
            "_________________________________________________________________\n",
            "batch_normalization_3 (Batch (None, 400, 100)          400       \n",
            "_________________________________________________________________\n",
            "global_max_pooling1d_1 (Glob (None, 100)               0         \n",
            "_________________________________________________________________\n",
            "dense_1 (Dense)              (None, 71)                7171      \n",
            "=================================================================\n",
            "Total params: 642,171\n",
            "Trainable params: 641,571\n",
            "Non-trainable params: 600\n",
            "_________________________________________________________________\n",
            "None\n"
          ],
          "name": "stdout"
        }
      ]
    },
    {
      "cell_type": "code",
      "metadata": {
        "colab_type": "code",
        "id": "SquZarGzneas",
        "colab": {}
      },
      "source": [
        "model.compile(loss='categorical_crossentropy', optimizer='adam', metrics=['accuracy'])"
      ],
      "execution_count": 0,
      "outputs": []
    },
    {
      "cell_type": "code",
      "metadata": {
        "colab_type": "code",
        "id": "cQ59Eh3zneau",
        "outputId": "bd7d4d3c-918d-4c89-f618-148260e3371d",
        "colab": {
          "base_uri": "https://localhost:8080/",
          "height": 406
        }
      },
      "source": [
        "model.fit(X_train, y_train_multilabel, \n",
        "          batch_size = batch_size,\n",
        "          validation_data=(X_test, y_test_multilabel),\n",
        "          epochs=epochs)"
      ],
      "execution_count": 79,
      "outputs": [
        {
          "output_type": "stream",
          "text": [
            "Train on 10989 samples, validate on 2768 samples\n",
            "Epoch 1/10\n",
            "10989/10989 [==============================] - 550s 50ms/step - loss: 10.9269 - accuracy: 0.1259 - val_loss: 11.6958 - val_accuracy: 0.1358\n",
            "Epoch 2/10\n",
            "10989/10989 [==============================] - 545s 50ms/step - loss: 10.6147 - accuracy: 0.1421 - val_loss: 11.5913 - val_accuracy: 0.1358\n",
            "Epoch 3/10\n",
            "10989/10989 [==============================] - 544s 50ms/step - loss: 10.5880 - accuracy: 0.1421 - val_loss: 11.3198 - val_accuracy: 0.1358\n",
            "Epoch 4/10\n",
            "10989/10989 [==============================] - 544s 49ms/step - loss: 10.5796 - accuracy: 0.1421 - val_loss: 11.2531 - val_accuracy: 0.1358\n",
            "Epoch 5/10\n",
            "10989/10989 [==============================] - 541s 49ms/step - loss: 10.5758 - accuracy: 0.1421 - val_loss: 11.2143 - val_accuracy: 0.1358\n",
            "Epoch 6/10\n",
            "10989/10989 [==============================] - 540s 49ms/step - loss: 10.5703 - accuracy: 0.1421 - val_loss: 11.2298 - val_accuracy: 0.1358\n",
            "Epoch 7/10\n",
            "10989/10989 [==============================] - 541s 49ms/step - loss: 10.5731 - accuracy: 0.1421 - val_loss: 11.2156 - val_accuracy: 0.1358\n",
            "Epoch 8/10\n",
            "10989/10989 [==============================] - 542s 49ms/step - loss: 10.5734 - accuracy: 0.1421 - val_loss: 11.2241 - val_accuracy: 0.1358\n",
            "Epoch 9/10\n",
            "10989/10989 [==============================] - 542s 49ms/step - loss: 10.5742 - accuracy: 0.1421 - val_loss: 11.2352 - val_accuracy: 0.1358\n",
            "Epoch 10/10\n",
            "10989/10989 [==============================] - 541s 49ms/step - loss: 10.5736 - accuracy: 0.1421 - val_loss: 11.2824 - val_accuracy: 0.1358\n"
          ],
          "name": "stdout"
        },
        {
          "output_type": "execute_result",
          "data": {
            "text/plain": [
              "<keras.callbacks.callbacks.History at 0x7fc1d29a9278>"
            ]
          },
          "metadata": {
            "tags": []
          },
          "execution_count": 79
        }
      ]
    },
    {
      "cell_type": "code",
      "metadata": {
        "colab_type": "code",
        "id": "iyLpQCz2neav",
        "outputId": "7b7068c2-be81-4a64-dd1b-af108dd7848e",
        "colab": {
          "base_uri": "https://localhost:8080/",
          "height": 50
        }
      },
      "source": [
        "test_loss, test_acc = model.evaluate(X_test, y_test_multilabel, verbose=2)\n",
        "\n",
        "print('\\nTest accuracy:', test_acc)"
      ],
      "execution_count": 80,
      "outputs": [
        {
          "output_type": "stream",
          "text": [
            "\n",
            "Test accuracy: 0.13583815097808838\n"
          ],
          "name": "stdout"
        }
      ]
    },
    {
      "cell_type": "code",
      "metadata": {
        "id": "7DUbrgj83Cel",
        "colab_type": "code",
        "colab": {}
      },
      "source": [
        "model.save('lstm_model_all.h5') #Saving the Model for Future Use"
      ],
      "execution_count": 0,
      "outputs": []
    },
    {
      "cell_type": "code",
      "metadata": {
        "id": "VtGWQf0Y3Cem",
        "colab_type": "code",
        "colab": {}
      },
      "source": [
        "model = load_model('lstm_model_all.h5') #Loading the Model"
      ],
      "execution_count": 0,
      "outputs": []
    },
    {
      "cell_type": "code",
      "metadata": {
        "id": "kq0YjmX93Ceq",
        "colab_type": "code",
        "colab": {}
      },
      "source": [
        "model_prediction = model.predict(X_test, verbose=0)"
      ],
      "execution_count": 0,
      "outputs": []
    },
    {
      "cell_type": "code",
      "metadata": {
        "id": "62aFkt3M3Ces",
        "colab_type": "code",
        "colab": {
          "base_uri": "https://localhost:8080/",
          "height": 1000
        },
        "outputId": "85b7c085-e357-456b-d96f-c636ac6a5b8b"
      },
      "source": [
        "for i in range(5):\n",
        "    k = test.sample(1).index[0]\n",
        "    print(\"Movie: \", test['title'][k]) \n",
        "    print(\"Actual genre: \", y_test[k])\n",
        "    print(\"Predicted tag: \", cnt_vectorizer.inverse_transform(model_prediction[k])[0],\"\\n\")"
      ],
      "execution_count": 84,
      "outputs": [
        {
          "output_type": "stream",
          "text": [
            "Movie:  Scarlet Street\n",
            "Actual genre:  murder\n",
            "Predicted tag:  ['absurd' 'action' 'adult comedy' 'allegory' 'alternate history'\n",
            " 'alternate reality' 'anti war' 'atmospheric' 'autobiographical'\n",
            " 'avant garde' 'blaxploitation' 'bleak' 'boring' 'brainwashing'\n",
            " 'christian film' 'claustrophobic' 'clever' 'comedy' 'comic' 'cruelty'\n",
            " 'cult' 'cute' 'dark' 'depressing' 'dramatic' 'entertaining' 'fantasy'\n",
            " 'feel-good' 'flashback' 'good versus evil' 'gothic' 'grindhouse film'\n",
            " 'haunting' 'historical' 'historical fiction' 'home movie' 'horror'\n",
            " 'humor' 'insanity' 'inspiring' 'intrigue' 'magical realism' 'melodrama'\n",
            " 'murder' 'mystery' 'neo noir' 'non fiction' 'paranormal' 'philosophical'\n",
            " 'plot twist' 'pornographic' 'prank' 'psychedelic' 'psychological' 'queer'\n",
            " 'realism' 'revenge' 'romantic' 'sadist' 'satire' 'sci-fi' 'sentimental'\n",
            " 'storytelling' 'stupid' 'suicidal' 'suspenseful' 'thought-provoking'\n",
            " 'tragedy' 'violence' 'western' 'whimsical'] \n",
            "\n",
            "Movie:  Day of the Dead\n",
            "Actual genre:  comedy, suspenseful, grindhouse film, murder, cult, horror, violence, insanity, satire, claustrophobic, revenge, sadist\n",
            "Predicted tag:  ['absurd' 'action' 'adult comedy' 'allegory' 'alternate history'\n",
            " 'alternate reality' 'anti war' 'atmospheric' 'autobiographical'\n",
            " 'avant garde' 'blaxploitation' 'bleak' 'boring' 'brainwashing'\n",
            " 'christian film' 'claustrophobic' 'clever' 'comedy' 'comic' 'cruelty'\n",
            " 'cult' 'cute' 'dark' 'depressing' 'dramatic' 'entertaining' 'fantasy'\n",
            " 'feel-good' 'flashback' 'good versus evil' 'gothic' 'grindhouse film'\n",
            " 'haunting' 'historical' 'historical fiction' 'home movie' 'horror'\n",
            " 'humor' 'insanity' 'inspiring' 'intrigue' 'magical realism' 'melodrama'\n",
            " 'murder' 'mystery' 'neo noir' 'non fiction' 'paranormal' 'philosophical'\n",
            " 'plot twist' 'pornographic' 'prank' 'psychedelic' 'psychological' 'queer'\n",
            " 'realism' 'revenge' 'romantic' 'sadist' 'satire' 'sci-fi' 'sentimental'\n",
            " 'storytelling' 'stupid' 'suicidal' 'suspenseful' 'thought-provoking'\n",
            " 'tragedy' 'violence' 'western' 'whimsical'] \n",
            "\n",
            "Movie:  Zeus and Roxanne\n",
            "Actual genre:  romantic\n",
            "Predicted tag:  ['absurd' 'action' 'adult comedy' 'allegory' 'alternate history'\n",
            " 'alternate reality' 'anti war' 'atmospheric' 'autobiographical'\n",
            " 'avant garde' 'blaxploitation' 'bleak' 'boring' 'brainwashing'\n",
            " 'christian film' 'claustrophobic' 'clever' 'comedy' 'comic' 'cruelty'\n",
            " 'cult' 'cute' 'dark' 'depressing' 'dramatic' 'entertaining' 'fantasy'\n",
            " 'feel-good' 'flashback' 'good versus evil' 'gothic' 'grindhouse film'\n",
            " 'haunting' 'historical' 'historical fiction' 'home movie' 'horror'\n",
            " 'humor' 'insanity' 'inspiring' 'intrigue' 'magical realism' 'melodrama'\n",
            " 'murder' 'mystery' 'neo noir' 'non fiction' 'paranormal' 'philosophical'\n",
            " 'plot twist' 'pornographic' 'prank' 'psychedelic' 'psychological' 'queer'\n",
            " 'realism' 'revenge' 'romantic' 'sadist' 'satire' 'sci-fi' 'sentimental'\n",
            " 'storytelling' 'stupid' 'suicidal' 'suspenseful' 'thought-provoking'\n",
            " 'tragedy' 'violence' 'western' 'whimsical'] \n",
            "\n",
            "Movie:  Babylon 5: In the Beginning\n",
            "Actual genre:  cult\n",
            "Predicted tag:  ['absurd' 'action' 'adult comedy' 'allegory' 'alternate history'\n",
            " 'alternate reality' 'anti war' 'atmospheric' 'autobiographical'\n",
            " 'avant garde' 'blaxploitation' 'bleak' 'boring' 'brainwashing'\n",
            " 'christian film' 'claustrophobic' 'clever' 'comedy' 'comic' 'cruelty'\n",
            " 'cult' 'cute' 'dark' 'depressing' 'dramatic' 'entertaining' 'fantasy'\n",
            " 'feel-good' 'flashback' 'good versus evil' 'gothic' 'grindhouse film'\n",
            " 'haunting' 'historical' 'historical fiction' 'home movie' 'horror'\n",
            " 'humor' 'insanity' 'inspiring' 'intrigue' 'magical realism' 'melodrama'\n",
            " 'murder' 'mystery' 'neo noir' 'non fiction' 'paranormal' 'philosophical'\n",
            " 'plot twist' 'pornographic' 'prank' 'psychedelic' 'psychological' 'queer'\n",
            " 'realism' 'revenge' 'romantic' 'sadist' 'satire' 'sci-fi' 'sentimental'\n",
            " 'storytelling' 'stupid' 'suicidal' 'suspenseful' 'thought-provoking'\n",
            " 'tragedy' 'violence' 'western' 'whimsical'] \n",
            "\n",
            "Movie:  System Shock 2\n",
            "Actual genre:  sci-fi\n",
            "Predicted tag:  ['absurd' 'action' 'adult comedy' 'allegory' 'alternate history'\n",
            " 'alternate reality' 'anti war' 'atmospheric' 'autobiographical'\n",
            " 'avant garde' 'blaxploitation' 'bleak' 'boring' 'brainwashing'\n",
            " 'christian film' 'claustrophobic' 'clever' 'comedy' 'comic' 'cruelty'\n",
            " 'cult' 'cute' 'dark' 'depressing' 'dramatic' 'entertaining' 'fantasy'\n",
            " 'feel-good' 'flashback' 'good versus evil' 'gothic' 'grindhouse film'\n",
            " 'haunting' 'historical' 'historical fiction' 'home movie' 'horror'\n",
            " 'humor' 'insanity' 'inspiring' 'intrigue' 'magical realism' 'melodrama'\n",
            " 'murder' 'mystery' 'neo noir' 'non fiction' 'paranormal' 'philosophical'\n",
            " 'plot twist' 'pornographic' 'prank' 'psychedelic' 'psychological' 'queer'\n",
            " 'realism' 'revenge' 'romantic' 'sadist' 'satire' 'sci-fi' 'sentimental'\n",
            " 'storytelling' 'stupid' 'suicidal' 'suspenseful' 'thought-provoking'\n",
            " 'tragedy' 'violence' 'western' 'whimsical'] \n",
            "\n"
          ],
          "name": "stdout"
        }
      ]
    }
  ]
}